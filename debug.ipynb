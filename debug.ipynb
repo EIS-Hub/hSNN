{
 "cells": [
  {
   "cell_type": "code",
   "execution_count": 1,
   "metadata": {},
   "outputs": [
    {
     "name": "stderr",
     "output_type": "stream",
     "text": [
      "WARNING: All log messages before absl::InitializeLog() is called are written to STDERR\n",
      "I0000 00:00:1710753929.131839       1 tfrt_cpu_pjrt_client.cc:349] TfrtCpuClient created.\n"
     ]
    },
    {
     "data": {
      "text/plain": [
       "[CpuDevice(id=0)]"
      ]
     },
     "execution_count": 1,
     "metadata": {},
     "output_type": "execute_result"
    }
   ],
   "source": [
    "import jax\n",
    "import jax.numpy as jnp\n",
    "from jax.example_libraries import optimizers\n",
    "\n",
    "import matplotlib.pyplot as plt\n",
    "import numpy as np\n",
    "import os\n",
    "import time\n",
    "import random\n",
    "\n",
    "from jax import vmap, pmap, jit, value_and_grad, local_device_count\n",
    "from jax.example_libraries import optimizers\n",
    "from jax.lax import scan, cond\n",
    "import pickle\n",
    "\n",
    "os.environ[\"XLA_PYTHON_CLIENT_MEM_FRACTION\"]=\".75\" # needed because network is huge\n",
    "os.environ[\"CUDA_VISIBLE_DEVICES\"]=\"0\"\n",
    "jax.devices()"
   ]
  },
  {
   "cell_type": "markdown",
   "metadata": {},
   "source": [
    "## Parameters of the SNN model\n",
    "---"
   ]
  },
  {
   "cell_type": "code",
   "execution_count": 2,
   "metadata": {},
   "outputs": [],
   "source": [
    "from utils_initialization import args"
   ]
  },
  {
   "cell_type": "markdown",
   "metadata": {},
   "source": [
    "## Download and Import the SHD dataset\n",
    "---"
   ]
  },
  {
   "cell_type": "code",
   "execution_count": 3,
   "metadata": {},
   "outputs": [
    {
     "name": "stdout",
     "output_type": "stream",
     "text": [
      "Train DL size: 8156, Validation DL size: 1632, Test DL size: 2264\n"
     ]
    }
   ],
   "source": [
    "from utils_dataset import get_dataloader\n",
    "train_loader_custom_collate, val_loader_custom_collate, test_loader_custom_collate = get_dataloader( args=args, verbose=True )"
   ]
  },
  {
   "cell_type": "code",
   "execution_count": 4,
   "metadata": {},
   "outputs": [
    {
     "name": "stdout",
     "output_type": "stream",
     "text": [
      "Our Dataloader\n",
      "Mean Firing Rate on Test set: 0.1174876764294733\n",
      "Channels 0-100 Firing rate: 0.00706328125\n",
      "Channels 100-200 Firing rate: 0.010424175347222222\n",
      "Channels 200-300 Firing rate: 0.029488557449494954\n",
      "Channels 300-400 Firing rate: 0.08849810606060604\n",
      "Channels 400-500 Firing rate: 0.20145490451388887\n",
      "Channels 500-600 Firing rate: 0.29815841619318184\n",
      "Channels 600-700 Firing rate: 0.18732629419191915\n"
     ]
    },
    {
     "name": "stderr",
     "output_type": "stream",
     "text": [
      "/Users/filippomoro/Documents/hsnn/spikin_datasets.py:75: UserWarning: torch.sparse.SparseTensor(indices, values, shape, *, device=) is deprecated.  Please use torch.sparse_coo_tensor(indices, values, shape, dtype=, device=). (Triggered internally at /Users/runner/work/pytorch/pytorch/pytorch/torch/csrc/utils/tensor_new.cpp:620.)\n",
      "  x = torch.sparse.FloatTensor(x_idx, x_val, x_size).to(self.device)\n"
     ]
    },
    {
     "name": "stdout",
     "output_type": "stream",
     "text": [
      "\n",
      "Bittar Dataloader\n",
      "Mean Firing Rate on Test set: 0.11748767644166946\n",
      "Channels 0-100 Firing rate: 0.00706328172236681\n",
      "Channels 100-200 Firing rate: 0.01042417623102665\n",
      "Channels 200-300 Firing rate: 0.02948855422437191\n",
      "Channels 300-400 Firing rate: 0.08849810808897018\n",
      "Channels 400-500 Firing rate: 0.20145492255687714\n",
      "Channels 500-600 Firing rate: 0.2981584072113037\n",
      "Channels 600-700 Firing rate: 0.18732629716396332\n"
     ]
    },
    {
     "data": {
      "text/plain": [
       "<matplotlib.legend.Legend at 0x2b17e47f0>"
      ]
     },
     "execution_count": 4,
     "metadata": {},
     "output_type": "execute_result"
    },
    {
     "data": {
      "image/png": "[encoded data removed]",
      "text/plain": [
       "<Figure size 640x480 with 1 Axes>"
      ]
     },
     "metadata": {},
     "output_type": "display_data"
    }
   ],
   "source": [
    "mean_spikes = []\n",
    "for step, (x, y) in enumerate(test_loader_custom_collate):\n",
    "    mean_spikes.append( x.mean(axis=(0,1)) )\n",
    "mean_activity = np.mean(mean_spikes, axis=0)\n",
    "# np.mean( mean_activity ), np.max(mean_activity), np.min(mean_activity), mean_activity.shape\n",
    "\n",
    "print('Our Dataloader')\n",
    "print(f'Mean Firing Rate on Test set: {np.mean( mean_activity )}')\n",
    "act_channels = []\n",
    "for i in range(7):\n",
    "    print( f'Channels {i*100}-{(i+1)*100} Firing rate: { np.mean( mean_activity[i*100:(i+1)*100] ) }' )\n",
    "    act_channels.append( np.mean( mean_activity[i*100:(i+1)*100] ) )\n",
    "\n",
    "\n",
    "# Loading dataloader from Bittar\n",
    "from spikin_datasets import load_shd_or_ssc\n",
    "test_loader_sparch = load_shd_or_ssc( \n",
    "    dataset_name = 'shd',\n",
    "    data_folder = '/Users/filippomoro/Desktop/KINGSTONE/Datasets/SHD/audiospikes',\n",
    "    split = 'test',\n",
    "    batch_size = 128,\n",
    "    nb_steps=100,\n",
    "    shuffle=False,\n",
    "    workers=0,\n",
    " )\n",
    "\n",
    "mean_spikes_bittar = []\n",
    "for step, (x, y) in enumerate(test_loader_sparch):\n",
    "    mean_spikes_bittar.append( x.mean(axis=(0,1)) )\n",
    "mean_activity_bittar = np.mean(mean_spikes_bittar, axis=0)\n",
    "# np.mean( mean_activity ), np.max(mean_activity), np.min(mean_activity), mean_activity.shape\n",
    "print('\\nBittar Dataloader')\n",
    "print(f'Mean Firing Rate on Test set: {np.mean( mean_activity_bittar )}')\n",
    "act_channels_bittar = []\n",
    "for i in range(7):\n",
    "    print( f'Channels {i*100}-{(i+1)*100} Firing rate: { np.mean( mean_activity_bittar[i*100:(i+1)*100] ) }' )\n",
    "    act_channels_bittar.append( np.mean( mean_activity_bittar[i*100:(i+1)*100] ) )\n",
    "\n",
    "fig, ax = plt.subplots( )\n",
    "ax.bar( np.arange(7), act_channels, alpha=0.75, width=0.25, label='OUR' )\n",
    "ax.bar( np.arange(7)+0.25, act_channels_bittar, alpha=0.75, width=0.25, label='Bittar' )\n",
    "ax.set_ylabel('Firing Rate [a.u.]', size=12)\n",
    "ax.set_xlabel('Channel-band [x100]', size=12)\n",
    "ax.legend(prop={'size':12})"
   ]
  },
  {
   "cell_type": "code",
   "execution_count": null,
   "metadata": {},
   "outputs": [],
   "source": [
    "import torch\n",
    "from torch.utils.data import TensorDataset, DataLoader\n",
    "from torch.utils.data import random_split\n",
    "from spikin_datasets import SpikingDataset\n",
    "from torch.utils.data import DataLoader\n",
    "from utils_dataset import custom_collate_fn\n",
    "\n",
    "# import dataset\n",
    "train_ds = SpikingDataset('shd', '/Users/filippomoro/Desktop/KINGSTONE/Datasets/SHD/audiospikes', 'train', args.nb_steps) # print(len(train_ds[0]))\n",
    "test_ds  = SpikingDataset('shd', '/Users/filippomoro/Desktop/KINGSTONE/Datasets/SHD/audiospikes', 'test', args.nb_steps) # print(len(train_ds[0]))\n",
    "\n",
    "# Set random seeds for reproducibility\n",
    "torch.manual_seed(args.seed)\n",
    "np.random.seed(args.seed)\n",
    "random.seed(args.seed)\n",
    "\n",
    "train_size = int(0.99 * len(train_ds))\n",
    "val_size   = len(train_ds) - train_size\n",
    "# train_ds_split = train_ds\n",
    "train_ds_split, val_ds_split = random_split(train_ds, [train_size, val_size])\n",
    "print(f'Train DL size: {len(train_ds)}, Validation DL size: {len(val_ds_split)}, Test DL size: {len(test_ds)}')\n",
    "\n",
    "train_loader_custom_collate = DataLoader(train_ds_split, args.batch_size, shuffle=True, collate_fn=custom_collate_fn)\n",
    "val_loader_custom_collate   = DataLoader(val_ds_split,   args.batch_size, shuffle=None, collate_fn=custom_collate_fn)\n",
    "test_loader_custom_collate  = DataLoader(test_ds,        args.batch_size, shuffle=None, collate_fn=custom_collate_fn)"
   ]
  },
  {
   "cell_type": "markdown",
   "metadata": {},
   "source": [
    "# Importing the model\n",
    "---"
   ]
  },
  {
   "cell_type": "code",
   "execution_count": 5,
   "metadata": {},
   "outputs": [],
   "source": [
    "from models import *\n",
    "from utils_initialization import *"
   ]
  },
  {
   "cell_type": "code",
   "execution_count": null,
   "metadata": {},
   "outputs": [],
   "source": [
    "def lif_step( args_in, input_spikes ):\n",
    "    ''' Forward function for the Leaky-Integrate and Fire neuron layer, adopted here for the hidden layers. '''\n",
    "    net_params, net_states = args_in\n",
    "    # state: the parameters (weights) and the state of the neurons (spikes, inputs and membrane, ecc..)\n",
    "    w, alpha = net_params; w_mask, tau, V_mem, out_spikes, v_thr, noise_sd = net_states\n",
    "\n",
    "    # V_mem = (alpha) * (V_mem - out_spikes) + (1-alpha) * I_in #- out_spikes*v_thr\n",
    "    # V_mem = (alpha) * (V_mem - out_spikes) + I_in #- out_spikes*v_thr\n",
    "    V_mem = alpha * V_mem + input_spikes - out_spikes*v_thr\n",
    "    out_spikes = spiking_fn( V_mem, v_thr )\n",
    "    \n",
    "    return [ [w, alpha], [w_mask, tau, V_mem, out_spikes, v_thr, noise_sd] ], out_spikes\n",
    "\n",
    "\n",
    "# Leaky Integrate and Fire layer, Recurrent\n",
    "def rlif_step( args_in, input_spikes):\n",
    "    ''' Forward function for the Leaky-Integrate and Fire neuron layer, adopted here for the hidden layers. '''\n",
    "    net_params, net_states = args_in\n",
    "    # state: the parameters (weights) and the state of the neurons (spikes, inputs and membrane, ecc..)\n",
    "    w, alpha = net_params; w_mask, tau, V_mem, out_spikes, v_thr, noise_sd = net_states\n",
    "    win_mask, wrec_mask = w_mask\n",
    "    if len(w) == 3: # it means that we'll do normalization\n",
    "        weight, scale, bias = w\n",
    "    else: weight = w\n",
    "    win, wrec = weight\n",
    "    w_rec_diag_zeros = jnp.ones_like(wrec) - jnp.eye( wrec.shape[0] )\n",
    "\n",
    "    # we evolve the state of the neuron according to the LIF formula, Euler approximation\n",
    "    I_rec = jnp.matmul(out_spikes, wrec*wrec_mask*w_rec_diag_zeros)\n",
    "    # V_mem = (alpha) * (V_mem) + (1-alpha) * I_in - out_spikes*v_thr\n",
    "    V_mem = alpha * V_mem + input_spikes + I_rec - out_spikes*v_thr\n",
    "    # V_mem = alpha * (V_mem - out_spikes) + (1-alpha) * ( I_in_norm )\n",
    "    # V_mem = alpha * (V_mem - out_spikes) + (1) * ( I_in_norm )\n",
    "    out_spikes = spiking_fn( V_mem, v_thr )\n",
    "    \n",
    "    return [ [w, alpha], [w_mask, tau, V_mem, out_spikes, v_thr, noise_sd] ], out_spikes\n",
    "\n",
    "# Leaky Integrator (output layer)\n",
    "def li_step(args_in, input_spikes):\n",
    "    ''' Forward function for the Leaky-Integrator neuron layer, adopted here for the output layers. '''\n",
    "    net_params, net_states = args_in\n",
    "    # state: the parameters (weights) and the state of the neurons (inputs and membrane)\n",
    "    w, alpha = net_params; w_mask, tau, V_mem, out_spikes, v_thr, noise_sd = net_states\n",
    "\n",
    "    # we evolve the state of the neuron according to the LI formula, Euler approximation\n",
    "    V_mem = (alpha) * (V_mem) + (1-alpha) * input_spikes\n",
    "    # V_mem = (alpha) * (V_mem) + input_spikes\n",
    "    \n",
    "    return [ [w, alpha], [w_mask, tau, V_mem, out_spikes, v_thr, noise_sd] ], V_mem\n",
    "\n",
    "# parallelizing the Single Layer\n",
    "@jit\n",
    "def scan_layer( args_in, input_spikes ):\n",
    "    args_out_layer, out_spikes_layer = scan( layer, args_in, input_spikes, length=args.nb_steps )\n",
    "    return args_out_layer, out_spikes_layer\n",
    "vscan_layer = vmap( scan_layer, in_axes=(None, 0))\n",
    "\n",
    "@jit\n",
    "def scan_out_layer( args_in, input_spikes ):\n",
    "    args_out_layer, out_spikes_layer = scan( layer_out, args_in, input_spikes, length=args.nb_steps )\n",
    "    return args_out_layer, out_spikes_layer\n",
    "vscan_layer_out = vmap( scan_out_layer, in_axes=(None, 0))\n",
    "\n",
    "@jit\n",
    "def hsnn( args_in, input_spikes ):\n",
    "    net_params, net_states, key, dropout_rate = args_in\n",
    "    n_layers = len( net_params )\n",
    "    # collection of output spikes\n",
    "    out_spike_net = []\n",
    "    # Loop over the layers\n",
    "    for l in range(n_layers):\n",
    "        if l == 0: layer_input_spike = input_spikes\n",
    "        else: layer_input_spike = out_spikes_layer\n",
    "        # making layers' params and states explitic\n",
    "        # parameters (weights and alpha) and the state of the neurons (spikes, inputs and membrane, ecc..)\n",
    "        w, alpha = net_params[l]; w_mask, tau, V_mem, out_spikes, v_thr, noise_sd = net_states[l]\n",
    "        if len(w) == 3: # it means that we'll do normalization\n",
    "            weight, scale, bias = w\n",
    "        else: weight = w\n",
    "        if len(weight) ==2: weight, _ = weight\n",
    "        # we evolve the state of the neuron according to the LIF formula, Euler approximation\n",
    "        I_in = jnp.matmul(layer_input_spike, weight)\n",
    "        # Normalization (if selected)\n",
    "        if len(w) == 3: # it means that we'll do normalization\n",
    "            b, t, n = I_in.shape\n",
    "            I_in = norm( I_in.reshape( b*t, n ), bias = bias, scale = scale )\n",
    "            I_in = I_in.reshape( b,t,n ) # normalized input current\n",
    "        # Forward pass of the Layer\n",
    "        args_in = [net_params[l], net_states[l]]\n",
    "        if l+1 == n_layers:\n",
    "            _, out_spikes_layer = vscan_layer_out( args_in, I_in )\n",
    "        else: \n",
    "            _, out_spikes_layer = vscan_layer( args_in, I_in )\n",
    "            # Dropout\n",
    "            key, key_dropout = jax.random.split(key, 2)\n",
    "            out_spikes_layer = dropout( key_dropout, out_spikes_layer, rate=dropout_rate, deterministic=False )\n",
    "        out_spike_net.append(out_spikes_layer)\n",
    "    return out_spikes_layer, out_spike_net\n"
   ]
  },
  {
   "cell_type": "code",
   "execution_count": null,
   "metadata": {},
   "outputs": [],
   "source": [
    "plt.imshow( out_spikes_layer[0].T )"
   ]
  },
  {
   "cell_type": "code",
   "execution_count": null,
   "metadata": {},
   "outputs": [],
   "source": [
    "plt.imshow( I_in[0].T )"
   ]
  },
  {
   "cell_type": "code",
   "execution_count": null,
   "metadata": {},
   "outputs": [],
   "source": [
    "plt.imshow( out_spikes_vlayer[10].T )"
   ]
  },
  {
   "cell_type": "markdown",
   "metadata": {},
   "source": [
    "## Normalization Layer debug"
   ]
  },
  {
   "cell_type": "code",
   "execution_count": 6,
   "metadata": {},
   "outputs": [],
   "source": [
    "from models import *\n",
    "from utils_initialization import *"
   ]
  },
  {
   "cell_type": "code",
   "execution_count": 8,
   "metadata": {},
   "outputs": [],
   "source": [
    "# Normalization Layers\n",
    "from typing import (Any, Callable, Iterable, Optional, Tuple, Union)\n",
    "\n",
    "PRNGKey = Any\n",
    "Array = Any\n",
    "Shape = Tuple[int, ...]\n",
    "Dtype = Any  # this could be a real type?\n",
    "\n",
    "Axes = Union[int, Iterable[int]]\n",
    "\n",
    "def _canonicalize_axes(rank: int, axes: Axes) -> Tuple[int, ...]:\n",
    "    \"\"\"Returns a tuple of deduplicated, sorted, and positive axes.\"\"\"\n",
    "    if not isinstance(axes, Iterable):\n",
    "        axes = (axes,)\n",
    "    return tuple(set([rank + axis if axis < 0 else axis for axis in axes]))\n",
    "\n",
    "\n",
    "def _abs_sq(x):\n",
    "    \"\"\"Computes the elementwise square of the absolute value |x|^2.\"\"\"\n",
    "    if jnp.iscomplexobj(x):\n",
    "        return jax.lax.square(jax.lax.real(x)) + jax.lax.square(jax.lax.imag(x))\n",
    "    else:\n",
    "        return jax.lax.square(x)\n",
    "\n",
    "def _compute_stats(x: Array, axes: Axes,\n",
    "                   dtype: Optional[Dtype],\n",
    "                   axis_name: Optional[str] = None,\n",
    "                   axis_index_groups: Any = None):\n",
    "    \"\"\"Computes mean and variance statistics.\n",
    "    Returns:\n",
    "      A pair ``(mean, var)``.\n",
    "    \"\"\"\n",
    "    if dtype is None:\n",
    "      dtype = jnp.result_type(x)\n",
    "    # promote x to at least float32, this avoids half precision computation\n",
    "    # but preserves double or complex floating points\n",
    "    dtype = jnp.promote_types(dtype, jnp.float32)\n",
    "    x = jnp.asarray(x, dtype)\n",
    "\n",
    "    mean = jnp.mean(x, axes)\n",
    "    mean2 = jnp.mean(_abs_sq(x), axes)\n",
    "    if axis_name is not None:\n",
    "      concatenated_mean = jnp.concatenate([mean, mean2])\n",
    "      mean, mean2 = jnp.split(\n",
    "          jax.lax.pmean(\n",
    "              concatenated_mean,\n",
    "              axis_name=axis_name,\n",
    "              axis_index_groups=axis_index_groups), 2)\n",
    "    # mean2 - _abs_sq(mean) is not guaranteed to be non-negative due\n",
    "    # to floating point round-off errors.\n",
    "    var = jnp.maximum(0., mean2 - _abs_sq(mean))\n",
    "    return mean, var\n",
    "\n",
    "\n",
    "def _normalize(x: Array, mean: Array, var: Array,\n",
    "               reduction_axes: Axes, feature_axes: Axes,\n",
    "               dtype: Dtype, param_dtype: Dtype,\n",
    "               epsilon: float,\n",
    "               bias: Array,\n",
    "               scale: Array):\n",
    "    \"\"\"\"Normalizes the input of a normalization layer and optionally applies a learned scale and bias.\n",
    "\n",
    "    Arguments:\n",
    "    mdl: Module to apply the normalization in (normalization params will reside\n",
    "        in this module).\n",
    "    x: The input.\n",
    "    mean: Mean to use for normalization.\n",
    "    var: Variance to use for normalization.\n",
    "    reduction_axes: The axes in ``x`` to reduce.\n",
    "    feature_axes: Axes containing features. A separate bias and scale is learned\n",
    "        for each specified feature.\n",
    "    dtype: The dtype of the result (default: infer from input and params).\n",
    "    param_dtype: The dtype of the parameters.\n",
    "    epsilon: Normalization epsilon.\n",
    "    use_bias: If true, add a bias term to the output.\n",
    "    use_scale: If true, scale the output.\n",
    "    bias_init: Initialization function for the bias term.\n",
    "    scale_init: Initialization function for the scaling function.\n",
    "\n",
    "    Returns:\n",
    "    The normalized input.\n",
    "    \"\"\"\n",
    "    reduction_axes = _canonicalize_axes(x.ndim, reduction_axes)\n",
    "    feature_axes = _canonicalize_axes(x.ndim, feature_axes)\n",
    "    stats_shape = list(x.shape)\n",
    "    for axis in reduction_axes:\n",
    "        stats_shape[axis] = 1\n",
    "    mean = mean.reshape(stats_shape)\n",
    "    var = var.reshape(stats_shape)\n",
    "    feature_shape = [1] * x.ndim\n",
    "    reduced_feature_shape = []\n",
    "    for ax in feature_axes:\n",
    "        feature_shape[ax] = x.shape[ax]\n",
    "        reduced_feature_shape.append(x.shape[ax])\n",
    "    y = x - mean\n",
    "    mul = jax.lax.rsqrt(var + epsilon)\n",
    "    args = [x]\n",
    "    # scale = mdl.param('scale', scale_init, reduced_feature_shape,\n",
    "    #                     param_dtype).reshape(feature_shape)\n",
    "    mul *= scale\n",
    "    args.append(scale)\n",
    "    y *= mul\n",
    "    # bias = mdl.param('bias', bias_init, reduced_feature_shape,\n",
    "    #                     param_dtype).reshape(feature_shape)\n",
    "    y += bias\n",
    "    args.append(bias)\n",
    "    #   dtype = canonicalize_dtype(*args, dtype=dtype)\n",
    "    return jnp.asarray(y)"
   ]
  },
  {
   "cell_type": "code",
   "execution_count": 9,
   "metadata": {},
   "outputs": [],
   "source": [
    "def BatchNorm1d( x, epsilon: float = 1e-5, bias = jax.nn.initializers.zeros, scale = jax.nn.initializers.ones ):\n",
    "    mean, var = x.mean( axis=0 ), x.std( axis=0 )\n",
    "    return ( x - mean ) * jax.lax.rsqrt(var + epsilon) * scale + bias"
   ]
  },
  {
   "cell_type": "code",
   "execution_count": 10,
   "metadata": {},
   "outputs": [
    {
     "name": "stdout",
     "output_type": "stream",
     "text": [
      "1.4482066e-07 0.9999831\n",
      "1.4482066e-07 0.9999831\n",
      "[ 9.6857548e-08  5.3085387e-07 -2.7194619e-07 -1.5832484e-07] [0.9999738 0.9999815 0.9999896 0.9999858]\n",
      "[ 7.0780516e-08  5.2899122e-07 -2.6449561e-07 -1.5273690e-07] [0.9356177  1.0124657  0.91177166 0.9353869 ]\n"
     ]
    }
   ],
   "source": [
    "###################\n",
    "## NORMALIZATION ##\n",
    "###################\n",
    "from utils_normalization import *\n",
    "\n",
    "key = jax.random.PRNGKey(seed=args.seed)\n",
    "x = jax.random.normal( key, [128,4], dtype=jnp.float32 ) + 10\n",
    "mean, var = _compute_stats(x, axes=-1, dtype=jnp.float32)\n",
    "# print( mean, var )\n",
    "\n",
    "y = _normalize(x, mean, var,\n",
    "               reduction_axes = -1, feature_axes = -1,\n",
    "               dtype= jnp.float32, param_dtype = jnp.float32,\n",
    "               epsilon = 1e-6,\n",
    "               bias = jnp.zeros( (x.shape[-1]) ),\n",
    "               scale = jnp.ones( (x.shape[-1]) ))\n",
    "# print( jnp.mean(y, axis=-1), jnp.var(y, axis=-1) )\n",
    "print( jnp.mean(y), jnp.var(y) )\n",
    "\n",
    "ynorm = LayerNorm( x, bias = jnp.zeros( (x.shape[-1]) ),\n",
    "               scale = jnp.ones( (x.shape[-1]) ) )\n",
    "# print( jnp.mean(ynorm, axis=-1), jnp.var(ynorm, axis=-1) )\n",
    "print( jnp.mean(ynorm), jnp.var(ynorm) )\n",
    "\n",
    "yBnorm = BatchNorm( x, bias = jnp.zeros( (x.shape[-1]) ),\n",
    "               scale = jnp.ones( (x.shape[-1]) ) )\n",
    "# print( jnp.mean(yBnorm), jnp.var(yBnorm) )\n",
    "print( jnp.mean(yBnorm, axis=0), jnp.var(yBnorm, axis=0) )\n",
    "\n",
    "yBnorm1d = BatchNorm1d( x, bias = jnp.zeros( (x.shape[-1]) ),\n",
    "               scale = jnp.ones( (x.shape[-1]) ) )\n",
    "# print( jnp.mean(yBnorm), jnp.var(yBnorm) )\n",
    "print( jnp.mean(yBnorm1d, axis=0), jnp.var(yBnorm1d, axis=0) )"
   ]
  },
  {
   "cell_type": "code",
   "execution_count": 11,
   "metadata": {},
   "outputs": [
    {
     "name": "stdout",
     "output_type": "stream",
     "text": [
      "[-5.0058588e-07 -9.6578151e-07  1.0244548e-08  7.9604797e-07] [1.0000117  1.0000201  0.99998796 0.9999766 ]\n",
      "0.99999905\n",
      "[0.5000058  0.5000101  0.49999398 0.49998817]\n",
      "[-2.5029294e-07 -4.8289075e-07  5.1222742e-09  3.9802399e-07]\n"
     ]
    }
   ],
   "source": [
    "key = jax.random.PRNGKey(seed=args.seed)\n",
    "x = jax.random.normal( key, [1024,4], dtype=jnp.float32 ) + 10\n",
    "\n",
    "yBnorm1d = BatchNorm( x, bias = jnp.zeros( (x.shape[-1]) ),\n",
    "               scale = jnp.ones( (x.shape[-1]) ) )\n",
    "# print( jnp.mean(yBnorm), jnp.var(yBnorm) )\n",
    "print( jnp.mean(yBnorm1d, axis=0), jnp.var(yBnorm1d, axis=0) )\n",
    "\n",
    "def loss_bn_jax(x, params):\n",
    "    scale, bias = params\n",
    "    yBnorm1d = BatchNorm( x, bias = bias, scale = scale )\n",
    "    return jnp.square(yBnorm1d).mean()\n",
    "\n",
    "params = [ jnp.ones( (x.shape[-1]), dtype=jnp.float32 ), jnp.zeros( (x.shape[-1]), dtype=jnp.float32 ) ]\n",
    "value, grads = value_and_grad(loss_bn_jax, has_aux=False, argnums=(1))(x, params)\n",
    "print( value )\n",
    "print( grads[0] )\n",
    "print( grads[1] )"
   ]
  },
  {
   "cell_type": "code",
   "execution_count": 12,
   "metadata": {},
   "outputs": [
    {
     "name": "stdout",
     "output_type": "stream",
     "text": [
      "tensor([-2.8685e-07,  7.3016e-07, -7.6368e-07, -1.9372e-07],\n",
      "       grad_fn=<MeanBackward1>) tensor([1.0010, 1.0010, 1.0010, 1.0010], grad_fn=<VarBackward0>)\n",
      "tensor([0.5000, 0.5000, 0.5000, 0.5000])\n",
      "tensor([-1.4482e-07,  3.6252e-07, -3.8208e-07, -9.7789e-08])\n"
     ]
    }
   ],
   "source": [
    "import torch\n",
    "xtorch = torch.from_numpy( np.array(x) ).type(torch.float32)\n",
    "\n",
    "BN = torch.nn.BatchNorm1d( num_features=x.shape[1], track_running_stats=False, dtype=torch.float32 )\n",
    "yBnorm_torch = BN( xtorch )\n",
    "print( torch.mean(yBnorm_torch, axis=(0)), torch.var(yBnorm_torch, axis=0) )\n",
    "\n",
    "loss_bn_torch = torch.square(yBnorm_torch).mean()\n",
    "loss_bn_torch.backward()\n",
    "\n",
    "print( BN.weight.grad )\n",
    "print( BN.bias.grad )"
   ]
  },
  {
   "cell_type": "markdown",
   "metadata": {},
   "source": [
    "### Debug of the neuron model\n",
    "---"
   ]
  },
  {
   "cell_type": "code",
   "execution_count": 16,
   "metadata": {},
   "outputs": [],
   "source": [
    "from models import *"
   ]
  },
  {
   "cell_type": "code",
   "execution_count": null,
   "metadata": {},
   "outputs": [],
   "source": [
    "def lif_step( args_in, input_spikes ):\n",
    "    ''' Forward function for the Leaky-Integrate and Fire neuron layer, adopted here for the hidden layers. '''\n",
    "    net_params, net_states = args_in\n",
    "    # state: the parameters (weights) and the state of the neurons (spikes, inputs and membrane, ecc..)\n",
    "    w, alpha = net_params; w_mask, tau, V_mem, out_spikes, v_thr, noise_sd = net_states\n",
    "\n",
    "    # V_mem = (alpha) * (V_mem - out_spikes) + (1-alpha) * I_in #- out_spikes*v_thr\n",
    "    # V_mem = (alpha) * (V_mem - out_spikes) + I_in #- out_spikes*v_thr\n",
    "    V_mem = alpha * V_mem + input_spikes - out_spikes*v_thr\n",
    "    out_spikes = spiking_fn( V_mem, v_thr )\n",
    "    \n",
    "    return [ [w, alpha], [w_mask, tau, V_mem, out_spikes, v_thr, noise_sd] ], out_spikes\n",
    "\n",
    "\n",
    "# Leaky Integrate and Fire layer, Recurrent\n",
    "def rlif_step( args_in, input_spikes):\n",
    "    ''' Forward function for the Leaky-Integrate and Fire neuron layer, adopted here for the hidden layers. '''\n",
    "    net_params, net_states = args_in\n",
    "    # state: the parameters (weights) and the state of the neurons (spikes, inputs and membrane, ecc..)\n",
    "    w, alpha = net_params; w_mask, tau, V_mem, out_spikes, v_thr, noise_sd = net_states\n",
    "    win_mask, wrec_mask = w_mask\n",
    "    if len(w) == 3: # it means that we'll do normalization\n",
    "        weight, scale, bias = w\n",
    "    else: weight = w\n",
    "    win, wrec = weight\n",
    "    w_rec_diag_zeros = jnp.ones_like(wrec) - jnp.eye( wrec.shape[0] )\n",
    "\n",
    "    # we evolve the state of the neuron according to the LIF formula, Euler approximation\n",
    "    I_rec = jnp.matmul(out_spikes, wrec*wrec_mask*w_rec_diag_zeros)\n",
    "    # V_mem = (alpha) * (V_mem) + (1-alpha) * I_in - out_spikes*v_thr\n",
    "    V_mem = alpha * V_mem + input_spikes + I_rec - out_spikes*v_thr\n",
    "    # V_mem = alpha * (V_mem - out_spikes) + (1-alpha) * ( I_in_norm )\n",
    "    # V_mem = alpha * (V_mem - out_spikes) + (1) * ( I_in_norm )\n",
    "    out_spikes = spiking_fn( V_mem, v_thr )\n",
    "    \n",
    "    return [ [w, alpha], [w_mask, tau, V_mem, out_spikes, v_thr, noise_sd] ], out_spikes\n",
    "\n",
    "# Leaky Integrator (output layer)\n",
    "def li_step(args_in, input_spikes):\n",
    "    ''' Forward function for the Leaky-Integrator neuron layer, adopted here for the output layers. '''\n",
    "    net_params, net_states = args_in\n",
    "    # state: the parameters (weights) and the state of the neurons (inputs and membrane)\n",
    "    w, alpha = net_params; w_mask, tau, V_mem, out_spikes, v_thr, noise_sd = net_states\n",
    "\n",
    "    # we evolve the state of the neuron according to the LI formula, Euler approximation\n",
    "    V_mem = (alpha) * (V_mem) + (1-alpha) * input_spikes\n",
    "    # V_mem = (alpha) * (V_mem) + input_spikes\n",
    "    \n",
    "    return [ [w, alpha], [w_mask, tau, V_mem, out_spikes, v_thr, noise_sd] ], V_mem\n",
    "\n",
    "# parallelizing the Single Layer\n",
    "@jit\n",
    "def scan_layer( args_in, input_spikes ):\n",
    "    args_out_layer, out_spikes_layer = scan( layer, args_in, input_spikes, length=args.nb_steps )\n",
    "    return args_out_layer, out_spikes_layer\n",
    "vscan_layer = vmap( scan_layer, in_axes=(None, 0))\n",
    "\n",
    "@jit\n",
    "def scan_out_layer( args_in, input_spikes ):\n",
    "    args_out_layer, out_spikes_layer = scan( layer_out, args_in, input_spikes, length=args.nb_steps )\n",
    "    return args_out_layer, out_spikes_layer\n",
    "vscan_layer_out = vmap( scan_out_layer, in_axes=(None, 0))\n",
    "\n",
    "@jit\n",
    "def hsnn( args_in, input_spikes ):\n",
    "    net_params, net_states, key, dropout_rate = args_in\n",
    "    n_layers = len( net_params )\n",
    "    # collection of output spikes\n",
    "    out_spike_net = []\n",
    "    # Loop over the layers\n",
    "    for l in range(n_layers):\n",
    "        if l == 0: layer_input_spike = input_spikes\n",
    "        else: layer_input_spike = out_spikes_layer\n",
    "        # making layers' params and states explitic\n",
    "        # parameters (weights and alpha) and the state of the neurons (spikes, inputs and membrane, ecc..)\n",
    "        w, alpha = net_params[l]; w_mask, tau, V_mem, out_spikes, v_thr, noise_sd = net_states[l]\n",
    "        if len(w) == 3: # it means that we'll do normalization\n",
    "            weight, scale, bias = w\n",
    "        else: weight = w\n",
    "        if len(weight) ==2: weight, _ = weight\n",
    "        # we evolve the state of the neuron according to the LIF formula, Euler approximation\n",
    "        I_in = jnp.matmul(layer_input_spike, weight)\n",
    "        # Normalization (if selected)\n",
    "        if len(w) == 3: # it means that we'll do normalization\n",
    "            b, t, n = I_in.shape\n",
    "            I_in = norm( I_in.reshape( b*t, n ), bias = bias, scale = scale )\n",
    "            I_in = I_in.reshape( b,t,n ) # normalized input current\n",
    "        # Forward pass of the Layer\n",
    "        args_in_layer = [net_params[l], net_states[l]]\n",
    "        if l+1 == n_layers:\n",
    "            _, out_spikes_layer = vscan_layer_out( args_in_layer, I_in )\n",
    "        else: \n",
    "            _, out_spikes_layer = vscan_layer( args_in_layer, I_in )\n",
    "            # Dropout\n",
    "            key, key_dropout = jax.random.split(key, 2)\n",
    "            out_spikes_layer = dropout( key_dropout, out_spikes_layer, rate=dropout_rate, deterministic=False )\n",
    "        out_spike_net.append(out_spikes_layer)\n",
    "    return out_spikes_layer, out_spike_net\n"
   ]
  },
  {
   "cell_type": "code",
   "execution_count": 14,
   "metadata": {},
   "outputs": [],
   "source": [
    "@jit\n",
    "def hsnn( args_in, input_spikes ):\n",
    "    net_params, net_states, key, dropout_rate = args_in\n",
    "    n_layers = len( net_params )\n",
    "    # collection of output spikes\n",
    "    out_spike_net = []\n",
    "    # Loop over the layers\n",
    "    for l in range(n_layers):\n",
    "        if l == 0: layer_input_spike = input_spikes\n",
    "        else: layer_input_spike = out_spikes_layer\n",
    "        # making layers' params and states explitic\n",
    "        # parameters (weights and alpha) and the state of the neurons (spikes, inputs and membrane, ecc..)\n",
    "        w, alpha = net_params[l]; w_mask, tau, V_mem, out_spikes, v_thr, noise_sd = net_states[l]\n",
    "        if len(w) == 3: # it means that we'll do normalization\n",
    "            weight, scale, bias = w\n",
    "        else: weight = w\n",
    "        if len(weight) ==2: weight, _ = weight\n",
    "        # we evolve the state of the neuron according to the LIF formula, Euler approximation\n",
    "        I_in = jnp.matmul(layer_input_spike, weight)\n",
    "        # Normalization (if selected)\n",
    "        if len(w) == 3: # it means that we'll do normalization\n",
    "            b, t, n = I_in.shape\n",
    "            I_in = norm( I_in.reshape( b*t, n ), bias = bias, scale = scale )\n",
    "            I_in = I_in.reshape( b,t,n ) # normalized input current\n",
    "        # Forward pass of the Layer\n",
    "        args_in_layer = [net_params[l], net_states[l]]\n",
    "        if l+1 == n_layers:\n",
    "            _, out_spikes_layer = vscan_layer_out( args_in_layer, I_in )\n",
    "        else: \n",
    "            _, out_spikes_layer = vscan_layer( args_in_layer, I_in )\n",
    "            # Dropout\n",
    "            key, key_dropout = jax.random.split(key, 2)\n",
    "            out_spikes_layer = dropout( key_dropout, out_spikes_layer, rate=dropout_rate, deterministic=False )\n",
    "        out_spike_net.append(out_spikes_layer)\n",
    "    return out_spikes_layer, out_spike_net"
   ]
  },
  {
   "cell_type": "code",
   "execution_count": 18,
   "metadata": {},
   "outputs": [],
   "source": [
    "@jit\n",
    "def scan_layer( args_in, input_spikes ):\n",
    "    args_out_layer, out_spikes_layer = scan( layer, args_in, input_spikes, length=args.nb_steps )\n",
    "    return args_out_layer, out_spikes_layer\n",
    "vscan_layer = vmap( scan_layer, in_axes=(None, 0))\n",
    "\n",
    "@jit\n",
    "def scan_out_layer( args_in, input_spikes ):\n",
    "    args_out_layer, out_spikes_layer = scan( layer_out, args_in, input_spikes, length=args.nb_steps )\n",
    "    return args_out_layer, out_spikes_layer\n",
    "vscan_layer_out = vmap( scan_out_layer, in_axes=(None, 0))"
   ]
  },
  {
   "cell_type": "code",
   "execution_count": 21,
   "metadata": {},
   "outputs": [
    {
     "name": "stdout",
     "output_type": "stream",
     "text": [
      "Input shape: train (128, 100, 700) - test (128, 100, 700)\n"
     ]
    }
   ],
   "source": [
    "### try and do a forward pass\n",
    "key = jax.random.PRNGKey(seed=args.seed)\n",
    "# load data\n",
    "x_train, Y = next(iter( train_loader_custom_collate ))\n",
    "x_test, Y_test = next(iter( train_loader_custom_collate ))\n",
    "print('Input shape: train '+ str(x_train.shape) + ' - test '+ str(x_test.shape) )\n",
    "\n",
    "# initialize parameters\n",
    "dropout_rate = 0.0\n",
    "args.distrib_tau = True\n",
    "args.hierarchy_tau = True\n",
    "args.recurrent = False\n",
    "args.normalizer = 'batch' #'layer'\n",
    "args.norm_bias_init = 0.\n",
    "args.n_layers = 4\n",
    "if args.recurrent:\n",
    "    layer = rlif_step\n",
    "    # model = hrsnn\n",
    "else:\n",
    "    layer = lif_step\n",
    "    # model = hsnn\n",
    "layer_out = lif_step\n",
    "norm = BatchNorm\n",
    "args.w_scale = [0.3]\n",
    "net_params, net_states = params_initializer( key, args )\n",
    "\n",
    "###################################################################################################\n",
    "#################################      EVOLUTION OF THE LAYER     #################################\n",
    "###################################################################################################\n",
    "input_spikes = x_test\n",
    "# state: the parameters (weights) and the state of the neurons (spikes, inputs and membrane, ecc..)\n",
    "w, alpha = net_params[0]; w_mask, tau, V_mem, out_spikes, v_thr, noise_sd = net_states[0]\n",
    "if len(w) == 3: # it means that we'll do normalization\n",
    "    weight, scale, bias = w\n",
    "else: weight = w\n",
    "if len(weight) == 2: weight, _ = weight\n",
    "\n",
    "# we evolve the state of the neuron according to the LIF formula, Euler approximation\n",
    "I_in = jnp.matmul(input_spikes, weight)\n",
    "# normalize inputs\n",
    "if len(w) == 3: \n",
    "    b, t, n = I_in.shape\n",
    "    I_in = norm( I_in.reshape( b*t, n ), bias = bias, scale = scale )\n",
    "    I_in = I_in.reshape( b,t,n )\n",
    "else: I_in = I_in\n",
    "\n",
    "# Single step\n",
    "args_in = [net_params[0], net_states[0]]\n",
    "args_out_step, out_spikes_step = layer( args_in, I_in[0,0] )\n",
    "\n",
    "# Single Layer\n",
    "args_in = [net_params[0], net_states[0]]\n",
    "args_out_layer, out_spikes_layer = scan( layer, args_in, I_in[0], length=args.nb_steps )\n",
    "\n",
    "# parallelizing the Single Layer\n",
    "@jit\n",
    "def scan_layer( args_in, input_spikes ):\n",
    "    args_out_layer, out_spikes_layer = scan( layer, args_in, input_spikes, length=args.nb_steps )\n",
    "    return args_out_layer, out_spikes_layer\n",
    "args_in = [net_params[0], net_states[0]]\n",
    "vscan_layer = vmap( scan_layer, in_axes=(None, 0))\n",
    "args_out_vlayer, out_spikes_vlayer = vscan_layer( args_in, I_in )\n",
    "\n",
    "# Forward pass throught the whole model\n",
    "args_in = [net_params, net_states, key, dropout_rate]\n",
    "out_spikes_layer, out_spike_net = hsnn( args_in, input_spikes )"
   ]
  },
  {
   "cell_type": "code",
   "execution_count": 22,
   "metadata": {},
   "outputs": [
    {
     "data": {
      "text/plain": [
       "<matplotlib.legend.Legend at 0x2fc728160>"
      ]
     },
     "execution_count": 22,
     "metadata": {},
     "output_type": "execute_result"
    },
    {
     "data": {
      "image/png": "[encoded data removed]",
      "text/plain": [
       "<Figure size 640x480 with 1 Axes>"
      ]
     },
     "metadata": {},
     "output_type": "display_data"
    }
   ],
   "source": [
    "####### PLOT OF THE TIME CONSTANTS (INITIALIZATION)\n",
    "fig, ax = plt.subplots( )\n",
    "for n in range(len(net_params)):\n",
    "    if len(net_params[n][1].shape)>0:\n",
    "        _ = ax.hist(-args.timestep/ np.log(net_params[n][1]), 25, alpha=0.75, label='Layer '+str(n+1))\n",
    "ax.set_xlabel( 'Time constant [ms]', size=14 )\n",
    "ax.set_ylabel( 'PDF', size=14 )\n",
    "ax.tick_params( labelsize=14 )\n",
    "ax.legend( prop={'size':12} )"
   ]
  },
  {
   "cell_type": "code",
   "execution_count": 24,
   "metadata": {},
   "outputs": [
    {
     "name": "stdout",
     "output_type": "stream",
     "text": [
      "Input shape: train (128, 100, 700) - test (128, 100, 700)\n"
     ]
    }
   ],
   "source": [
    "@jit\n",
    "def predict(args_in, X):\n",
    "    \"\"\" Scans over time and return predictions. \"\"\"\n",
    "    # net_params, net_states, key, dropout_rate = args_in\n",
    "    _, net_states_hist = scan(model, args_in, X, length=args.nb_steps)\n",
    "    return net_states_hist\n",
    "# vmap the forward of the model\n",
    "v_predict = vmap(predict, in_axes=(None, 0))\n",
    "\n",
    "def one_hot(x, n_class):\n",
    "    return jnp.array(x[:, None] == jnp.arange(n_class), dtype=jnp.float32)\n",
    "\n",
    "def loss(key, net_params, net_states, X, Y, epoch, dropout_rate=0.):\n",
    "    \"\"\" Calculates CE loss after predictions. \"\"\"\n",
    "\n",
    "    # we might want to add noise in the forward pass --> memristor-aware-training\n",
    "    # weight = [net_params[i][0] for i in range( len(net_params) )]\n",
    "    # weight = cond(\n",
    "    #     epoch >= noise_start_step, \n",
    "    #     lambda weight, key : add_noise(weight, key, noise_std),\n",
    "    #     lambda weight, key : weight,\n",
    "    #     weight, key\n",
    "    # )\n",
    "    # forward pass\n",
    "    # net_states_hist = v_predict( [net_params, net_states, key, dropout_rate], X)\n",
    "    # Forward pass throught the whole model\n",
    "    args_in = [net_params, net_states, key, dropout_rate]\n",
    "    output_layer, out_spike_net = hsnn( args_in, X )\n",
    "    Yhat = decoder_cum( output_layer )\n",
    "\n",
    "    # compute the loss and correct examples\n",
    "    num_correct = jnp.sum(jnp.equal(jnp.argmax(Yhat, 1), jnp.argmax(Y, 1)))\n",
    "    # cross entropy loss\n",
    "    loss_ce = -jnp.mean( jnp.sum(Y * jnp.log(Yhat+1e-12), axis=-1) )\n",
    "    # L2 norm\n",
    "    loss_l2 = optimizers.l2_norm( net_params ) * args.l2_lambda\n",
    "    # firing rate loss\n",
    "    avg_spikes_neuron = jnp.mean( jnp.stack( [ jnp.mean( jnp.sum( out_spike_net[l], axis=1 ), axis=(0,-1) ) for l in range( len(net_params)-1 )] ) )\n",
    "    loss_fr = args.freq_lambda * (args.target_fr - avg_spikes_neuron)**2\n",
    "    loss_total = loss_ce + loss_l2 + loss_fr\n",
    "    loss_values = [num_correct, loss_ce]\n",
    "    return loss_total, loss_values\n",
    "\n",
    "# initialize parameters\n",
    "dropout_rate = 0.0\n",
    "args.seed = 14\n",
    "args.distrib_tau = True\n",
    "args.hierarchy_tau = False\n",
    "args.recurrent = False\n",
    "args.normalizer = 'batch' #'layer'\n",
    "args.norm_bias_init = 0.\n",
    "args.tau_mem = 0.2 #0.1\n",
    "args.l2_lambda = 0.\n",
    "args.freq_lambda = 0.\n",
    "if args.recurrent:\n",
    "    layer = rlif_step\n",
    "    model = hrsnn_step\n",
    "    args.w_scale = [0.075, 0.05]\n",
    "else:\n",
    "    layer = lif_step\n",
    "    model = hsnn_step\n",
    "    args.w_scale = [1/np.sqrt( args.n_in )] + [1/np.sqrt( args.n_hid )]*(args.n_layers-1)\n",
    "norm = BatchNorm\n",
    "args.n_layers = 3\n",
    "\n",
    "\n",
    "key = jax.random.PRNGKey(seed=args.seed)\n",
    "# load data\n",
    "x_train, Y = next(iter( train_loader_custom_collate ))\n",
    "x_test, Y_test = next(iter( test_loader_custom_collate ))\n",
    "print('Input shape: train '+ str(x_train.shape) + ' - test '+ str(x_test.shape) )\n",
    "\n",
    "net_params, net_states = params_initializer( key, args )\n",
    "\n",
    "# import pickle\n",
    "# # params from sparch\n",
    "# params = pickle.load( open( '/Users/filippomoro/Desktop/params_snn_84p_numpy.pkl', 'rb' ) )\n",
    "# for i in range( len(net_params) ):\n",
    "#     if args.normalizer in ['batch', 'layer']:\n",
    "#         net_params[i][0][0] = params[f'snn.{i}.W.weight'].T\n",
    "#         net_params[i][1] = params[f'alpha{i}']\n",
    "#         net_params[i][0][1] = params[f'scale{i}']\n",
    "#         net_params[i][0][2] = params[f'bias{i}']\n",
    "#     else:\n",
    "#         net_params[i][0] = params[f'snn.{i}.W.weight'].T\n",
    "#         net_params[i][1] = params[f'alpha{i}']\n",
    "\n",
    "\n",
    "dropout_rate = 0.0\n",
    "# # testing the training function\n",
    "# args_ins = [net_params, net_states, key, dropout_rate]\n",
    "# args_out = scan(model, args_ins, x_train[0], length=args.nb_steps)\n",
    "# [net_params_hist, net_states_hist] = args_out\n",
    "\n",
    "args_in = [net_params, net_states, key, dropout_rate]\n",
    "output_layer, out_spike_net = hsnn( args_in, x_test )\n",
    "Yhat = decoder_cum( output_layer )\n",
    "\n",
    "# decoder\n",
    "# Yhat = jax.nn.softmax( jnp.mean( out_v_mem, axis=1 ), axis=-1 )\n",
    "# Yhat_vmax = jax.nn.softmax( jnp.max( out_v_mem, axis=1 ), axis=-1 )\n",
    "# Yhat_cum = jnp.mean( jax.nn.softmax( out_v_mem, axis=-1 ), axis=1)\n",
    "# print( Yhat_cum.shape )\n",
    "\n",
    "# loss\n",
    "loss_total, loss_values = loss(key, net_params, net_states, x_test, one_hot(Y, 20), 0)\n",
    "\n",
    "# values and gradients\n",
    "value, grads = value_and_grad(loss, has_aux=True, argnums=(1))(key, net_params, net_states, x_test, one_hot(Y_test,20), 0, dropout_rate=0.0)"
   ]
  },
  {
   "cell_type": "code",
   "execution_count": 25,
   "metadata": {},
   "outputs": [],
   "source": [
    "n_layers = len( net_params )\n",
    "# collection of output spikes\n",
    "out_spike_net_b = []\n",
    "# Loop over the layers\n",
    "for l in range(n_layers):\n",
    "    if l == 0: layer_input_spike = x_test\n",
    "    else: layer_input_spike = out_spikes_layer\n",
    "    # making layers' params and states explitic\n",
    "    # parameters (weights and alpha) and the state of the neurons (spikes, inputs and membrane, ecc..)\n",
    "    w, alpha = net_params[l]; w_mask, tau, V_mem, out_spikes, v_thr, noise_sd = net_states[l]\n",
    "    if len(w) == 3: # it means that we'll do normalization\n",
    "        weight, scale, bias = w\n",
    "    else: weight = w\n",
    "    if len(weight) ==2: weight, _ = weight\n",
    "    # we evolve the state of the neuron according to the LIF formula, Euler approximation\n",
    "    I_in = jnp.matmul(layer_input_spike, weight)\n",
    "    # Normalization (if selected)\n",
    "    if len(w) == 3: # it means that we'll do normalization\n",
    "        b, t, n = I_in.shape\n",
    "        I_in = norm( I_in.reshape( b*t, n ), bias = bias, scale = scale )\n",
    "        I_in = I_in.reshape( b,t,n ) # normalized input current\n",
    "    # Forward pass of the Layer\n",
    "    args_in_layer = [net_params[l], net_states[l]]\n",
    "    if l+1 == n_layers:\n",
    "        _, out_spikes_layer_b = vscan_layer_out( args_in_layer, I_in )\n",
    "    else: \n",
    "        _, out_spikes_layer = vscan_layer( args_in_layer, I_in )\n",
    "        # Dropout\n",
    "        key, key_dropout = jax.random.split(key, 2)\n",
    "        out_spikes_layer = dropout( key_dropout, out_spikes_layer, rate=dropout_rate, deterministic=False )\n",
    "    out_spike_net_b.append(out_spikes_layer)"
   ]
  },
  {
   "cell_type": "code",
   "execution_count": 26,
   "metadata": {},
   "outputs": [
    {
     "data": {
      "text/plain": [
       "Array([5.504156 , 4.0522785, 4.3228045, 3.975809 , 6.000391 , 4.9515777,\n",
       "       5.8372865, 3.746243 , 7.292494 , 4.624026 , 4.171534 , 3.8599901,\n",
       "       4.6428614, 4.632159 , 6.5391397, 3.7971606, 4.2611313, 6.2887297,\n",
       "       6.3179307, 5.1822915], dtype=float32)"
      ]
     },
     "execution_count": 26,
     "metadata": {},
     "output_type": "execute_result"
    }
   ],
   "source": [
    "jnp.sum( jax.nn.softmax( out_spikes_layer_b, axis=-1 ), axis=1)[0]"
   ]
  },
  {
   "cell_type": "code",
   "execution_count": 27,
   "metadata": {},
   "outputs": [
    {
     "data": {
      "text/plain": [
       "Array([5.504156 , 4.0522785, 4.3228045, 3.975809 , 6.000391 , 4.9515777,\n",
       "       5.8372865, 3.746243 , 7.292494 , 4.624026 , 4.171534 , 3.8599901,\n",
       "       4.6428614, 4.632159 , 6.5391397, 3.7971606, 4.2611313, 6.2887297,\n",
       "       6.3179307, 5.1822915], dtype=float32)"
      ]
     },
     "execution_count": 27,
     "metadata": {},
     "output_type": "execute_result"
    }
   ],
   "source": [
    "jnp.sum( jax.nn.softmax( out_spike_net[-1], axis=-1 ), axis=1)[0]"
   ]
  },
  {
   "cell_type": "code",
   "execution_count": 28,
   "metadata": {},
   "outputs": [
    {
     "data": {
      "text/plain": [
       "Array(0., dtype=float32)"
      ]
     },
     "execution_count": 28,
     "metadata": {},
     "output_type": "execute_result"
    }
   ],
   "source": [
    "jnp.abs((out_spike_net[0] - out_spike_net_b[0])).sum()"
   ]
  },
  {
   "cell_type": "code",
   "execution_count": 30,
   "metadata": {},
   "outputs": [
    {
     "data": {
      "text/plain": [
       "Array([0.00076735, 0.00063383, 0.00097814, 0.00055645, 0.00085246,\n",
       "       0.0014552 , 0.00066718, 0.00067719, 0.00068003, 0.00044435,\n",
       "       0.00061735, 0.00170687, 0.00038253, 0.00085462, 0.00051275,\n",
       "       0.0007672 , 0.00067573, 0.00058511, 0.00051962, 0.00108186,\n",
       "       0.00147061, 0.0004725 , 0.00052765, 0.00142009, 0.00051044,\n",
       "       0.00079603, 0.00064606, 0.00085672, 0.0009251 , 0.00119561,\n",
       "       0.00057692, 0.0008034 , 0.00087499, 0.00061073, 0.00051732,\n",
       "       0.00054059, 0.00089255, 0.0019822 , 0.00101193, 0.00083508,\n",
       "       0.00071766, 0.00097441, 0.00071568, 0.00154482, 0.0008174 ,\n",
       "       0.00122004, 0.00086639, 0.00077438, 0.00132074, 0.00054285,\n",
       "       0.0019906 , 0.00095774, 0.00078799, 0.00099906, 0.00048988,\n",
       "       0.00050438, 0.00072055, 0.00095875, 0.00040959, 0.0004717 ,\n",
       "       0.00125962, 0.00110288, 0.00102205, 0.00089684, 0.00055581,\n",
       "       0.00066929, 0.00043818, 0.00068625, 0.00086503, 0.00119484,\n",
       "       0.00120707, 0.00050963, 0.00056746, 0.00061006, 0.00119519,\n",
       "       0.00122961, 0.00184453, 0.00064832, 0.00046168, 0.00042174,\n",
       "       0.00106348, 0.00084773, 0.00039816, 0.000551  , 0.00055351,\n",
       "       0.00063925, 0.00042804, 0.00065324, 0.00088577, 0.00047383,\n",
       "       0.00111541, 0.0006287 , 0.00097624, 0.00116362, 0.00066509,\n",
       "       0.00110988, 0.000816  , 0.00096251, 0.00067398, 0.00079679,\n",
       "       0.00049727, 0.00105399, 0.00092978, 0.00095503, 0.00051205,\n",
       "       0.00054026, 0.00130196, 0.00048317, 0.00101844, 0.0015346 ,\n",
       "       0.00079023, 0.0006019 , 0.0011287 , 0.00126398, 0.00101761,\n",
       "       0.00059772, 0.0006272 , 0.00040939, 0.00061192, 0.00042248,\n",
       "       0.00074097, 0.00049792, 0.00056987, 0.00097408, 0.00061671,\n",
       "       0.00043253, 0.00160346, 0.00118141], dtype=float32)"
      ]
     },
     "execution_count": 30,
     "metadata": {},
     "output_type": "execute_result"
    }
   ],
   "source": [
    "# Checking the Gradients on the first layer\n",
    "\n",
    "net_params, net_states = params_initializer( key, args )\n",
    "\n",
    "# import pickle\n",
    "# # params from sparch\n",
    "# params = pickle.load( open( '/Users/filippomoro/Desktop/params_snn_84p_numpy.pkl', 'rb' ) )\n",
    "# for i in range( len(net_params) ):\n",
    "#     if args.normalizer in ['batch', 'layer']:\n",
    "#         net_params[i][0][0] = params[f'snn.{i}.W.weight'].T\n",
    "#         net_params[i][1] = params[f'alpha{i}']\n",
    "#         net_params[i][0][1] = params[f'scale{i}']\n",
    "#         net_params[i][0][2] = params[f'bias{i}']\n",
    "#     else:\n",
    "#         net_params[i][0] = params[f'snn.{i}.W.weight'].T\n",
    "#         net_params[i][1] = params[f'alpha{i}']\n",
    "\n",
    "### Computing the first pre-activation with Normalization\n",
    "def first_layer(net_params, x_test):\n",
    "    l = 0; layer_input_spike = x_test\n",
    "    w, alpha = net_params[l]; w_mask, tau, V_mem, out_spikes, v_thr, noise_sd = net_states[l]\n",
    "    if len(w) == 3: # it means that we'll do normalization\n",
    "        weight, scale, bias = w\n",
    "    else: weight = w\n",
    "    if len(weight) ==2: weight, _ = weight\n",
    "    # we evolve the state of the neuron according to the LIF formula, Euler approximation\n",
    "    I_in = jnp.matmul(layer_input_spike, weight)\n",
    "    # Normalization (if selected)\n",
    "    if len(w) == 3: # it means that we'll do normalization\n",
    "        b, t, n = I_in.shape\n",
    "        I_in = norm( I_in.reshape( b*t, n ), bias = bias, scale = scale )\n",
    "        I_in = I_in.reshape( b,t,n ) # normalized input current\n",
    "\n",
    "    # Forward pass of the Layer\n",
    "    args_in = [net_params[l], net_states[l]]\n",
    "    if l+1 == len( net_params ):\n",
    "        _, out_spikes_layer = vscan_layer_out( args_in, I_in )\n",
    "    else: \n",
    "        _, out_spikes_layer = vscan_layer( args_in, I_in )\n",
    "    \n",
    "    return jnp.mean( out_spikes_layer**2 ), out_spikes_layer\n",
    "\n",
    "value, grads = value_and_grad(first_layer, has_aux=True, argnums=(0))(net_params, x_test)\n",
    "grads[0][0][1]"
   ]
  },
  {
   "cell_type": "code",
   "execution_count": 31,
   "metadata": {},
   "outputs": [
    {
     "data": {
      "text/plain": [
       "Array([1841., 1496., 2706., 1425., 2120., 2726., 1357., 1732., 1748.,\n",
       "        953., 1390., 3005., 1022., 2497., 1392., 1752., 1696., 1624.,\n",
       "       1417., 2558., 2813., 1110.,  959., 2756., 1091., 1636., 1732.,\n",
       "       1980., 2398., 2893., 1690., 1910., 2477., 1821., 1074., 1314.,\n",
       "       2111., 3304., 2774., 2132., 1812., 2450., 1778., 2923., 1949.,\n",
       "       2931., 1886., 1918., 2632.,  949., 3343., 2409., 1899., 2852.,\n",
       "        896.,  845., 1640., 2166., 1171., 1121., 2551., 2628., 2515.,\n",
       "       2086., 1265., 1340., 1109., 1677., 2206., 2536., 2456., 1100.,\n",
       "       1318., 1265., 2435., 3011., 3183., 1580., 1272., 1162., 2368.,\n",
       "       2050., 1266., 1533., 1144., 1218.,  905., 1792., 2072.,  928.,\n",
       "       2536., 1447., 2435., 2476., 1437., 2704., 1748., 2179., 1948.,\n",
       "       1821., 1275., 2312., 2279., 2255., 1564., 1096., 2554., 1251.,\n",
       "       2442., 2916., 1831., 1168., 2754., 2865., 2289., 1210., 1598.,\n",
       "        970., 1499.,  931., 1574.,  931., 1896., 2230., 1221., 1070.,\n",
       "       2989., 2451.], dtype=float32)"
      ]
     },
     "execution_count": 31,
     "metadata": {},
     "output_type": "execute_result"
    }
   ],
   "source": [
    "value[1].sum(axis=(0,1))"
   ]
  },
  {
   "cell_type": "code",
   "execution_count": 32,
   "metadata": {},
   "outputs": [
    {
     "data": {
      "text/plain": [
       "Array([0.00093607, 0.00145668, 0.00127759, 0.00121363, 0.00093815,\n",
       "       0.00098057, 0.00073845, 0.00119019, 0.00096742, 0.00076319,\n",
       "       0.00214508, 0.00073202, 0.00170945, 0.0015956 , 0.0009381 ,\n",
       "       0.00140231, 0.00111321, 0.00095307, 0.00111712, 0.00151042,\n",
       "       0.00124079, 0.00082157, 0.00099836, 0.00160323, 0.00137172,\n",
       "       0.00084297, 0.00186251, 0.00120335, 0.00135386, 0.00111624,\n",
       "       0.00087388, 0.00243268, 0.00147205, 0.0010989 , 0.00081691,\n",
       "       0.00289969, 0.00126891, 0.00138916, 0.0008288 , 0.00120576,\n",
       "       0.00174194, 0.00084663, 0.00074009, 0.00115459, 0.00111908,\n",
       "       0.00105559, 0.00084274, 0.00148386, 0.00147913, 0.00218714,\n",
       "       0.00102801, 0.00090773, 0.00187288, 0.00106426, 0.00094484,\n",
       "       0.00114213, 0.00137229, 0.00105295, 0.0005389 , 0.00134609,\n",
       "       0.00190055, 0.00138249, 0.00116696, 0.00104026, 0.00163596,\n",
       "       0.00164523, 0.00102256, 0.00107317, 0.00094486, 0.00076259,\n",
       "       0.0013805 , 0.00142811, 0.00223596, 0.00122479, 0.00091672,\n",
       "       0.00073852, 0.00125184, 0.00092384, 0.00173778, 0.00083167,\n",
       "       0.00180273, 0.00250651, 0.00097001, 0.00080801, 0.00111075,\n",
       "       0.001258  , 0.00157741, 0.00245218, 0.00100034, 0.00119354,\n",
       "       0.00187821, 0.00171486, 0.00113027, 0.00124067, 0.00120531,\n",
       "       0.0010548 , 0.00210811, 0.0008066 , 0.00185732, 0.00104689,\n",
       "       0.00121499, 0.00092767, 0.00225472, 0.00159579, 0.00107744,\n",
       "       0.00253347, 0.00184975, 0.00070645, 0.00112272, 0.0014731 ,\n",
       "       0.00097   , 0.00206663, 0.00148232, 0.00207957, 0.0014951 ,\n",
       "       0.00164243, 0.00123348, 0.0013655 , 0.00122924, 0.00090355,\n",
       "       0.00197572, 0.00114443, 0.00084005, 0.0010181 , 0.00091262,\n",
       "       0.00100579, 0.00129661, 0.00107829], dtype=float32)"
      ]
     },
     "execution_count": 32,
     "metadata": {},
     "output_type": "execute_result"
    }
   ],
   "source": [
    "### Computing the first pre-activation with Normalization\n",
    "def second_layer(net_params, x_test):\n",
    "    l = 1; layer_input_spike = x_test\n",
    "    w, alpha = net_params[l]; w_mask, tau, V_mem, out_spikes, v_thr, noise_sd = net_states[l]\n",
    "    if len(w) == 3: # it means that we'll do normalization\n",
    "        weight, scale, bias = w\n",
    "    else: weight = w\n",
    "    if len(weight) ==2: weight, _ = weight\n",
    "    # we evolve the state of the neuron according to the LIF formula, Euler approximation\n",
    "    I_in = jnp.matmul(layer_input_spike, weight)\n",
    "    # Normalization (if selected)\n",
    "    if len(w) == 3: # it means that we'll do normalization\n",
    "        b, t, n = I_in.shape\n",
    "        I_in = norm( I_in.reshape( b*t, n ), bias = bias, scale = scale )\n",
    "        I_in = I_in.reshape( b,t,n ) # normalized input current\n",
    "\n",
    "    # Forward pass of the Layer\n",
    "    args_in = [net_params[l], net_states[l]]\n",
    "    if l+1 == len( net_params ):\n",
    "        _, out_spikes_layer = vscan_layer_out( args_in, I_in )\n",
    "    else: \n",
    "        _, out_spikes_layer = vscan_layer( args_in, I_in )\n",
    "    \n",
    "    return jnp.mean( out_spikes_layer**2 ), out_spikes_layer\n",
    "\n",
    "value_2nd, grads = value_and_grad(second_layer, has_aux=True, argnums=(0))(net_params, value[1])\n",
    "grads[1][0][1]"
   ]
  },
  {
   "cell_type": "code",
   "execution_count": 33,
   "metadata": {},
   "outputs": [
    {
     "data": {
      "text/plain": [
       "Array([2116., 2220., 2376., 1787., 1938., 1718., 1257., 1908., 1875.,\n",
       "       1438., 2966., 1459., 2365., 2282., 1834., 2176., 2831., 2052.,\n",
       "       1784., 2298., 1793., 1383., 1786., 2319., 2028., 1470., 2583.,\n",
       "       2368., 1924., 1704., 1471., 3168., 2155., 2795., 1932., 3759.,\n",
       "       1910., 2476., 1639., 2347., 2957., 1343., 1618., 2535., 1627.,\n",
       "       2158., 1491., 2475., 2125., 2979., 1687., 1501., 3221., 1932.,\n",
       "       1550., 1884., 2080., 2873., 1609., 2739., 2612., 1998., 2555.,\n",
       "       2578., 2408., 2363., 1658., 2576., 1815., 1690., 1896., 2067.,\n",
       "       2980., 2681., 1774., 1609., 2312., 1427., 2476., 2506., 3028.,\n",
       "       3379., 3098., 1640., 2076., 1857., 2226., 3291., 2395., 2394.,\n",
       "       2713., 2514., 1985., 3354., 1962., 2630., 2891., 1583., 2596.,\n",
       "       2099., 1882., 1678., 3212., 2348., 2058., 3390., 2587., 1543.,\n",
       "       2175., 2180., 2160., 2896., 2110., 2814., 2189., 2299., 2701.,\n",
       "       1948., 1816., 1769., 2775., 2811., 1737., 2478., 1398., 2069.,\n",
       "       2833., 1966.], dtype=float32)"
      ]
     },
     "execution_count": 33,
     "metadata": {},
     "output_type": "execute_result"
    }
   ],
   "source": [
    "value_2nd[1].sum( axis=(0,1) )"
   ]
  },
  {
   "cell_type": "code",
   "execution_count": 34,
   "metadata": {},
   "outputs": [
    {
     "data": {
      "text/plain": [
       "Array([-0.00517766,  0.01526389,  0.01000238,  0.1457658 ,  0.09596697,\n",
       "        0.0159039 , -0.00985695,  0.04546271,  0.02727821,  0.01400958,\n",
       "        0.01759365, -0.01035395,  0.01177882,  0.03090918,  0.00503275,\n",
       "        0.02642335,  0.01599982,  0.03837876,  0.03031916,  0.0291216 ],      dtype=float32)"
      ]
     },
     "execution_count": 34,
     "metadata": {},
     "output_type": "execute_result"
    }
   ],
   "source": [
    "### Computing the first pre-activation with Normalization\n",
    "def third_layer(net_params, x_test):\n",
    "    l = 2; layer_input_spike = x_test\n",
    "    w, alpha = net_params[l]; w_mask, tau, V_mem, out_spikes, v_thr, noise_sd = net_states[l]\n",
    "    if len(w) == 3: # it means that we'll do normalization\n",
    "        weight, scale, bias = w\n",
    "    else: weight = w\n",
    "    if len(weight) ==2: weight, _ = weight\n",
    "    # we evolve the state of the neuron according to the LIF formula, Euler approximation\n",
    "    I_in = jnp.matmul(layer_input_spike, weight)\n",
    "    # Normalization (if selected)\n",
    "    if len(w) == 3: # it means that we'll do normalization\n",
    "        b, t, n = I_in.shape\n",
    "        I_in = norm( I_in.reshape( b*t, n ), bias = bias, scale = scale )\n",
    "        I_in = I_in.reshape( b,t,n ) # normalized input current\n",
    "\n",
    "    # Forward pass of the Layer\n",
    "    args_in = [net_params[l], net_states[l]]\n",
    "    if l+1 == len( net_params ):\n",
    "        _, out_spikes_layer = vscan_layer_out( args_in, I_in )\n",
    "        out_spikes_layer = jnp.sum( jax.nn.softmax( out_spikes_layer, axis=-1 ), axis=1)\n",
    "    else: \n",
    "        _, out_spikes_layer = vscan_layer( args_in, I_in )\n",
    "    \n",
    "    return jnp.mean( out_spikes_layer**2 ), out_spikes_layer\n",
    "\n",
    "value_3rd, grads = value_and_grad(third_layer, has_aux=True, argnums=(0))(net_params, value_2nd[1])\n",
    "grads[2][0][1]"
   ]
  },
  {
   "cell_type": "code",
   "execution_count": 35,
   "metadata": {},
   "outputs": [
    {
     "data": {
      "text/plain": [
       "Array([4.0918617, 6.176214 , 6.649568 , 4.9560757, 5.0084147, 4.631906 ,\n",
       "       4.8350964, 3.8296063, 4.014703 , 6.277969 , 6.2531676, 4.3820057,\n",
       "       4.766175 , 4.4839563, 5.495924 , 4.823924 , 3.942988 , 6.9296145,\n",
       "       4.6212134, 3.8296063], dtype=float32)"
      ]
     },
     "execution_count": 35,
     "metadata": {},
     "output_type": "execute_result"
    }
   ],
   "source": [
    "value_3rd[1][0]"
   ]
  },
  {
   "cell_type": "code",
   "execution_count": 36,
   "metadata": {},
   "outputs": [
    {
     "name": "stdout",
     "output_type": "stream",
     "text": [
      "-4.7723984e-06 0.021833293\n",
      "-0.00047378277 0.050812863\n",
      "0.0007956222 0.05092877\n"
     ]
    },
    {
     "data": {
      "image/png": "[encoded data removed]",
      "text/plain": [
       "<Figure size 640x480 with 1 Axes>"
      ]
     },
     "metadata": {},
     "output_type": "display_data"
    }
   ],
   "source": [
    "for i in range( args.n_layers ):\n",
    "    print( net_params[i][0][0].mean(), net_params[i][0][0].std() )\n",
    "\n",
    "_ = plt.hist( grads[2][0][0].flatten(), 50 )"
   ]
  },
  {
   "cell_type": "code",
   "execution_count": 37,
   "metadata": {},
   "outputs": [
    {
     "data": {
      "text/plain": [
       "(Array(0.14742431, dtype=float32), Array(0.16816773, dtype=float32))"
      ]
     },
     "execution_count": 37,
     "metadata": {},
     "output_type": "execute_result"
    }
   ],
   "source": [
    "jnp.mean( out_spike_net[0], axis=(0,1,2) ), jnp.mean( out_spike_net[1], axis=(0,1,2) )"
   ]
  },
  {
   "cell_type": "code",
   "execution_count": 38,
   "metadata": {},
   "outputs": [
    {
     "data": {
      "text/plain": [
       "<matplotlib.image.AxesImage at 0x30bd993c0>"
      ]
     },
     "execution_count": 38,
     "metadata": {},
     "output_type": "execute_result"
    },
    {
     "data": {
      "image/png": "[encoded data removed]",
      "text/plain": [
       "<Figure size 640x480 with 1 Axes>"
      ]
     },
     "metadata": {},
     "output_type": "display_data"
    }
   ],
   "source": [
    "plt.imshow( out_spike_net[2][0].T )"
   ]
  },
  {
   "cell_type": "markdown",
   "metadata": {},
   "source": [
    "### Training Loop\n",
    "---"
   ]
  },
  {
   "cell_type": "code",
   "execution_count": null,
   "metadata": {},
   "outputs": [],
   "source": [
    "args.train_alpha = True\n",
    "args.hierarchy_tau = False\n",
    "args.distrib_tau = True\n",
    "args.distrib_tau_bittar = False\n",
    "args.recurrent = False\n",
    "args.normalizer = 'batch' # 'batch' #'layer'\n",
    "args.norm_bias_init = 0.0\n",
    "if args.normalizer == 'batch': norm = BatchNorm\n",
    "elif args.normalizer == 'layer': norm = LayerNorm\n",
    "else: norm = None\n",
    "# network architecture\n",
    "if args.recurrent: \n",
    "    model = hrsnn_step\n",
    "    layer = rlif_step\n",
    "else: \n",
    "    model = hsnn_step\n",
    "    layer = lif_step\n",
    "layer_out = li_step\n",
    "args.n_layers = 4\n",
    "args.n_hid = 128\n",
    "# time constants\n",
    "args.tau_mem = 0.1 #0.1\n",
    "delta_tau = 0.1\n",
    "args.tau_end = args.tau_mem + delta_tau\n",
    "args.tau_start = args.tau_mem - delta_tau\n",
    "args.distrib_tau_sd = 0.2\n",
    "if args.recurrent: args.tau_out = 0.1\n",
    "else: args.tau_out = 0.2 #0.014*5 # 0.21 #0.01\n",
    "# weight init\n",
    "### 0.3 for FF, 0.1 for Rec\n",
    "if args.recurrent: args.w_scale = [0.075, 0.05] #[[3*np.sqrt(1/args.n_in), 2*np.sqrt(1/args.n_hid)], [2*np.sqrt(1/args.n_hid), 2*np.sqrt(1/args.n_hid)], [2*np.sqrt(1/args.n_hid), 2*np.sqrt(1/args.n_hid)] ] #[0.075, 0.05]\n",
    "else : args.w_scale = [ 1*np.sqrt(1/args.n_in), 1*np.sqrt(1/args.n_hid), 1*np.sqrt(1/args.n_hid) ] #[0.3]*args.n_layers\n",
    "# LR and regularizers\n",
    "if args.recurrent: args.lr = 0.01\n",
    "else: args.lr = 0.01\n",
    "args.lr_decay = 0.5\n",
    "args.lr_decay_every = 50\n",
    "args.l2_lambda = 0 #1e-6\n",
    "args.freq_lambda = 0 #1e-6\n",
    "args.dropout_rate = 0.1\n",
    "n_epochs = 20\n",
    "\n",
    "train_loss, test_acc_shd, val_acc_shd, net_params_trained = train_hsnn(key = jax.random.PRNGKey(args.seed), n_epochs=n_epochs, args = args, \n",
    "                                                            train_dl = train_loader_custom_collate, test_dl = test_loader_custom_collate, val_dl=val_loader_custom_collate,\n",
    "                                                            param_initializer=params_initializer,\n",
    "                                                            noise_start_step=10, noise_std=0.1, dataset_name='shd', verbose=True)"
   ]
  },
  {
   "cell_type": "code",
   "execution_count": null,
   "metadata": {},
   "outputs": [],
   "source": [
    "for i in range(args.n_layers-1):\n",
    "    _ = plt.hist( net_params_trained[i][1], 25, alpha=0.6, label=f'Layer {i}' )\n",
    "    print( np.mean(  net_params_trained[i][1] ) )\n",
    "plt.legend()"
   ]
  },
  {
   "cell_type": "code",
   "execution_count": null,
   "metadata": {},
   "outputs": [],
   "source": []
  },
  {
   "cell_type": "code",
   "execution_count": null,
   "metadata": {},
   "outputs": [],
   "source": []
  }
 ],
 "metadata": {
  "kernelspec": {
   "display_name": "base",
   "language": "python",
   "name": "python3"
  },
  "language_info": {
   "codemirror_mode": {
    "name": "ipython",
    "version": 3
   },
   "file_extension": ".py",
   "mimetype": "text/x-python",
   "name": "python",
   "nbconvert_exporter": "python",
   "pygments_lexer": "ipython3",
   "version": "3.10.9"
  }
 },
 "nbformat": 4,
 "nbformat_minor": 2
}
