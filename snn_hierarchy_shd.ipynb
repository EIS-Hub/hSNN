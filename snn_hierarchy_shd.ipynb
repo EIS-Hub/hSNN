{
 "cells": [
  {
   "cell_type": "markdown",
   "metadata": {},
   "source": [
    "# SNN with hierarchy of Time constant\n",
    "---\n",
    "This notebook is mainly for developing the code that will be rewritten in python files\\\\\n",
    "\n",
    "The idea is to explore what role a hierarchy of time scales have in temporal processing, especially when dealing with multi-time-scale inputs.\\\\\n",
    "\n",
    "Prior literature shows the importance of heterogeneity of time scales in SNNs, mainly showing that diversity of time-scales are beneficial.\n",
    "- https://www.nature.com/articles/s41467-021-26022-3\n",
    "- https://www.nature.com/articles/s41467-023-44614-z\n",
    "\n",
    "However, an interpretation of the role of the hierarchy of time constant is still missing.\n",
    "\n",
    "The assumption is that when treating a temporal sequence sempled at a certain period $\\tau_{sampling}$ and with a total duration $\\Tau$, there can be an optimal sequence of filters $F_i(\\tau_i)$ that process the input sequence. For each of the filters $\\tau_{i+1} > \\tau_i$, where the subscript indicates the order of the filter. More simply, there is a hierarchy of time-scales - from fast to slow - that leads to an optimal processing of the input sequence."
   ]
  },
  {
   "cell_type": "code",
   "execution_count": 1,
   "metadata": {},
   "outputs": [
    {
     "name": "stderr",
     "output_type": "stream",
     "text": [
      "WARNING: All log messages before absl::InitializeLog() is called are written to STDERR\n",
      "I0000 00:00:1708792566.842094       1 tfrt_cpu_pjrt_client.cc:349] TfrtCpuClient created.\n"
     ]
    },
    {
     "data": {
      "text/plain": [
       "[CpuDevice(id=0)]"
      ]
     },
     "execution_count": 1,
     "metadata": {},
     "output_type": "execute_result"
    }
   ],
   "source": [
    "import jax\n",
    "import jax.numpy as jnp\n",
    "from jax.example_libraries import optimizers\n",
    "\n",
    "import matplotlib.pyplot as plt\n",
    "import numpy as np\n",
    "import os\n",
    "from scipy.stats import lognorm, norm\n",
    "from sklearn.model_selection import train_test_split\n",
    "import time\n",
    "import torch\n",
    "from torch.utils.data import TensorDataset, DataLoader\n",
    "from torch.utils.data import random_split\n",
    "import random\n",
    "\n",
    "import urllib.request\n",
    "import gzip, shutil\n",
    "import hashlib\n",
    "import h5py\n",
    "from six.moves.urllib.error import HTTPError\n",
    "from six.moves.urllib.error import URLError\n",
    "from six.moves.urllib.request import urlretrieve\n",
    "\n",
    "from jax import vmap, pmap, jit, value_and_grad, local_device_count\n",
    "from jax.example_libraries import optimizers\n",
    "from jax.lax import scan, cond\n",
    "import pickle\n",
    "\n",
    "os.environ[\"XLA_PYTHON_CLIENT_MEM_FRACTION\"]=\".75\" # needed because network is huge\n",
    "os.environ[\"CUDA_VISIBLE_DEVICES\"]=\"0\"\n",
    "np.set_printoptions(threshold=100000000)\n",
    "jax.devices()"
   ]
  },
  {
   "cell_type": "markdown",
   "metadata": {},
   "source": [
    "## Parameters of the SNN model\n",
    "---"
   ]
  },
  {
   "cell_type": "code",
   "execution_count": 2,
   "metadata": {},
   "outputs": [],
   "source": [
    "class SimArgs:\n",
    "    def __init__(self):\n",
    "        # archi\n",
    "        self.n_in = 256\n",
    "        self.n_out = 20\n",
    "        self.n_layers = 3\n",
    "        self.n_hid = 128\n",
    "        # weight\n",
    "        self.w_scale = 0.3\n",
    "        self.pos_w = False # use only positive weights at initizialization\n",
    "        self.noise_sd = 0 # [0.05, 0.1, 0.15, 0.2]\n",
    "        # data\n",
    "        self.nb_rep = 1\n",
    "        self.nb_steps = 200 #int( np.round( self.time_max/self.timestep, 0 ) )\n",
    "        self.time_max = 1.4 # second\n",
    "        self.timestep = self.time_max/self.nb_steps # 0.014 #0.005 # second, 280 timesteps\n",
    "        self.pert_proba = None\n",
    "        self.truncation = False # to use only 150 of 280 timesteps \n",
    "        # neuron model\n",
    "        self.tau_start = 4*self.timestep # second\n",
    "        self.tau_end   = self.time_max/4 # second\n",
    "        self.tau_mem = 40e-3\n",
    "        self.tau_out = 80e-3\n",
    "        self.distrib_tau = True\n",
    "        self.hierarchy_tau = True\n",
    "        self.train_alpha = True\n",
    "        self.v_rest = 0 \n",
    "        self.v_thr = 1\n",
    "        self.v_reset = 0\n",
    "        self.surrogate_fn = 'normal'\n",
    "        # training\n",
    "        self.lr = 0.01\n",
    "        self.nb_epochs = 5\n",
    "        self.grad_clip = 1000\n",
    "        self.batch_size = 128\n",
    "        self.seed = 42\n",
    "        self.lr_config = 2 \n",
    "        self.lr_decay = 0.5\n",
    "        self.lr_decay_every = 25\n",
    "        self.l2_lambda = 1e-5\n",
    "        self.freq_lambda = 1e-7\n",
    "        self.target_fr = 12.\n",
    "\n",
    "args = SimArgs()"
   ]
  },
  {
   "cell_type": "markdown",
   "metadata": {},
   "source": [
    "## Download and Import the SHD dataset\n",
    "---"
   ]
  },
  {
   "cell_type": "code",
   "execution_count": 3,
   "metadata": {},
   "outputs": [
    {
     "name": "stdout",
     "output_type": "stream",
     "text": [
      "Train DL size: 8156, Validation DL size: 1632, Test DL size: 2264\n"
     ]
    }
   ],
   "source": [
    "from utils_dataset import *\n",
    "train_loader_custom_collate, val_loader_custom_collate, test_loader_custom_collate = get_dataloader( args=args, verbose=True )"
   ]
  },
  {
   "cell_type": "markdown",
   "metadata": {},
   "source": [
    "## Neuron Model\n",
    "---\n",
    "We'll use Leaky-Integrate-and-Fire neurons for the Hidden layers, Leaky-Integrator neurons for the output.\n",
    "\n",
    "We also define some additional functions to: Introduce Noise in Weights and Membrane voltage, Introduce the Surrogate Gradient function."
   ]
  },
  {
   "cell_type": "code",
   "execution_count": 4,
   "metadata": {},
   "outputs": [],
   "source": [
    "### Noise function\n",
    "@jax.custom_jvp\n",
    "def add_noise(w, key, noise_std):\n",
    "    ''' Adds noise only for inference '''\n",
    "    noisy_w = jnp.where(w != 0.0,\n",
    "                        w + jax.random.normal(key, w.shape) * jnp.max(jnp.abs(w)) * noise_std,\n",
    "                        w)\n",
    "    return noisy_w\n",
    "\n",
    "@add_noise.defjvp\n",
    "def add_noise_jvp(primals, tangents):\n",
    "    weight, key, noise_std = primals\n",
    "    x_dot, y_dot, z_dot = tangents\n",
    "    primal_out = add_noise(weight, key, noise_std)\n",
    "    tangent_out = x_dot\n",
    "    return primal_out, tangent_out\n",
    "\n",
    "\n",
    "### Surrogate Gradient function\n",
    "@jax.custom_jvp\n",
    "def spiking_fn(x, thr):\n",
    "    \"\"\" Thresholding function for spiking neurons. \"\"\"\n",
    "    return (x > thr).astype(jnp.float32)\n",
    "\n",
    "if args.surrogate_fn == 'box':\n",
    "    @spiking_fn.defjvp\n",
    "    def spiking_jpv(primals, tangents):\n",
    "        \"\"\" Surrogate gradient function for thresholding. \"\"\"\n",
    "        x, thr = primals\n",
    "        x_dot, y_dot = tangents\n",
    "        primal_out = spiking_fn(x, thr)\n",
    "        # tangent_out = x_dot / (10 * jnp.absolute(x - thr) + 1)**2\n",
    "        tangent_out = x_dot * ( jnp.absolute(x-thr)<0.5 ).astype(int)\n",
    "        return primal_out, tangent_out\n",
    "else: \n",
    "    @spiking_fn.defjvp\n",
    "    def spiking_jpv(primals, tangents):\n",
    "        \"\"\" Surrogate gradient function for thresholding. \"\"\"\n",
    "        x, thr = primals\n",
    "        x_dot, y_dot = tangents\n",
    "        primal_out = spiking_fn(x, thr)\n",
    "        tangent_out = x_dot / (10 * jnp.absolute(x - thr) + 1)**2\n",
    "        return primal_out, tangent_out"
   ]
  },
  {
   "cell_type": "code",
   "execution_count": 5,
   "metadata": {},
   "outputs": [],
   "source": [
    "def params_initializer( key, args ):\n",
    "    \"\"\" Initialize parameters. \"\"\"\n",
    "    key_hid = jax.random.split(key, args.n_layers); key=key_hid[0]; key_hid=key_hid[1:]\n",
    "\n",
    "    # Initializing the weights, weight masks and time constant (alpha factors)\n",
    "    net_params, net_states = [], []\n",
    "    for l in range(args.n_layers):\n",
    "\n",
    "        if l == args.n_layers-1:\n",
    "            n_pre = args.n_hid; n_post = args.n_out\n",
    "            # same time-constant for output neurons\n",
    "            tau_l = args.tau_out #args.tau_start + (l/args.n_layers)*( args.tau_end-args.tau_start )\n",
    "            alpha_l = jnp.exp(-args.timestep/tau_l)\n",
    "\n",
    "        else:\n",
    "            if l == 0: n_pre = args.n_in; n_post = args.n_hid\n",
    "            else: n_pre = args.n_hid; n_post = args.n_hid\n",
    "\n",
    "            # partition of the time constants in the different layers\n",
    "            if args.hierarchy_tau: tau_layer = args.tau_start + (l/args.n_layers)*( args.tau_end-args.tau_start )\n",
    "            else: tau_layer = args.tau_mem\n",
    "            if args.distrib_tau:\n",
    "                # tau_l = jax.random.uniform(key_hid[l], [args.n_hid], minval=0.5*tau_layer, maxval=1.5*tau_layer  )\n",
    "                tau_l = jax.random.normal(key_hid[l], [args.n_hid]) * 0.1 * tau_layer + tau_layer\n",
    "            else:\n",
    "                tau_l = tau_layer\n",
    "            alpha_l = jnp.exp(-args.timestep/tau_l)\n",
    "\n",
    "        # initializing the hidden weights with a normal distribution\n",
    "        weight_l = jax.random.normal(key_hid[l], [n_pre, n_post]) * args.w_scale\n",
    "        weight_mask_l = 1 # jax.random.uniform(key_hid[l], [n_pre, n_post]) < (1/args.n_layers)\n",
    "\n",
    "        # the initialization of the membrane voltage\n",
    "        v_mems = np.zeros( (n_post) )\n",
    "        out_spikes = np.zeros( (n_post) )\n",
    "\n",
    "        # building the parameters for each layer\n",
    "        net_params.append( [weight_l, alpha_l] )\n",
    "        net_states.append( [weight_mask_l, tau_l, v_mems, out_spikes, args.v_thr, args.noise_sd] )\n",
    "\n",
    "    return net_params, net_states"
   ]
  },
  {
   "cell_type": "code",
   "execution_count": 32,
   "metadata": {},
   "outputs": [],
   "source": [
    "def lif_forward(net_params, net_states, input_spikes):\n",
    "    ''' Forward function for the Leaky-Integrate and Fire neuron layer, adopted here for the hidden layers. '''\n",
    "\n",
    "    # state: the parameters (weights) and the state of the neurons (spikes, inputs and membrane, ecc..)\n",
    "    w, alpha = net_params; w_mask, tau, V_mem, out_spikes, v_thr, noise_sd = net_states\n",
    "\n",
    "    # we evolve the state of the neuron according to the LIF formula, Euler approximation\n",
    "    I_in = jnp.matmul(input_spikes, w*w_mask) #jnp.einsum('ij,ij->i', w*w_mask, input_spikes)\n",
    "    # V_mem = (alpha) * (V_mem) + (1-alpha) * I_in - out_spikes*v_thr\n",
    "    V_mem = (alpha) * (V_mem) + I_in - out_spikes*v_thr\n",
    "    out_spikes = spiking_fn( V_mem, v_thr )\n",
    "    \n",
    "    return [w, alpha], [w_mask, tau, V_mem, out_spikes, v_thr, noise_sd]\n",
    "\n",
    "def li_output(net_params, net_states, input_spikes):\n",
    "    ''' Forward function for the Leaky-Integrator neuron layer, adopted here for the output layers. '''\n",
    "\n",
    "    # state: the parameters (weights) and the state of the neurons (inputs and membrane)\n",
    "    w, alpha = net_params; w_mask, tau, V_mem, out_spikes, v_thr, noise_sd = net_states\n",
    "\n",
    "    # we evolve the state of the neuron according to the LI formula, Euler approximation\n",
    "    I_in = jnp.matmul(input_spikes, w*w_mask)\n",
    "    # V_mem = (alpha) * (V_mem) + (1-alpha) * I_in\n",
    "    V_mem = (alpha) * (V_mem) + I_in\n",
    "    \n",
    "    return [w, alpha], [w_mask, tau, V_mem, out_spikes, v_thr, noise_sd]\n",
    "\n",
    "def hsnn_step( args_in, input_spikes):\n",
    "    '''The Hierarchical time-constant SNN (hSNN). Made of n_layers layers.'''\n",
    "    net_params, net_states = args_in\n",
    "    n_layers = len(net_params)\n",
    "    # First layer takes inputs from \"input spikes\"\n",
    "    net_params[0], net_states[0] = lif_forward( net_params[0], net_states[0], input_spikes )\n",
    "    for l in range(1, n_layers-1):\n",
    "        # Hidden layer takes inputs from their previous layer\n",
    "        net_params[l], net_states[l] = lif_forward( net_params[l], net_states[l], net_states[l-1][3] ) # net_params[l-1][3] : output spikes from previous layer\n",
    "    # Output layer is a leaky integrator (LI)\n",
    "    net_params[-1], net_states[-1] = li_output( net_params[-1], net_states[-1], net_states[-2][3] )\n",
    "\n",
    "    return [net_params, net_states], net_states # net_params[-1][4] : output leaky membrane voltage\n",
    "\n",
    "def decoder_sum( out_v_mem ):\n",
    "    return jax.nn.softmax( jnp.mean( out_v_mem, axis=1 ), axis=-1 )\n",
    "\n",
    "def decoder_cum( out_v_mem ):\n",
    "    return jnp.mean( jax.nn.softmax( out_v_mem, axis=-1 ), axis=1)\n",
    "\n",
    "def decoder_vmax( out_v_mem ):\n",
    "    return jax.nn.softmax( jnp.max( out_v_mem, axis=1 ), axis=-1 )"
   ]
  },
  {
   "cell_type": "code",
   "execution_count": 11,
   "metadata": {},
   "outputs": [
    {
     "name": "stdout",
     "output_type": "stream",
     "text": [
      "Input shape: train (128, 200, 256) - test (128, 200, 256)\n",
      "Alpha, layer 0, size: (128,)\n",
      "Alpha, layer 1, size: (128,)\n",
      "Alpha, layer 2, size: (128,)\n",
      "Alpha, layer 3, size: (128,)\n",
      "Alpha, layer 4, size: ()\n"
     ]
    },
    {
     "data": {
      "text/plain": [
       "2"
      ]
     },
     "execution_count": 11,
     "metadata": {},
     "output_type": "execute_result"
    }
   ],
   "source": [
    "### try and do a forward pass\n",
    "# load data\n",
    "x_train, Y = next(iter( train_loader_custom_collate ))\n",
    "x_test, Y_test = next(iter( train_loader_custom_collate ))\n",
    "print('Input shape: train '+ str(x_train.shape) + ' - test '+ str(x_test.shape) )\n",
    "\n",
    "# initialize parameters\n",
    "args.distrib_tau = True\n",
    "args.hierarchy_tau = False\n",
    "args.n_layers = 5\n",
    "net_params, net_states = params_initializer( key, args )\n",
    "\n",
    "# forward pass: LIF layer\n",
    "net_params[0], net_states[0] = lif_forward( net_params[0], net_states[0], x_train[0,50] )\n",
    "# printing the size of alpha\n",
    "for n in range(len(net_params)):\n",
    "    print(f'Alpha, layer {n}, size: {net_params[n][1].shape}')\n",
    "\n",
    "# forward pass: network\n",
    "args_out = hsnn_step( [net_params, net_states], x_train[0,50] )\n",
    "len(args_out)\n"
   ]
  },
  {
   "cell_type": "code",
   "execution_count": 29,
   "metadata": {},
   "outputs": [
    {
     "data": {
      "image/png": "[encoded data removed]",
      "text/plain": [
       "<Figure size 640x480 with 1 Axes>"
      ]
     },
     "metadata": {},
     "output_type": "display_data"
    }
   ],
   "source": [
    "for n in range(len(net_params)):\n",
    "    if len(net_params[n][1].shape)>0:\n",
    "        _ = plt.hist(net_params[n][1], 25)"
   ]
  },
  {
   "cell_type": "markdown",
   "metadata": {},
   "source": [
    "# Training Loop\n",
    "---"
   ]
  },
  {
   "cell_type": "code",
   "execution_count": 31,
   "metadata": {},
   "outputs": [
    {
     "name": "stdout",
     "output_type": "stream",
     "text": [
      "(128, 20)\n"
     ]
    }
   ],
   "source": [
    "@jit\n",
    "def predict(args_in, X):\n",
    "    \"\"\" Scans over time and return predictions. \"\"\"\n",
    "    # net_params, net_states = args_in\n",
    "    _, net_states_hist = scan(hsnn_step, args_in, X, length=args.nb_steps)\n",
    "    return net_states_hist\n",
    "# vmap the forward of the model\n",
    "v_predict = vmap(predict, in_axes=(None, 0))\n",
    "\n",
    "def one_hot(x, n_class):\n",
    "    return jnp.array(x[:, None] == jnp.arange(n_class), dtype=jnp.float32)\n",
    "\n",
    "def loss(key, net_params, net_states, X, Y, epoch):\n",
    "    \"\"\" Calculates CE loss after predictions. \"\"\"\n",
    "\n",
    "    # we might want to add noise in the forward pass --> memristor-aware-training\n",
    "    # weight = [net_params[i][0] for i in range( len(net_params) )]\n",
    "    # weight = cond(\n",
    "    #     epoch >= noise_start_step, \n",
    "    #     lambda weight, key : add_noise(weight, key, noise_std),\n",
    "    #     lambda weight, key : weight,\n",
    "    #     weight, key\n",
    "    # )\n",
    "    # forward pass\n",
    "    net_states_hist = v_predict( [net_params, net_states], X)\n",
    "    out_v_mem = net_states_hist[-1][2]\n",
    "    Yhat = decoder_vmax( out_v_mem )\n",
    "    # compute the loss and correct examples\n",
    "    num_correct = jnp.sum(jnp.equal(jnp.argmax(Yhat, 1), jnp.argmax(Y, 1)))\n",
    "    loss_ce = -jnp.mean(jnp.sum( jnp.log(Yhat * Y + 1e-8), axis=-1, dtype=jnp.float32))\n",
    "    # loss_fr = np.mean(target_fr - 10 * np.mean(out_v_mem)) ** 2\n",
    "    ################# ----> Do I need the spiking frequency regularizer?\n",
    "    loss_total = loss_ce #+ loss_fr * lambda_fr\n",
    "    loss_values = [num_correct, 10 * np.mean(out_v_mem), loss_ce]\n",
    "    return loss_total, loss_values\n",
    "\n",
    "# testing the training function\n",
    "args_ins = [net_params, net_states]\n",
    "args_out = scan(hsnn_step, args_ins, x_train[0], length=args.nb_steps)\n",
    "[net_params_hist, net_states_hist] = args_out\n",
    "\n",
    "net_states_hist = v_predict( [net_params, net_states], x_train )\n",
    "out_v_mem = net_states_hist[-1][2]\n",
    "\n",
    "# decoder\n",
    "Yhat = jax.nn.softmax( jnp.mean( out_v_mem, axis=1 ), axis=-1 )\n",
    "Yhat_vmax = jax.nn.softmax( jnp.max( out_v_mem, axis=1 ), axis=-1 )\n",
    "Yhat_cum = jnp.mean( jax.nn.softmax( out_v_mem, axis=-1 ), axis=1)\n",
    "print( Yhat_cum.shape )\n",
    "\n",
    "# loss\n",
    "loss_total, loss_values = loss(key, net_params, net_states, x_train, one_hot(Y, 20), 0)\n",
    "\n",
    "# values and gradients\n",
    "value, grads = value_and_grad(loss, has_aux=True, argnums=(1))(key, net_params, net_states, x_train, one_hot(Y,20), 0)"
   ]
  },
  {
   "cell_type": "code",
   "execution_count": 7,
   "metadata": {},
   "outputs": [],
   "source": [
    "def train_mosaic(key, n_batch, n_epochs, args, \n",
    "                 lr, train_dl, test_dl, val_dl,\n",
    "                 model, param_initializer, decoder, \n",
    "                 noise_start_step, noise_std, dataset_name):\n",
    "    \n",
    "    key, key_model = jax.random.split(key, 2)\n",
    "\n",
    "    @jit\n",
    "    def predict(args_in, X):\n",
    "        \"\"\" Scans over time and return predictions. \"\"\"\n",
    "        _, net_states_hist = scan(model, args_in, X, length=args.nb_steps)\n",
    "        return net_states_hist\n",
    "    # vmap the forward of the model\n",
    "    v_predict = vmap(predict, in_axes=(None, 0))\n",
    "\n",
    "    def loss(key, net_params, net_states, X, Y, epoch):\n",
    "        \"\"\" Calculates CE loss after predictions. \"\"\"\n",
    "\n",
    "        # we might want to add noise in the forward pass --> memristor-aware-training\n",
    "        # weight = [net_params[i][0] for i in range( len(net_params) )]\n",
    "        # weight = cond(\n",
    "        #     epoch >= noise_start_step, \n",
    "        #     lambda weight, key : add_noise(weight, key, noise_std),\n",
    "        #     lambda weight, key : weight,\n",
    "        #     weight, key\n",
    "        # )\n",
    "        # forward pass\n",
    "        net_states_hist = v_predict( [net_params, net_states], X)\n",
    "        out_v_mem = net_states_hist[-1][2]\n",
    "        Yhat = decoder( out_v_mem )\n",
    "        # compute the loss and correct examples\n",
    "        num_correct = jnp.sum(jnp.equal(jnp.argmax(Yhat, 1), jnp.argmax(Y, 1)))\n",
    "        # cross entropy loss\n",
    "        # loss_ce = -jnp.mean( jnp.log( jnp.sum( Yhat * Y, axis=-1, dtype=jnp.float32) + 1e-8 ) )\n",
    "        loss_ce = -jnp.mean( jnp.sum(Y * jnp.log(Yhat), axis=-1) )\n",
    "        # L2 norm\n",
    "        loss_l2 = optimizers.l2_norm( net_params ) * args.l2_lambda\n",
    "        # firing rate loss\n",
    "        avg_spikes_neuron = jnp.mean( jnp.stack( [ jnp.mean( jnp.sum( net_states_hist[l][3], axis=1 ), axis=(0,-1) ) for l in range( len(net_params)-1 )] ) )\n",
    "        loss_fr = args.freq_lambda * (args.target_fr - avg_spikes_neuron)**2\n",
    "        ################# ----> Do I need the spiking frequency regularizer?\n",
    "        loss_total = loss_ce + loss_l2 + loss_fr\n",
    "        loss_values = [num_correct, loss_ce]\n",
    "        return loss_total, loss_values\n",
    " \n",
    "    @jit\n",
    "    def update(key, epoch, net_states, X, Y, opt_state):\n",
    "        train_params = get_params(opt_state)\n",
    "        # forward pass with gradients\n",
    "        value, grads = value_and_grad(loss, has_aux=True, argnums=(1))(key, train_params, net_states, X, Y, epoch)\n",
    "        # possibly disable gradients on alpha and gradient clip\n",
    "        for g in range( len( grads ) ):\n",
    "            grads[g][0] = np.clip(grads[g][0], -args.grad_clip, args.grad_clip)\n",
    "            grads[g][1] = np.clip(grads[g][1], -args.grad_clip, args.grad_clip)\n",
    "        return grads, opt_state, value\n",
    "\n",
    "    def one_hot(x, n_class):\n",
    "        return np.array(x[:, None] == np.arange(n_class), dtype=np.float32)\n",
    "\n",
    "    def total_correct(net_params, net_states, X, Y):\n",
    "        net_states_hist = v_predict( [net_params, net_states], X)\n",
    "        out_v_mem = net_states_hist[-1][2]\n",
    "        Yhat = decoder( out_v_mem )\n",
    "        acc = jnp.sum(jnp.equal(jnp.argmax(Yhat, 1), Y))\n",
    "        return acc\n",
    "\n",
    "    # LR decay\n",
    "    if args.lr_decay_every < n_epochs:\n",
    "        lr_decay = jnp.clip( args.lr_decay, 0, 1 )\n",
    "        intervals = [i*args.lr_decay_every for i in range(int(n_epochs/args.lr_decay_every)-1)]\n",
    "        lr_values = [lr*(lr_decay)**i for i in range(int(n_epochs/args.lr_decay_every))]\n",
    "        pw_lr = optimizers.piecewise_constant(intervals, lr_values)\n",
    "    else: pw_lr = optimizers.piecewise_constant([n_epochs], [lr, lr*jnp.clip( args.lr_decay, 0, 1 )])\n",
    "    # define the optimizer\n",
    "    opt_init, opt_update, get_params = optimizers.adam(step_size=pw_lr)\n",
    "    # opt_init, opt_update, get_params = optimizers.sgd(step_size=pw_lr)\n",
    "    # initialize the parameters (and states)\n",
    "    net_params, net_states = param_initializer( key_model, args )\n",
    "    opt_state = opt_init(net_params)\n",
    "\n",
    "    # Training loop\n",
    "    train_loss = []\n",
    "    train_step = 0\n",
    "    for epoch in range(n_epochs):\n",
    "        t = time.time()\n",
    "        acc = 0; count = 0\n",
    "        for batch_idx, (x, y) in enumerate(train_dl):\n",
    "            y = one_hot(y, args.n_out)\n",
    "            key, _ = jax.random.split(key)\n",
    "            grads, opt_state, (L, [tot_correct, _]) = update(key, epoch, net_states, x, y, opt_state)\n",
    "            # possibly remove gradient from alpha\n",
    "            if not args.train_alpha: \n",
    "                for g in range(len(grads)): grads[g][1] *= 0\n",
    "            # weight update\n",
    "            opt_state = opt_update(epoch, grads, opt_state)\n",
    "            net_params = get_params(opt_state)\n",
    "            # clip alpha between 0 and 1\n",
    "            if args.train_alpha:\n",
    "                for g in range(len(net_params)): net_params[g][1] = jnp.clip(net_params[g][1], 0, 1)\n",
    "            # append stats\n",
    "            train_loss.append(L)\n",
    "            train_step += 1\n",
    "            acc += tot_correct\n",
    "            count += x.shape[0]\n",
    "        \n",
    "        # Training logs\n",
    "        train_acc = 100*acc/count\n",
    "        elapsed_time = time.time() - t\n",
    "        print(f'Epoch: [{epoch+1}/{n_epochs}] - Loss: {L:.5f} - '\n",
    "              f'Training acc: {train_acc:.2f} - t: {elapsed_time:.2f} sec')\n",
    "        # if epoch % 50 == 0:\n",
    "        #     # Save training state\n",
    "        #     trained_params = optimizers.unpack_optimizer_state(opt_state)\n",
    "        #     checkpoint_path = os.path.join('checkpoints', \"checkpoint.pkl\")\n",
    "        #     with open(checkpoint_path, \"wb\") as file:\n",
    "        #         pickle.dump(trained_params, file)\n",
    "\n",
    "    # Testing Loop\n",
    "    if dataset_name == 'shd':\n",
    "        shd_test_loader = test_dl\n",
    "        shd_val_loader = val_dl\n",
    "    elif dataset_name == 'ssc':\n",
    "        ssc_test_loader = test_dl\n",
    "        ssc_val_loader = val_dl\n",
    "    elif dataset_name == 'all':\n",
    "        shd_test_loader, ssc_test_loader = test_dl\n",
    "\n",
    "    # SHD\n",
    "    acc = 0; val_acc_shd = 0; count = 0\n",
    "    if dataset_name in ['shd', 'all']:\n",
    "        for batch_idx, (x, y) in enumerate(shd_val_loader):\n",
    "            count += x.shape[0]\n",
    "            acc += total_correct(net_params, net_states, x, y)\n",
    "        val_acc_shd = 100*acc/count\n",
    "        print(f'SHD Validation Accuracy: {val_acc_shd:.2f}')\n",
    "\n",
    "    acc = 0; test_acc_shd = 0; count = 0\n",
    "    if dataset_name in ['shd', 'all']:\n",
    "        for batch_idx, (x, y) in enumerate(shd_test_loader):\n",
    "            count += x.shape[0]\n",
    "            acc += total_correct(net_params, net_states, x, y)\n",
    "        test_acc_shd = 100*acc/count\n",
    "        print(f'SHD Test Accuracy: {test_acc_shd:.2f}')\n",
    "\n",
    "    # SSC\n",
    "    acc = 0 ; test_acc_ssc = 0\n",
    "    if dataset_name in ['ssc', 'all']:\n",
    "        for batch_idx, (x, y) in enumerate(ssc_test_loader):\n",
    "            acc += total_correct(net_params, net_states, x, y)\n",
    "        test_acc_ssc = 100*acc/((batch_idx+1)*n_batch)\n",
    "        print(f'SSC Test Accuracy: {test_acc_ssc:.2f}')\n",
    "\n",
    "    return train_loss, test_acc_shd, test_acc_ssc, val_acc_shd, net_params"
   ]
  },
  {
   "cell_type": "code",
   "execution_count": 33,
   "metadata": {},
   "outputs": [
    {
     "name": "stdout",
     "output_type": "stream",
     "text": [
      "Epoch: [1/20] - Loss: 2.83378 - Training acc: 13.50 - t: 7.34 sec\n",
      "Epoch: [2/20] - Loss: 2.38547 - Training acc: 23.57 - t: 5.68 sec\n",
      "Epoch: [3/20] - Loss: 1.86842 - Training acc: 32.60 - t: 5.72 sec\n",
      "Epoch: [4/20] - Loss: 1.78804 - Training acc: 38.98 - t: 5.72 sec\n",
      "Epoch: [5/20] - Loss: 1.67384 - Training acc: 46.89 - t: 5.69 sec\n",
      "Epoch: [6/20] - Loss: 1.53004 - Training acc: 49.40 - t: 5.67 sec\n",
      "Epoch: [7/20] - Loss: 1.32630 - Training acc: 53.25 - t: 5.72 sec\n",
      "Epoch: [8/20] - Loss: 1.16060 - Training acc: 57.99 - t: 5.67 sec\n",
      "Epoch: [9/20] - Loss: 1.10792 - Training acc: 61.34 - t: 5.67 sec\n",
      "Epoch: [10/20] - Loss: 1.00100 - Training acc: 64.18 - t: 5.70 sec\n",
      "Epoch: [11/20] - Loss: 1.02370 - Training acc: 65.63 - t: 5.71 sec\n",
      "Epoch: [12/20] - Loss: 0.96654 - Training acc: 67.72 - t: 5.70 sec\n",
      "Epoch: [13/20] - Loss: 0.96369 - Training acc: 67.24 - t: 5.70 sec\n",
      "Epoch: [14/20] - Loss: 1.07613 - Training acc: 68.50 - t: 5.90 sec\n",
      "Epoch: [15/20] - Loss: 0.84258 - Training acc: 68.72 - t: 5.79 sec\n",
      "Epoch: [16/20] - Loss: 0.75114 - Training acc: 71.26 - t: 5.70 sec\n",
      "Epoch: [17/20] - Loss: 0.89482 - Training acc: 73.79 - t: 5.77 sec\n",
      "Epoch: [18/20] - Loss: 0.76380 - Training acc: 75.48 - t: 5.84 sec\n",
      "Epoch: [19/20] - Loss: 0.66718 - Training acc: 77.31 - t: 5.71 sec\n",
      "Epoch: [20/20] - Loss: 0.59066 - Training acc: 78.46 - t: 5.74 sec\n",
      "SHD Validation Accuracy: 59.62\n",
      "SHD Test Accuracy: 49.47\n"
     ]
    }
   ],
   "source": [
    "args.train_alpha = True\n",
    "args.hierarchy_tau = False\n",
    "args.distrib_tau = True\n",
    "# network architecture\n",
    "args.n_layers = 3\n",
    "args.n_hid = 128\n",
    "# time constants\n",
    "args.tau_mem = 0.1\n",
    "args.tau_out = 0.1\n",
    "# weight init\n",
    "args.w_scale = 0.4\n",
    "# LR and regularizers\n",
    "args.lr = 0.01\n",
    "args.lr_decay = 0.5\n",
    "args.lr_decay_every = 20\n",
    "args.l2_lambda = 1e-5\n",
    "args.freq_lambda = 5e-5\n",
    "n_epochs = 20\n",
    "\n",
    "train_loss, test_acc_shd, test_acc_ssc, val_acc_shd, net_params_trained = train_mosaic(key = jax.random.PRNGKey(args.seed), n_batch=args.batch_size, n_epochs=n_epochs, args = args, lr = args.lr, \n",
    "                                                                train_dl = train_loader_custom_collate, test_dl = test_loader_custom_collate, val_dl=val_loader_custom_collate,\n",
    "                                                                model=hsnn_step, param_initializer=params_initializer, decoder=decoder_sum, \n",
    "                                                                noise_start_step=10, noise_std=0.1, dataset_name='shd')"
   ]
  },
  {
   "cell_type": "code",
   "execution_count": 20,
   "metadata": {},
   "outputs": [
    {
     "name": "stdout",
     "output_type": "stream",
     "text": [
      "Acc 7.924585819244385\n"
     ]
    }
   ],
   "source": [
    "def predict(args_in, X):\n",
    "    \"\"\" Scans over time and return predictions. \"\"\"\n",
    "    # net_params, net_states = args_in\n",
    "    _, net_states_hist = scan(hsnn_step, args_in, X, length=args.nb_steps)\n",
    "    return net_states_hist\n",
    "# vmap the forward of the model\n",
    "v_predict = vmap(predict, in_axes=(None, 0))\n",
    "\n",
    "# initialize parameters\n",
    "net_params, net_states = params_initializer( jax.random.PRNGKey(args.seed), args )\n",
    "acc = 0; count =0\n",
    "for x_test, Y_test in train_loader_custom_collate :\n",
    "    net_states_hist = v_predict( [net_params_trained, net_states], x_test)\n",
    "    out_v_mem = net_states_hist[-1][2]\n",
    "    Yhat = decoder_sum( out_v_mem )\n",
    "    count += x_test.shape[0]\n",
    "    acc += jnp.sum( (jnp.argmax(Yhat, axis=-1) == Y_test).astype(int) )\n",
    "acc /= count\n",
    "print(f'Acc {acc*100}')"
   ]
  },
  {
   "cell_type": "code",
   "execution_count": 19,
   "metadata": {},
   "outputs": [
    {
     "data": {
      "text/plain": [
       "Array(22.247112, dtype=float32)"
      ]
     },
     "execution_count": 19,
     "metadata": {},
     "output_type": "execute_result"
    }
   ],
   "source": [
    "jnp.mean( jnp.stack( [ jnp.mean( jnp.sum( net_states_hist[l][3], axis=1 ), axis=(0,-1) ) for l in range( len(net_params_trained)-1 )] ) )"
   ]
  },
  {
   "cell_type": "code",
   "execution_count": null,
   "metadata": {},
   "outputs": [],
   "source": [
    "jnp.sum( net_states_hist[1][2][100], axis=0 )"
   ]
  },
  {
   "cell_type": "code",
   "execution_count": 23,
   "metadata": {},
   "outputs": [
    {
     "data": {
      "text/plain": [
       "Array(0.3797781, dtype=float32)"
      ]
     },
     "execution_count": 23,
     "metadata": {},
     "output_type": "execute_result"
    }
   ],
   "source": [
    "net_params_trained[2][1]"
   ]
  },
  {
   "cell_type": "code",
   "execution_count": 104,
   "metadata": {},
   "outputs": [
    {
     "name": "stdout",
     "output_type": "stream",
     "text": [
      "Input shape: train (128, 200, 256) - test (128, 200, 256)\n"
     ]
    }
   ],
   "source": [
    "### try and do a forward pass\n",
    "# load data\n",
    "x_train, Y = next(iter( train_loader_custom_collate ))\n",
    "x_test, Y_test = next(iter( test_loader_custom_collate ))\n",
    "print('Input shape: train '+ str(x_train.shape) + ' - test '+ str(x_test.shape) )\n",
    "\n",
    "# initialize parameters\n",
    "net_params, net_states = params_initializer( key, args )\n",
    "\n",
    "net_states_hist = v_predict( [net_params_trained, net_states], x_test)\n",
    "out_v_mem = net_states_hist[-1][2]\n",
    "Yhat = decoder_sum( out_v_mem )"
   ]
  },
  {
   "cell_type": "code",
   "execution_count": 101,
   "metadata": {},
   "outputs": [
    {
     "data": {
      "text/plain": [
       "(Array([ 4.431197 ,  3.4919863,  4.030807 ,  4.798508 ,  1.5315102,\n",
       "         7.690341 ,  0.8310671,  7.405165 ,  4.16926  ,  6.630653 ,\n",
       "         5.684929 ,  9.880762 ,  8.699758 ,  9.446497 ,  5.2380466,\n",
       "         3.788078 ,  8.342206 ,  3.9432   , 11.005597 ,  4.43839  ],      dtype=float32),\n",
       " Array(18, dtype=int32),\n",
       " 11)"
      ]
     },
     "execution_count": 101,
     "metadata": {},
     "output_type": "execute_result"
    }
   ],
   "source": [
    "j = 1\n",
    "jnp.max(out_v_mem[j], axis=0), jnp.argmax( jnp.max(out_v_mem[j], axis=0), axis=0), Y_test[j]"
   ]
  },
  {
   "cell_type": "code",
   "execution_count": 100,
   "metadata": {},
   "outputs": [
    {
     "data": {
      "text/plain": [
       "((Array([ 3, 18,  7,  0, 10, 16,  0,  4, 18, 18, 18, 14, 17,  8, 17, 16,  0,\n",
       "          8, 14,  9, 12, 19, 16,  0,  8,  5,  4,  0, 11, 16,  6, 17,  0,  9,\n",
       "          8,  8, 13, 17, 12, 10, 16,  8,  6,  0, 18,  8,  7, 12, 18,  7, 16,\n",
       "          5, 18,  6, 11,  6, 14, 15, 11, 17,  5, 11, 10,  7, 14, 18, 11, 19,\n",
       "         13,  5, 15, 11,  9,  0, 14, 18,  4, 15,  7, 12,  8, 17, 19, 17,  7,\n",
       "          8, 19, 10, 10, 12,  7, 16, 13,  8,  7, 17, 19,  9,  8, 12, 18, 18,\n",
       "          9,  9, 16, 13, 13, 18, 18, 10, 16,  0,  0,  4, 19, 13, 18,  3, 16,\n",
       "          7, 12, 10, 12, 15,  4, 18, 13,  7], dtype=int32),\n",
       "  array([10, 11,  7, 10,  3,  5,  0, 10, 18,  5, 16, 14, 12,  8,  0, 16, 10,\n",
       "         16, 17, 13, 19,  9,  7,  4,  6,  9,  0,  0,  9,  9,  6,  2,  3, 12,\n",
       "          8,  8,  7, 10, 12, 10, 14,  8,  6,  0, 11,  8,  7, 17,  5,  7, 13,\n",
       "         11, 18,  6, 11,  6, 15, 17, 14,  0,  1, 18, 17, 13,  0, 18, 13,  5,\n",
       "         14,  1, 10, 13, 14, 14, 10, 11,  4,  3,  7, 17,  8,  7, 14, 14,  7,\n",
       "         16,  3, 14, 15,  5, 19, 10, 16,  8, 19,  0, 19,  1,  6,  1, 18, 18,\n",
       "         13, 11, 14, 13,  4, 11,  1, 10,  6, 13,  4,  0,  2, 12, 11, 10, 18,\n",
       "          4,  1, 12, 12,  0,  4, 17, 13, 16], dtype=uint8)),\n",
       " Array(0.28125, dtype=float32))"
      ]
     },
     "execution_count": 100,
     "metadata": {},
     "output_type": "execute_result"
    }
   ],
   "source": [
    "(jnp.argmax(Yhat, axis=-1), Y_test), jnp.mean( (jnp.argmax(Yhat, axis=-1) == Y_test).astype(int) )"
   ]
  },
  {
   "cell_type": "code",
   "execution_count": 105,
   "metadata": {},
   "outputs": [
    {
     "data": {
      "image/png": "[encoded data removed]",
      "text/plain": [
       "<Figure size 640x480 with 1 Axes>"
      ]
     },
     "metadata": {},
     "output_type": "display_data"
    }
   ],
   "source": [
    "_ = plt.plot( out_v_mem[1] )"
   ]
  },
  {
   "cell_type": "code",
   "execution_count": null,
   "metadata": {},
   "outputs": [],
   "source": [
    "i = 2\n",
    "net_params, net_states = params_initializer( jax.random.PRNGKey(args.seed), args )\n",
    "net_params_trained[i][0] - net_params[i][0]"
   ]
  },
  {
   "cell_type": "code",
   "execution_count": 26,
   "metadata": {},
   "outputs": [
    {
     "name": "stdout",
     "output_type": "stream",
     "text": [
      "Epoch: [0/50] - Loss: 1.76 - Training acc: 19.85 - t: 10.26 sec\n",
      "Epoch: [1/50] - Loss: 1.10 - Training acc: 56.48 - t: 4.48 sec\n",
      "Epoch: [2/50] - Loss: 0.77 - Training acc: 68.75 - t: 4.39 sec\n",
      "Epoch: [3/50] - Loss: 0.69 - Training acc: 76.07 - t: 4.38 sec\n",
      "Epoch: [4/50] - Loss: 0.72 - Training acc: 79.63 - t: 4.41 sec\n",
      "Epoch: [5/50] - Loss: 0.57 - Training acc: 82.14 - t: 4.40 sec\n",
      "Epoch: [6/50] - Loss: 0.54 - Training acc: 84.93 - t: 4.43 sec\n",
      "Epoch: [7/50] - Loss: 0.34 - Training acc: 86.60 - t: 4.51 sec\n",
      "Epoch: [8/50] - Loss: 0.38 - Training acc: 88.94 - t: 4.52 sec\n",
      "Epoch: [9/50] - Loss: 0.32 - Training acc: 89.51 - t: 4.46 sec\n",
      "Epoch: [10/50] - Loss: 0.34 - Training acc: 90.95 - t: 4.49 sec\n",
      "Epoch: [11/50] - Loss: 0.24 - Training acc: 92.00 - t: 4.43 sec\n",
      "Epoch: [12/50] - Loss: 0.27 - Training acc: 93.08 - t: 4.46 sec\n",
      "Epoch: [13/50] - Loss: 0.19 - Training acc: 94.52 - t: 4.43 sec\n",
      "Epoch: [14/50] - Loss: 0.19 - Training acc: 94.65 - t: 4.46 sec\n",
      "Epoch: [15/50] - Loss: 0.17 - Training acc: 95.47 - t: 4.46 sec\n",
      "Epoch: [16/50] - Loss: 0.20 - Training acc: 96.60 - t: 4.44 sec\n",
      "Epoch: [17/50] - Loss: 0.20 - Training acc: 95.93 - t: 4.44 sec\n",
      "Epoch: [18/50] - Loss: 0.13 - Training acc: 96.89 - t: 4.44 sec\n",
      "Epoch: [19/50] - Loss: 0.13 - Training acc: 97.96 - t: 4.45 sec\n",
      "Epoch: [20/50] - Loss: 0.07 - Training acc: 98.02 - t: 4.44 sec\n",
      "Epoch: [21/50] - Loss: 0.13 - Training acc: 98.24 - t: 4.43 sec\n",
      "Epoch: [22/50] - Loss: 0.06 - Training acc: 98.62 - t: 4.46 sec\n",
      "Epoch: [23/50] - Loss: 0.11 - Training acc: 99.00 - t: 4.44 sec\n",
      "Epoch: [24/50] - Loss: 0.06 - Training acc: 99.28 - t: 4.44 sec\n",
      "Epoch: [25/50] - Loss: 0.08 - Training acc: 99.37 - t: 4.44 sec\n",
      "Epoch: [26/50] - Loss: 0.05 - Training acc: 99.63 - t: 4.44 sec\n",
      "Epoch: [27/50] - Loss: 0.04 - Training acc: 99.74 - t: 4.44 sec\n",
      "Epoch: [28/50] - Loss: 0.04 - Training acc: 99.63 - t: 4.46 sec\n",
      "Epoch: [29/50] - Loss: 0.03 - Training acc: 99.75 - t: 4.46 sec\n",
      "Epoch: [30/50] - Loss: 0.05 - Training acc: 99.45 - t: 4.44 sec\n",
      "Epoch: [31/50] - Loss: 0.04 - Training acc: 99.60 - t: 4.45 sec\n",
      "Epoch: [32/50] - Loss: 0.02 - Training acc: 99.82 - t: 4.44 sec\n",
      "Epoch: [33/50] - Loss: 0.02 - Training acc: 99.85 - t: 4.44 sec\n",
      "Epoch: [34/50] - Loss: 0.02 - Training acc: 99.88 - t: 4.43 sec\n",
      "Epoch: [35/50] - Loss: 0.02 - Training acc: 99.89 - t: 4.43 sec\n",
      "Epoch: [36/50] - Loss: 0.01 - Training acc: 99.89 - t: 4.41 sec\n",
      "Epoch: [37/50] - Loss: 0.01 - Training acc: 99.89 - t: 4.45 sec\n",
      "Epoch: [38/50] - Loss: 0.01 - Training acc: 99.89 - t: 4.42 sec\n",
      "Epoch: [39/50] - Loss: 0.01 - Training acc: 99.89 - t: 4.47 sec\n",
      "Epoch: [40/50] - Loss: 0.01 - Training acc: 99.89 - t: 4.46 sec\n",
      "Epoch: [41/50] - Loss: 0.01 - Training acc: 99.89 - t: 4.40 sec\n",
      "Epoch: [42/50] - Loss: 0.01 - Training acc: 99.89 - t: 4.44 sec\n",
      "Epoch: [43/50] - Loss: 0.01 - Training acc: 99.89 - t: 4.46 sec\n",
      "Epoch: [44/50] - Loss: 0.01 - Training acc: 99.91 - t: 4.45 sec\n",
      "Epoch: [45/50] - Loss: 0.01 - Training acc: 99.89 - t: 4.42 sec\n",
      "Epoch: [46/50] - Loss: 0.01 - Training acc: 99.89 - t: 4.44 sec\n",
      "Epoch: [47/50] - Loss: 0.00 - Training acc: 99.91 - t: 4.45 sec\n",
      "Epoch: [48/50] - Loss: 0.00 - Training acc: 99.91 - t: 4.46 sec\n",
      "Epoch: [49/50] - Loss: 0.00 - Training acc: 99.91 - t: 4.45 sec\n",
      "SHD Test Accuracy: 68.14\n"
     ]
    }
   ],
   "source": [
    "args.train_alpha = True\n",
    "args.hierarchy_tau = True\n",
    "train_loss, test_acc_shd, test_acc_ssc, weight = train_mosaic(key = jax.random.PRNGKey(args.seed), n_batch=args.batch_size, n_epochs=50, args = args, \n",
    "                                                                lr = args.lr, lr_dropstep=1., \n",
    "                                                                train_dl = train_loader_custom_collate, test_dl = test_loader_custom_collate, \n",
    "                                                                model=hsnn_step, param_initializer=params_initializer, decoder=decoder_vmax, \n",
    "                                                                noise_start_step=10, noise_std=0.1,\n",
    "                                                                target_fr=None, lambda_fr=None, dataset_name='shd')"
   ]
  }
 ],
 "metadata": {
  "kernelspec": {
   "display_name": "denram",
   "language": "python",
   "name": "python3"
  },
  "language_info": {
   "codemirror_mode": {
    "name": "ipython",
    "version": 3
   },
   "file_extension": ".py",
   "mimetype": "text/x-python",
   "name": "python",
   "nbconvert_exporter": "python",
   "pygments_lexer": "ipython3",
   "version": "3.10.9"
  }
 },
 "nbformat": 4,
 "nbformat_minor": 2
}
