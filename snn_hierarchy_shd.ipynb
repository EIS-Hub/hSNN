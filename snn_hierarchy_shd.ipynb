{
 "cells": [
  {
   "cell_type": "markdown",
   "metadata": {},
   "source": [
    "# SNN with hierarchy of Time constant\n",
    "---\n",
    "This notebook is mainly for developing the code that will be rewritten in python files\\\\\n",
    "\n",
    "The idea is to explore what role a hierarchy of time scales have in temporal processing, especially when dealing with multi-time-scale inputs.\\\\\n",
    "\n",
    "Prior literature shows the importance of heterogeneity of time scales in SNNs, mainly showing that diversity of time-scales are beneficial.\n",
    "- https://www.nature.com/articles/s41467-021-26022-3\n",
    "- https://www.nature.com/articles/s41467-023-44614-z\n",
    "\n",
    "However, an interpretation of the role of the hierarchy of time constant is still missing.\n",
    "\n",
    "The assumption is that when treating a temporal sequence sempled at a certain period $\\tau_{sampling}$ and with a total duration $\\Tau$, there can be an optimal sequence of filters $F_i(\\tau_i)$ that process the input sequence. For each of the filters $\\tau_{i+1} > \\tau_i$, where the subscript indicates the order of the filter. More simply, there is a hierarchy of time-scales - from fast to slow - that leads to an optimal processing of the input sequence."
   ]
  },
  {
   "cell_type": "code",
   "execution_count": 1,
   "metadata": {},
   "outputs": [
    {
     "name": "stderr",
     "output_type": "stream",
     "text": [
      "WARNING: All log messages before absl::InitializeLog() is called are written to STDERR\n",
      "I0000 00:00:1710181376.387770       1 tfrt_cpu_pjrt_client.cc:349] TfrtCpuClient created.\n"
     ]
    },
    {
     "data": {
      "text/plain": [
       "[CpuDevice(id=0)]"
      ]
     },
     "execution_count": 1,
     "metadata": {},
     "output_type": "execute_result"
    }
   ],
   "source": [
    "import jax\n",
    "import jax.numpy as jnp\n",
    "from jax.example_libraries import optimizers\n",
    "\n",
    "import matplotlib.pyplot as plt\n",
    "import numpy as np\n",
    "import os\n",
    "import time\n",
    "import random\n",
    "\n",
    "from jax import vmap, jit, value_and_grad, local_device_count\n",
    "from jax.example_libraries import optimizers\n",
    "from jax.lax import scan, cond\n",
    "import pickle\n",
    "\n",
    "os.environ[\"XLA_PYTHON_CLIENT_MEM_FRACTION\"]=\".75\" # needed because network is huge\n",
    "os.environ[\"CUDA_VISIBLE_DEVICES\"]=\"0\"\n",
    "jax.devices()"
   ]
  },
  {
   "cell_type": "markdown",
   "metadata": {},
   "source": [
    "## Parameters of the SNN model\n",
    "---"
   ]
  },
  {
   "cell_type": "code",
   "execution_count": 2,
   "metadata": {},
   "outputs": [],
   "source": [
    "from utils_initialization import args"
   ]
  },
  {
   "cell_type": "markdown",
   "metadata": {},
   "source": [
    "## Download and Import the SHD dataset\n",
    "---"
   ]
  },
  {
   "cell_type": "code",
   "execution_count": 3,
   "metadata": {},
   "outputs": [
    {
     "name": "stdout",
     "output_type": "stream",
     "text": [
      "Train DL size: 8156, Validation DL size: 1632, Test DL size: 2264\n"
     ]
    }
   ],
   "source": [
    "from utils_dataset import get_dataloader\n",
    "train_loader_custom_collate, val_loader_custom_collate, test_loader_custom_collate = get_dataloader( args=args, verbose=True )"
   ]
  },
  {
   "cell_type": "markdown",
   "metadata": {},
   "source": [
    "## Neuron Model\n",
    "---\n",
    "We'll use Leaky-Integrate-and-Fire neurons for the Hidden layers, Leaky-Integrator neurons for the output.\n",
    "\n",
    "We also define some additional functions to: Introduce Noise in Weights and Membrane voltage, Introduce the Surrogate Gradient function."
   ]
  },
  {
   "cell_type": "code",
   "execution_count": 4,
   "metadata": {},
   "outputs": [],
   "source": [
    "from models import *\n",
    "from utils_initialization import *"
   ]
  },
  {
   "cell_type": "code",
   "execution_count": 5,
   "metadata": {},
   "outputs": [],
   "source": [
    "# Normalization Layers\n",
    "from typing import (Any, Callable, Iterable, Optional, Tuple, Union)\n",
    "\n",
    "PRNGKey = Any\n",
    "Array = Any\n",
    "Shape = Tuple[int, ...]\n",
    "Dtype = Any  # this could be a real type?\n",
    "\n",
    "Axes = Union[int, Iterable[int]]\n",
    "\n",
    "def _canonicalize_axes(rank: int, axes: Axes) -> Tuple[int, ...]:\n",
    "    \"\"\"Returns a tuple of deduplicated, sorted, and positive axes.\"\"\"\n",
    "    if not isinstance(axes, Iterable):\n",
    "        axes = (axes,)\n",
    "    return tuple(set([rank + axis if axis < 0 else axis for axis in axes]))\n",
    "\n",
    "\n",
    "def _abs_sq(x):\n",
    "    \"\"\"Computes the elementwise square of the absolute value |x|^2.\"\"\"\n",
    "    if jnp.iscomplexobj(x):\n",
    "        return jax.lax.square(jax.lax.real(x)) + jax.lax.square(jax.lax.imag(x))\n",
    "    else:\n",
    "        return jax.lax.square(x)\n",
    "\n",
    "def _compute_stats(x: Array, axes: Axes,\n",
    "                   dtype: Optional[Dtype],\n",
    "                   axis_name: Optional[str] = None,\n",
    "                   axis_index_groups: Any = None):\n",
    "    \"\"\"Computes mean and variance statistics.\n",
    "    Returns:\n",
    "      A pair ``(mean, var)``.\n",
    "    \"\"\"\n",
    "    if dtype is None:\n",
    "      dtype = jnp.result_type(x)\n",
    "    # promote x to at least float32, this avoids half precision computation\n",
    "    # but preserves double or complex floating points\n",
    "    dtype = jnp.promote_types(dtype, jnp.float32)\n",
    "    x = jnp.asarray(x, dtype)\n",
    "\n",
    "    mean = jnp.mean(x, axes)\n",
    "    mean2 = jnp.mean(_abs_sq(x), axes)\n",
    "    if axis_name is not None:\n",
    "      concatenated_mean = jnp.concatenate([mean, mean2])\n",
    "      mean, mean2 = jnp.split(\n",
    "          jax.lax.pmean(\n",
    "              concatenated_mean,\n",
    "              axis_name=axis_name,\n",
    "              axis_index_groups=axis_index_groups), 2)\n",
    "    # mean2 - _abs_sq(mean) is not guaranteed to be non-negative due\n",
    "    # to floating point round-off errors.\n",
    "    var = jnp.maximum(0., mean2 - _abs_sq(mean))\n",
    "    return mean, var\n",
    "\n",
    "\n",
    "def _normalize(x: Array, mean: Array, var: Array,\n",
    "               reduction_axes: Axes, feature_axes: Axes,\n",
    "               dtype: Dtype, param_dtype: Dtype,\n",
    "               epsilon: float,\n",
    "               bias: Array,\n",
    "               scale: Array):\n",
    "    \"\"\"\"Normalizes the input of a normalization layer and optionally applies a learned scale and bias.\n",
    "\n",
    "    Arguments:\n",
    "    mdl: Module to apply the normalization in (normalization params will reside\n",
    "        in this module).\n",
    "    x: The input.\n",
    "    mean: Mean to use for normalization.\n",
    "    var: Variance to use for normalization.\n",
    "    reduction_axes: The axes in ``x`` to reduce.\n",
    "    feature_axes: Axes containing features. A separate bias and scale is learned\n",
    "        for each specified feature.\n",
    "    dtype: The dtype of the result (default: infer from input and params).\n",
    "    param_dtype: The dtype of the parameters.\n",
    "    epsilon: Normalization epsilon.\n",
    "    use_bias: If true, add a bias term to the output.\n",
    "    use_scale: If true, scale the output.\n",
    "    bias_init: Initialization function for the bias term.\n",
    "    scale_init: Initialization function for the scaling function.\n",
    "\n",
    "    Returns:\n",
    "    The normalized input.\n",
    "    \"\"\"\n",
    "    reduction_axes = _canonicalize_axes(x.ndim, reduction_axes)\n",
    "    feature_axes = _canonicalize_axes(x.ndim, feature_axes)\n",
    "    stats_shape = list(x.shape)\n",
    "    for axis in reduction_axes:\n",
    "        stats_shape[axis] = 1\n",
    "    mean = mean.reshape(stats_shape)\n",
    "    var = var.reshape(stats_shape)\n",
    "    feature_shape = [1] * x.ndim\n",
    "    reduced_feature_shape = []\n",
    "    for ax in feature_axes:\n",
    "        feature_shape[ax] = x.shape[ax]\n",
    "        reduced_feature_shape.append(x.shape[ax])\n",
    "    y = x - mean\n",
    "    mul = jax.lax.rsqrt(var + epsilon)\n",
    "    args = [x]\n",
    "    # scale = mdl.param('scale', scale_init, reduced_feature_shape,\n",
    "    #                     param_dtype).reshape(feature_shape)\n",
    "    mul *= scale\n",
    "    args.append(scale)\n",
    "    y *= mul\n",
    "    # bias = mdl.param('bias', bias_init, reduced_feature_shape,\n",
    "    #                     param_dtype).reshape(feature_shape)\n",
    "    y += bias\n",
    "    args.append(bias)\n",
    "    #   dtype = canonicalize_dtype(*args, dtype=dtype)\n",
    "    return jnp.asarray(y)"
   ]
  },
  {
   "cell_type": "code",
   "execution_count": 6,
   "metadata": {},
   "outputs": [],
   "source": [
    "def BatchNorm1d( x, epsilon: float = 1e-5, bias = jax.nn.initializers.zeros, scale = jax.nn.initializers.ones ):\n",
    "    mean, var = x.mean( axis=0 ), x.std( axis=0 )\n",
    "    return ( x - mean ) * jax.lax.rsqrt(var + epsilon) * scale + bias"
   ]
  },
  {
   "cell_type": "code",
   "execution_count": 30,
   "metadata": {},
   "outputs": [
    {
     "name": "stdout",
     "output_type": "stream",
     "text": [
      "3.457535e-08 1.0000046\n",
      "3.457535e-08 1.0000046\n",
      "[ 1.5832484e-07 -2.0302832e-07 -6.1839819e-07  4.7311187e-07] [0.99999523 0.9999974  1.0000019  0.9999846 ]\n",
      "[ 1.6577542e-07 -2.0489097e-07 -6.0349703e-07  4.6193600e-07] [1.0630088 1.0701135 0.959424  0.9758507]\n"
     ]
    }
   ],
   "source": [
    "###################\n",
    "## NORMALIZATION ##\n",
    "###################\n",
    "from utils_normalization import *\n",
    "\n",
    "key = jax.random.PRNGKey(seed=args.seed)\n",
    "x = jax.random.normal( key, [128,4], dtype=jnp.float32 ) + 10\n",
    "mean, var = _compute_stats(x, axes=-1, dtype=jnp.float32)\n",
    "# print( mean, var )\n",
    "\n",
    "y = _normalize(x, mean, var,\n",
    "               reduction_axes = -1, feature_axes = -1,\n",
    "               dtype= jnp.float32, param_dtype = jnp.float32,\n",
    "               epsilon = 1e-6,\n",
    "               bias = jnp.zeros( (x.shape[-1]) ),\n",
    "               scale = jnp.ones( (x.shape[-1]) ))\n",
    "# print( jnp.mean(y, axis=-1), jnp.var(y, axis=-1) )\n",
    "print( jnp.mean(y), jnp.var(y) )\n",
    "\n",
    "ynorm = LayerNorm( x, bias = jnp.zeros( (x.shape[-1]) ),\n",
    "               scale = jnp.ones( (x.shape[-1]) ) )\n",
    "# print( jnp.mean(ynorm, axis=-1), jnp.var(ynorm, axis=-1) )\n",
    "print( jnp.mean(ynorm), jnp.var(ynorm) )\n",
    "\n",
    "yBnorm = BatchNorm( x, bias = jnp.zeros( (x.shape[-1]) ),\n",
    "               scale = jnp.ones( (x.shape[-1]) ) )\n",
    "# print( jnp.mean(yBnorm), jnp.var(yBnorm) )\n",
    "print( jnp.mean(yBnorm, axis=0), jnp.var(yBnorm, axis=0) )\n",
    "\n",
    "yBnorm1d = BatchNorm1d( x, bias = jnp.zeros( (x.shape[-1]) ),\n",
    "               scale = jnp.ones( (x.shape[-1]) ) )\n",
    "# print( jnp.mean(yBnorm), jnp.var(yBnorm) )\n",
    "print( jnp.mean(yBnorm1d, axis=0), jnp.var(yBnorm1d, axis=0) )"
   ]
  },
  {
   "cell_type": "code",
   "execution_count": 32,
   "metadata": {},
   "outputs": [
    {
     "name": "stdout",
     "output_type": "stream",
     "text": [
      "[1.1059456e-06 1.3308600e-06 1.0009389e-06 9.6578151e-07] [0.99997616 0.999968   0.9999694  0.99997425]\n",
      "0.9999719\n",
      "[0.49998805 0.49998403 0.49998468 0.49998707]\n",
      "[5.5297278e-07 6.6542998e-07 5.0046947e-07 4.8289075e-07]\n"
     ]
    }
   ],
   "source": [
    "key = jax.random.PRNGKey(seed=args.seed)\n",
    "x = jax.random.normal( key, [1024,4], dtype=jnp.float32 ) + 10\n",
    "\n",
    "yBnorm1d = BatchNorm( x, bias = jnp.zeros( (x.shape[-1]) ),\n",
    "               scale = jnp.ones( (x.shape[-1]) ) )\n",
    "# print( jnp.mean(yBnorm), jnp.var(yBnorm) )\n",
    "print( jnp.mean(yBnorm1d, axis=0), jnp.var(yBnorm1d, axis=0) )\n",
    "\n",
    "def loss_bn_jax(x, params):\n",
    "    scale, bias = params\n",
    "    yBnorm1d = BatchNorm( x, bias = bias, scale = scale )\n",
    "    return jnp.square(yBnorm1d).mean()\n",
    "\n",
    "params = [ jnp.ones( (x.shape[-1]), dtype=jnp.float32 ), jnp.zeros( (x.shape[-1]), dtype=jnp.float32 ) ]\n",
    "value, grads = value_and_grad(loss_bn_jax, has_aux=False, argnums=(1))(x, params)\n",
    "print( value )\n",
    "print( grads[0] )\n",
    "print( grads[1] )"
   ]
  },
  {
   "cell_type": "code",
   "execution_count": 33,
   "metadata": {},
   "outputs": [
    {
     "name": "stdout",
     "output_type": "stream",
     "text": [
      "tensor([-1.1451e-06,  6.5938e-07, -2.5751e-07, -1.7881e-07],\n",
      "       grad_fn=<MeanBackward1>) tensor([1.0010, 1.0010, 1.0010, 1.0010], grad_fn=<VarBackward0>)\n",
      "tensor([0.5000, 0.5000, 0.5000, 0.5000])\n",
      "tensor([-5.7439e-07,  3.2876e-07, -1.3039e-07, -8.7777e-08])\n"
     ]
    }
   ],
   "source": [
    "import torch\n",
    "xtorch = torch.from_numpy( np.array(x) ).type(torch.float32)\n",
    "\n",
    "BN = torch.nn.BatchNorm1d( num_features=x.shape[1], track_running_stats=False, dtype=torch.float32 )\n",
    "yBnorm_torch = BN( xtorch )\n",
    "print( torch.mean(yBnorm_torch, axis=(0)), torch.var(yBnorm_torch, axis=0) )\n",
    "\n",
    "loss_bn_torch = torch.square(yBnorm_torch).mean()\n",
    "loss_bn_torch.backward()\n",
    "\n",
    "print( BN.weight.grad )\n",
    "print( BN.bias.grad )"
   ]
  },
  {
   "cell_type": "code",
   "execution_count": 5,
   "metadata": {},
   "outputs": [],
   "source": [
    "def lif_step( args_in, input_spikes ):\n",
    "    ''' Forward function for the Leaky-Integrate and Fire neuron layer, adopted here for the hidden layers. '''\n",
    "    net_params, net_states = args_in\n",
    "    # state: the parameters (weights) and the state of the neurons (spikes, inputs and membrane, ecc..)\n",
    "    w, alpha = net_params; w_mask, tau, V_mem, out_spikes, v_thr, noise_sd = net_states\n",
    "\n",
    "    # V_mem = (alpha) * (V_mem - out_spikes) + (1-alpha) * I_in #- out_spikes*v_thr\n",
    "    # V_mem = (alpha) * (V_mem - out_spikes) + I_in #- out_spikes*v_thr\n",
    "    V_mem = alpha * V_mem + input_spikes - out_spikes*v_thr\n",
    "    out_spikes = spiking_fn( V_mem, v_thr )\n",
    "    \n",
    "    return [ [w, alpha], [w_mask, tau, V_mem, out_spikes, v_thr, noise_sd] ], out_spikes\n",
    "\n",
    "\n",
    "# Leaky Integrate and Fire layer, Recurrent\n",
    "def rlif_step( args_in, input_spikes):\n",
    "    ''' Forward function for the Leaky-Integrate and Fire neuron layer, adopted here for the hidden layers. '''\n",
    "    net_params, net_states = args_in\n",
    "    # state: the parameters (weights) and the state of the neurons (spikes, inputs and membrane, ecc..)\n",
    "    w, alpha = net_params; w_mask, tau, V_mem, out_spikes, v_thr, noise_sd = net_states\n",
    "    win_mask, wrec_mask = w_mask\n",
    "    if len(w) == 3: # it means that we'll do normalization\n",
    "        weight, scale, bias = w\n",
    "    else: weight = w\n",
    "    win, wrec = weight\n",
    "    w_rec_diag_zeros = jnp.ones_like(wrec) - jnp.eye( wrec.shape[0] )\n",
    "\n",
    "    # we evolve the state of the neuron according to the LIF formula, Euler approximation\n",
    "    I_rec = jnp.matmul(out_spikes, wrec*wrec_mask*w_rec_diag_zeros)\n",
    "    # V_mem = (alpha) * (V_mem) + (1-alpha) * I_in - out_spikes*v_thr\n",
    "    V_mem = alpha * V_mem + input_spikes + I_rec - out_spikes*v_thr\n",
    "    # V_mem = alpha * (V_mem - out_spikes) + (1-alpha) * ( I_in_norm )\n",
    "    # V_mem = alpha * (V_mem - out_spikes) + (1) * ( I_in_norm )\n",
    "    out_spikes = spiking_fn( V_mem, v_thr )\n",
    "    \n",
    "    return [ [w, alpha], [w_mask, tau, V_mem, out_spikes, v_thr, noise_sd] ], out_spikes\n",
    "\n",
    "# Leaky Integrator (output layer)\n",
    "def li_step(args_in, input_spikes):\n",
    "    ''' Forward function for the Leaky-Integrator neuron layer, adopted here for the output layers. '''\n",
    "    net_params, net_states = args_in\n",
    "    # state: the parameters (weights) and the state of the neurons (inputs and membrane)\n",
    "    w, alpha = net_params; w_mask, tau, V_mem, out_spikes, v_thr, noise_sd = net_states\n",
    "\n",
    "    # we evolve the state of the neuron according to the LI formula, Euler approximation\n",
    "    V_mem = (alpha) * (V_mem) + (1-alpha) * input_spikes\n",
    "    # V_mem = (alpha) * (V_mem) + input_spikes\n",
    "    \n",
    "    return [ [w, alpha], [w_mask, tau, V_mem, out_spikes, v_thr, noise_sd] ], V_mem\n",
    "\n",
    "# parallelizing the Single Layer\n",
    "@jit\n",
    "def scan_layer( args_in, input_spikes ):\n",
    "    args_out_layer, out_spikes_layer = scan( layer, args_in, input_spikes, length=args.nb_steps )\n",
    "    return args_out_layer, out_spikes_layer\n",
    "vscan_layer = vmap( scan_layer, in_axes=(None, 0))\n",
    "\n",
    "@jit\n",
    "def scan_out_layer( args_in, input_spikes ):\n",
    "    args_out_layer, out_spikes_layer = scan( layer_out, args_in, input_spikes, length=args.nb_steps )\n",
    "    return args_out_layer, out_spikes_layer\n",
    "vscan_layer_out = vmap( scan_out_layer, in_axes=(None, 0))\n",
    "\n",
    "@jit\n",
    "def hsnn( args_in, input_spikes ):\n",
    "    net_params, net_states, key, dropout_rate = args_in\n",
    "    n_layers = len( net_params )\n",
    "    # collection of output spikes\n",
    "    out_spike_net = []\n",
    "    # Loop over the layers\n",
    "    for l in range(n_layers):\n",
    "        if l == 0: layer_input_spike = input_spikes\n",
    "        else: layer_input_spike = out_spikes_layer\n",
    "        # making layers' params and states explitic\n",
    "        # parameters (weights and alpha) and the state of the neurons (spikes, inputs and membrane, ecc..)\n",
    "        w, alpha = net_params[l]; w_mask, tau, V_mem, out_spikes, v_thr, noise_sd = net_states[l]\n",
    "        if len(w) == 3: # it means that we'll do normalization\n",
    "            weight, scale, bias = w\n",
    "        else: weight = w\n",
    "        if len(weight) ==2: weight, _ = weight\n",
    "        # we evolve the state of the neuron according to the LIF formula, Euler approximation\n",
    "        I_in = jnp.matmul(layer_input_spike, weight)\n",
    "        # Normalization (if selected)\n",
    "        if len(w) == 3: # it means that we'll do normalization\n",
    "            b, t, n = I_in.shape\n",
    "            I_in = norm( I_in.reshape( b*t, n ), bias = bias, scale = scale )\n",
    "            I_in = I_in.reshape( b,t,n ) # normalized input current\n",
    "        # Forward pass of the Layer\n",
    "        args_in_layer = [net_params[l], net_states[l]]\n",
    "        if l+1 == n_layers:\n",
    "            _, out_spikes_layer = vscan_layer_out( args_in_layer, I_in )\n",
    "        else: \n",
    "            _, out_spikes_layer = vscan_layer( args_in_layer, I_in )\n",
    "            # Dropout\n",
    "            key, key_dropout = jax.random.split(key, 2)\n",
    "            out_spikes_layer = dropout( key_dropout, out_spikes_layer, rate=dropout_rate, deterministic=False )\n",
    "        out_spike_net.append(out_spikes_layer)\n",
    "    return out_spikes_layer, out_spike_net\n"
   ]
  },
  {
   "cell_type": "code",
   "execution_count": 5,
   "metadata": {},
   "outputs": [],
   "source": [
    "@jit\n",
    "def hsnn( args_in, input_spikes ):\n",
    "    net_params, net_states, key, dropout_rate = args_in\n",
    "    n_layers = len( net_params )\n",
    "    # collection of output spikes\n",
    "    out_spike_net = []\n",
    "    # Loop over the layers\n",
    "    for l in range(n_layers):\n",
    "        if l == 0: layer_input_spike = input_spikes\n",
    "        else: layer_input_spike = out_spikes_layer\n",
    "        # making layers' params and states explitic\n",
    "        # parameters (weights and alpha) and the state of the neurons (spikes, inputs and membrane, ecc..)\n",
    "        w, alpha = net_params[l]; w_mask, tau, V_mem, out_spikes, v_thr, noise_sd = net_states[l]\n",
    "        if len(w) == 3: # it means that we'll do normalization\n",
    "            weight, scale, bias = w\n",
    "        else: weight = w\n",
    "        if len(weight) ==2: weight, _ = weight\n",
    "        # we evolve the state of the neuron according to the LIF formula, Euler approximation\n",
    "        I_in = jnp.matmul(layer_input_spike, weight)\n",
    "        # Normalization (if selected)\n",
    "        if len(w) == 3: # it means that we'll do normalization\n",
    "            b, t, n = I_in.shape\n",
    "            I_in = norm( I_in.reshape( b*t, n ), bias = bias, scale = scale )\n",
    "            I_in = I_in.reshape( b,t,n ) # normalized input current\n",
    "        # Forward pass of the Layer\n",
    "        args_in_layer = [net_params[l], net_states[l]]\n",
    "        if l+1 == n_layers:\n",
    "            _, out_spikes_layer = vscan_layer_out( args_in_layer, I_in )\n",
    "        else: \n",
    "            _, out_spikes_layer = vscan_layer( args_in_layer, I_in )\n",
    "            # Dropout\n",
    "            key, key_dropout = jax.random.split(key, 2)\n",
    "            out_spikes_layer = dropout( key_dropout, out_spikes_layer, rate=dropout_rate, deterministic=False )\n",
    "        out_spike_net.append(out_spikes_layer)\n",
    "    return out_spikes_layer, out_spike_net"
   ]
  },
  {
   "cell_type": "code",
   "execution_count": 16,
   "metadata": {},
   "outputs": [
    {
     "name": "stdout",
     "output_type": "stream",
     "text": [
      "Input shape: train (128, 100, 700) - test (128, 100, 700)\n"
     ]
    }
   ],
   "source": [
    "### try and do a forward pass\n",
    "key = jax.random.PRNGKey(seed=args.seed)\n",
    "# load data\n",
    "x_train, Y = next(iter( train_loader_custom_collate ))\n",
    "x_test, Y_test = next(iter( train_loader_custom_collate ))\n",
    "print('Input shape: train '+ str(x_train.shape) + ' - test '+ str(x_test.shape) )\n",
    "\n",
    "# initialize parameters\n",
    "dropout_rate = 0.0\n",
    "args.distrib_tau = True\n",
    "args.hierarchy_tau = False\n",
    "args.recurrent = True\n",
    "args.normalizer = 'batch' #'layer'\n",
    "args.norm_bias_init = 0.\n",
    "args.n_layers = 3\n",
    "if args.recurrent:\n",
    "    layer = rlif_step\n",
    "    # model = hrsnn\n",
    "else:\n",
    "    layer = lif_step\n",
    "    # model = hsnn\n",
    "layer_out = lif_step\n",
    "norm = BatchNorm\n",
    "args.w_scale = [0.3]\n",
    "net_params, net_states = params_initializer( key, args )\n",
    "\n",
    "###################################################################################################\n",
    "#################################      EVOLUTION OF THE LAYER     #################################\n",
    "###################################################################################################\n",
    "input_spikes = x_test\n",
    "# state: the parameters (weights) and the state of the neurons (spikes, inputs and membrane, ecc..)\n",
    "w, alpha = net_params[0]; w_mask, tau, V_mem, out_spikes, v_thr, noise_sd = net_states[0]\n",
    "if len(w) == 3: # it means that we'll do normalization\n",
    "    weight, scale, bias = w\n",
    "else: weight = w\n",
    "if len(weight) == 2: weight, _ = weight\n",
    "\n",
    "# we evolve the state of the neuron according to the LIF formula, Euler approximation\n",
    "I_in = jnp.matmul(input_spikes, weight)\n",
    "# normalize inputs\n",
    "if len(w) == 3: \n",
    "    b, t, n = I_in.shape\n",
    "    I_in = norm( I_in.reshape( b*t, n ), bias = bias, scale = scale )\n",
    "    I_in = I_in.reshape( b,t,n )\n",
    "else: I_in = I_in\n",
    "\n",
    "# Single step\n",
    "args_in = [net_params[0], net_states[0]]\n",
    "args_out_step, out_spikes_step = layer( args_in, I_in[0,0] )\n",
    "\n",
    "# Single Layer\n",
    "args_in = [net_params[0], net_states[0]]\n",
    "args_out_layer, out_spikes_layer = scan( layer, args_in, I_in[0], length=args.nb_steps )\n",
    "\n",
    "# parallelizing the Single Layer\n",
    "@jit\n",
    "def scan_layer( args_in, input_spikes ):\n",
    "    args_out_layer, out_spikes_layer = scan( layer, args_in, input_spikes, length=args.nb_steps )\n",
    "    return args_out_layer, out_spikes_layer\n",
    "args_in = [net_params[0], net_states[0]]\n",
    "vscan_layer = vmap( scan_layer, in_axes=(None, 0))\n",
    "args_out_vlayer, out_spikes_vlayer = vscan_layer( args_in, I_in )\n",
    "\n",
    "# Forward pass throught the whole model\n",
    "args_in = [net_params, net_states, key, dropout_rate]\n",
    "out_spikes_layer, out_spike_net = hsnn( args_in, input_spikes )"
   ]
  },
  {
   "cell_type": "code",
   "execution_count": 8,
   "metadata": {},
   "outputs": [
    {
     "data": {
      "text/plain": [
       "<matplotlib.legend.Legend at 0x2aadce860>"
      ]
     },
     "execution_count": 8,
     "metadata": {},
     "output_type": "execute_result"
    },
    {
     "data": {
      "image/png": "[encoded data removed]",
      "text/plain": [
       "<Figure size 640x480 with 1 Axes>"
      ]
     },
     "metadata": {},
     "output_type": "display_data"
    }
   ],
   "source": [
    "fig, ax = plt.subplots( )\n",
    "for n in range(len(net_params)):\n",
    "    if len(net_params[n][1].shape)>0:\n",
    "        _ = ax.hist(-args.timestep/ np.log(net_params[n][1]), 25, alpha=0.75, label='Layer '+str(n+1))\n",
    "ax.set_xlabel( 'Time constant [ms]', size=14 )\n",
    "ax.set_ylabel( 'PDF', size=14 )\n",
    "ax.tick_params( labelsize=14 )\n",
    "ax.legend( prop={'size':12} )"
   ]
  },
  {
   "cell_type": "markdown",
   "metadata": {},
   "source": [
    "# Training Loop\n",
    "---"
   ]
  },
  {
   "cell_type": "code",
   "execution_count": 7,
   "metadata": {},
   "outputs": [],
   "source": [
    "@jit\n",
    "def hsnn( args_in, input_spikes ):\n",
    "    net_params, net_states, key, dropout_rate = args_in\n",
    "    n_layers = len( net_params )\n",
    "    # collection of output spikes\n",
    "    out_spike_net = []\n",
    "    # Loop over the layers\n",
    "    for l in range(n_layers):\n",
    "        if l == 0: layer_input_spike = input_spikes\n",
    "        else: layer_input_spike = out_spikes_layer\n",
    "        # making layers' params and states explitic\n",
    "        # parameters (weights and alpha) and the state of the neurons (spikes, inputs and membrane, ecc..)\n",
    "        w, alpha = net_params[l]; w_mask, tau, V_mem, out_spikes, v_thr, noise_sd = net_states[l]\n",
    "        if len(w) == 3: # it means that we'll do normalization\n",
    "            weight, scale, bias = w\n",
    "        else: weight = w\n",
    "        if len(weight) ==2: weight, _ = weight\n",
    "        # we evolve the state of the neuron according to the LIF formula, Euler approximation\n",
    "        I_in = jnp.matmul(layer_input_spike, weight)\n",
    "        # Normalization (if selected)\n",
    "        if len(w) == 3: # it means that we'll do normalization\n",
    "            b, t, n = I_in.shape\n",
    "            I_in = norm( I_in.reshape( b*t, n ), bias = bias, scale = scale )\n",
    "            I_in = I_in.reshape( b,t,n ) # normalized input current\n",
    "        # Forward pass of the Layer\n",
    "        args_in_layer = [net_params[l], net_states[l]]\n",
    "        if l+1 == n_layers:\n",
    "            _, out_spikes_layer = vscan_layer_out( args_in_layer, I_in )\n",
    "        else: \n",
    "            _, out_spikes_layer = vscan_layer( args_in_layer, I_in )\n",
    "            # Dropout\n",
    "            key, key_dropout = jax.random.split(key, 2)\n",
    "            out_spikes_layer = dropout( key_dropout, out_spikes_layer, rate=dropout_rate, deterministic=False )\n",
    "        out_spike_net.append(out_spikes_layer)\n",
    "    return out_spikes_layer, out_spike_net"
   ]
  },
  {
   "cell_type": "code",
   "execution_count": 8,
   "metadata": {},
   "outputs": [
    {
     "name": "stdout",
     "output_type": "stream",
     "text": [
      "Input shape: train (128, 100, 700) - test (128, 100, 700)\n"
     ]
    }
   ],
   "source": [
    "@jit\n",
    "def predict(args_in, X):\n",
    "    \"\"\" Scans over time and return predictions. \"\"\"\n",
    "    # net_params, net_states, key, dropout_rate = args_in\n",
    "    _, net_states_hist = scan(model, args_in, X, length=args.nb_steps)\n",
    "    return net_states_hist\n",
    "# vmap the forward of the model\n",
    "v_predict = vmap(predict, in_axes=(None, 0))\n",
    "\n",
    "def one_hot(x, n_class):\n",
    "    return jnp.array(x[:, None] == jnp.arange(n_class), dtype=jnp.float32)\n",
    "\n",
    "def loss(key, net_params, net_states, X, Y, epoch, dropout_rate=0.):\n",
    "    \"\"\" Calculates CE loss after predictions. \"\"\"\n",
    "\n",
    "    # we might want to add noise in the forward pass --> memristor-aware-training\n",
    "    # weight = [net_params[i][0] for i in range( len(net_params) )]\n",
    "    # weight = cond(\n",
    "    #     epoch >= noise_start_step, \n",
    "    #     lambda weight, key : add_noise(weight, key, noise_std),\n",
    "    #     lambda weight, key : weight,\n",
    "    #     weight, key\n",
    "    # )\n",
    "    # forward pass\n",
    "    # net_states_hist = v_predict( [net_params, net_states, key, dropout_rate], X)\n",
    "    # Forward pass throught the whole model\n",
    "    args_in = [net_params, net_states, key, dropout_rate]\n",
    "    output_layer, out_spike_net = hsnn( args_in, X )\n",
    "    Yhat = decoder_cum( output_layer )\n",
    "\n",
    "    # compute the loss and correct examples\n",
    "    num_correct = jnp.sum(jnp.equal(jnp.argmax(Yhat, 1), jnp.argmax(Y, 1)))\n",
    "    # cross entropy loss\n",
    "    loss_ce = -jnp.mean( jnp.sum(Y * jnp.log(Yhat+1e-12), axis=-1) )\n",
    "    # L2 norm\n",
    "    loss_l2 = optimizers.l2_norm( net_params ) * args.l2_lambda\n",
    "    # firing rate loss\n",
    "    avg_spikes_neuron = jnp.mean( jnp.stack( [ jnp.mean( jnp.sum( out_spike_net[l], axis=1 ), axis=(0,-1) ) for l in range( len(net_params)-1 )] ) )\n",
    "    loss_fr = args.freq_lambda * (args.target_fr - avg_spikes_neuron)**2\n",
    "    loss_total = loss_ce + loss_l2 + loss_fr\n",
    "    loss_values = [num_correct, loss_ce]\n",
    "    return loss_total, loss_values\n",
    "\n",
    "# initialize parameters\n",
    "dropout_rate = 0.0\n",
    "args.seed = 14\n",
    "args.distrib_tau = True\n",
    "args.hierarchy_tau = False\n",
    "args.recurrent = False\n",
    "args.normalizer = 'batch' #'layer'\n",
    "args.norm_bias_init = 0.\n",
    "args.tau_mem = 0.2 #0.1\n",
    "args.l2_lambda = 0.\n",
    "args.freq_lambda = 0.\n",
    "if args.recurrent:\n",
    "    layer = rlif_step\n",
    "    model = hrsnn_step\n",
    "    args.w_scale = [0.075, 0.05]\n",
    "else:\n",
    "    layer = lif_step\n",
    "    model = hsnn_step\n",
    "    args.w_scale = [1/np.sqrt( args.n_in )] + [1/np.sqrt( args.n_hid )]*(args.n_layers-1)\n",
    "norm = BatchNorm\n",
    "args.n_layers = 3\n",
    "\n",
    "\n",
    "key = jax.random.PRNGKey(seed=args.seed)\n",
    "# load data\n",
    "x_train, Y = next(iter( train_loader_custom_collate ))\n",
    "x_test, Y_test = next(iter( test_loader_custom_collate ))\n",
    "print('Input shape: train '+ str(x_train.shape) + ' - test '+ str(x_test.shape) )\n",
    "\n",
    "net_params, net_states = params_initializer( key, args )\n",
    "\n",
    "import pickle\n",
    "# params from sparch\n",
    "params = pickle.load( open( '/Users/filippomoro/Desktop/params_snn_84p_numpy.pkl', 'rb' ) )\n",
    "for i in range( len(net_params) ):\n",
    "    if args.normalizer in ['batch', 'layer']:\n",
    "        net_params[i][0][0] = params[f'snn.{i}.W.weight'].T\n",
    "        net_params[i][1] = params[f'alpha{i}']\n",
    "        net_params[i][0][1] = params[f'scale{i}']\n",
    "        net_params[i][0][2] = params[f'bias{i}']\n",
    "    else:\n",
    "        net_params[i][0] = params[f'snn.{i}.W.weight'].T\n",
    "        net_params[i][1] = params[f'alpha{i}']\n",
    "\n",
    "\n",
    "dropout_rate = 0.0\n",
    "# # testing the training function\n",
    "# args_ins = [net_params, net_states, key, dropout_rate]\n",
    "# args_out = scan(model, args_ins, x_train[0], length=args.nb_steps)\n",
    "# [net_params_hist, net_states_hist] = args_out\n",
    "\n",
    "args_in = [net_params, net_states, key, dropout_rate]\n",
    "output_layer, out_spike_net = hsnn( args_in, x_test )\n",
    "Yhat = decoder_cum( output_layer )\n",
    "\n",
    "# decoder\n",
    "# Yhat = jax.nn.softmax( jnp.mean( out_v_mem, axis=1 ), axis=-1 )\n",
    "# Yhat_vmax = jax.nn.softmax( jnp.max( out_v_mem, axis=1 ), axis=-1 )\n",
    "# Yhat_cum = jnp.mean( jax.nn.softmax( out_v_mem, axis=-1 ), axis=1)\n",
    "# print( Yhat_cum.shape )\n",
    "\n",
    "# loss\n",
    "loss_total, loss_values = loss(key, net_params, net_states, x_test, one_hot(Y, 20), 0)\n",
    "\n",
    "# values and gradients\n",
    "value, grads = value_and_grad(loss, has_aux=True, argnums=(1))(key, net_params, net_states, x_test, one_hot(Y_test,20), 0, dropout_rate=0.0)"
   ]
  },
  {
   "cell_type": "code",
   "execution_count": 11,
   "metadata": {},
   "outputs": [],
   "source": [
    "n_layers = len( net_params )\n",
    "# collection of output spikes\n",
    "out_spike_net_b = []\n",
    "# Loop over the layers\n",
    "for l in range(n_layers):\n",
    "    if l == 0: layer_input_spike = x_test\n",
    "    else: layer_input_spike = out_spikes_layer\n",
    "    # making layers' params and states explitic\n",
    "    # parameters (weights and alpha) and the state of the neurons (spikes, inputs and membrane, ecc..)\n",
    "    w, alpha = net_params[l]; w_mask, tau, V_mem, out_spikes, v_thr, noise_sd = net_states[l]\n",
    "    if len(w) == 3: # it means that we'll do normalization\n",
    "        weight, scale, bias = w\n",
    "    else: weight = w\n",
    "    if len(weight) ==2: weight, _ = weight\n",
    "    # we evolve the state of the neuron according to the LIF formula, Euler approximation\n",
    "    I_in = jnp.matmul(layer_input_spike, weight)\n",
    "    # Normalization (if selected)\n",
    "    if len(w) == 3: # it means that we'll do normalization\n",
    "        b, t, n = I_in.shape\n",
    "        I_in = norm( I_in.reshape( b*t, n ), bias = bias, scale = scale )\n",
    "        I_in = I_in.reshape( b,t,n ) # normalized input current\n",
    "    # Forward pass of the Layer\n",
    "    args_in_layer = [net_params[l], net_states[l]]\n",
    "    if l+1 == n_layers:\n",
    "        _, out_spikes_layer_b = vscan_layer_out( args_in_layer, I_in )\n",
    "    else: \n",
    "        _, out_spikes_layer = vscan_layer( args_in_layer, I_in )\n",
    "        # Dropout\n",
    "        key, key_dropout = jax.random.split(key, 2)\n",
    "        out_spikes_layer = dropout( key_dropout, out_spikes_layer, rate=dropout_rate, deterministic=False )\n",
    "    out_spike_net_b.append(out_spikes_layer)"
   ]
  },
  {
   "cell_type": "code",
   "execution_count": 12,
   "metadata": {},
   "outputs": [
    {
     "data": {
      "text/plain": [
       "Array([ 5.4190297,  7.226918 ,  5.116933 ,  7.6419697,  5.6441216,\n",
       "        3.47458  ,  3.072841 ,  3.0342093,  2.759426 ,  4.347876 ,\n",
       "       15.540661 ,  2.5541158,  2.9878044,  3.7393858,  6.1448255,\n",
       "        6.0215383,  2.7410161,  4.040149 ,  1.5330515,  6.95955  ],      dtype=float32)"
      ]
     },
     "execution_count": 12,
     "metadata": {},
     "output_type": "execute_result"
    }
   ],
   "source": [
    "jnp.sum( jax.nn.softmax( out_spikes_layer_b, axis=-1 ), axis=1)[0]"
   ]
  },
  {
   "cell_type": "code",
   "execution_count": 10,
   "metadata": {},
   "outputs": [
    {
     "data": {
      "text/plain": [
       "Array([ 5.418996 ,  7.2270474,  5.1168633,  7.6416535,  5.644323 ,\n",
       "        3.4746058,  3.0728438,  3.034224 ,  2.7594366,  4.3479633,\n",
       "       15.540532 ,  2.5541337,  2.9878075,  3.7394204,  6.1445704,\n",
       "        6.0217133,  2.7410264,  4.0402675,  1.5330707,  6.959502 ],      dtype=float32)"
      ]
     },
     "execution_count": 10,
     "metadata": {},
     "output_type": "execute_result"
    }
   ],
   "source": [
    "jnp.sum( jax.nn.softmax( out_spike_net[-1], axis=-1 ), axis=1)[0]"
   ]
  },
  {
   "cell_type": "code",
   "execution_count": 13,
   "metadata": {},
   "outputs": [
    {
     "data": {
      "text/plain": [
       "Array(2., dtype=float32)"
      ]
     },
     "execution_count": 13,
     "metadata": {},
     "output_type": "execute_result"
    }
   ],
   "source": [
    "jnp.abs((out_spike_net[0] - out_spike_net_b[0])).sum()"
   ]
  },
  {
   "cell_type": "code",
   "execution_count": 7,
   "metadata": {},
   "outputs": [
    {
     "data": {
      "text/plain": [
       "Array([0.00155561, 0.0016695 , 0.00115366, 0.00185704, 0.00056802,\n",
       "       0.00053957, 0.00179019, 0.00032301, 0.00160861, 0.00191579,\n",
       "       0.00160918, 0.00082878, 0.00156357, 0.00133752, 0.00118748,\n",
       "       0.00081654, 0.00186343, 0.00186205, 0.00102292, 0.00128798,\n",
       "       0.00146273, 0.00055259, 0.00236617, 0.00057967, 0.00038917,\n",
       "       0.00181806, 0.00077609, 0.00210084, 0.00088937, 0.00123553,\n",
       "       0.00161895, 0.00095137, 0.00122437, 0.00145218, 0.00109476,\n",
       "       0.0003912 , 0.00270879, 0.00124752, 0.00096385, 0.00151509,\n",
       "       0.00112039, 0.00112138, 0.00170969, 0.00093326, 0.00121574,\n",
       "       0.00193971, 0.00046483, 0.00043952, 0.00113775, 0.00057575,\n",
       "       0.0010835 , 0.00205953, 0.00141878, 0.00103014, 0.00036149,\n",
       "       0.00141269, 0.0001795 , 0.00120536, 0.00055161, 0.00030565,\n",
       "       0.00104137, 0.00053505, 0.0006309 , 0.00116925, 0.00232641,\n",
       "       0.00139393, 0.00195751, 0.00085228, 0.00160488, 0.00098318,\n",
       "       0.00041831, 0.0020505 , 0.000347  , 0.00080864, 0.00179669,\n",
       "       0.00031213, 0.00238675, 0.00153851, 0.00058703, 0.00206273,\n",
       "       0.00065785, 0.00043441, 0.00103317, 0.00051281, 0.00104842,\n",
       "       0.00082451, 0.00145113, 0.00076732, 0.00031023, 0.00059175,\n",
       "       0.00085122, 0.00066735, 0.00044075, 0.00192759, 0.0005929 ,\n",
       "       0.00113433, 0.00108988, 0.00026013, 0.00093874, 0.00057274,\n",
       "       0.00088203, 0.00118715, 0.00046676, 0.000873  , 0.00081605,\n",
       "       0.00183239, 0.00191933, 0.0006238 , 0.00053475, 0.00124299,\n",
       "       0.0019332 , 0.00141191, 0.00046917, 0.00101948, 0.00038638,\n",
       "       0.00159621, 0.00081469, 0.00226186, 0.00065389, 0.00079059,\n",
       "       0.00131413, 0.00080241, 0.00066764, 0.0007016 , 0.00107567,\n",
       "       0.0013226 , 0.00028032, 0.00048536], dtype=float32)"
      ]
     },
     "execution_count": 7,
     "metadata": {},
     "output_type": "execute_result"
    }
   ],
   "source": [
    "# Checking the Gradients on the first layer\n",
    "\n",
    "net_params, net_states = params_initializer( key, args )\n",
    "\n",
    "import pickle\n",
    "# params from sparch\n",
    "params = pickle.load( open( '/Users/filippomoro/Desktop/params_snn_84p_numpy.pkl', 'rb' ) )\n",
    "for i in range( len(net_params) ):\n",
    "    if args.normalizer in ['batch', 'layer']:\n",
    "        net_params[i][0][0] = params[f'snn.{i}.W.weight'].T\n",
    "        net_params[i][1] = params[f'alpha{i}']\n",
    "        net_params[i][0][1] = params[f'scale{i}']\n",
    "        net_params[i][0][2] = params[f'bias{i}']\n",
    "    else:\n",
    "        net_params[i][0] = params[f'snn.{i}.W.weight'].T\n",
    "        net_params[i][1] = params[f'alpha{i}']\n",
    "\n",
    "### Computing the first pre-activation with Normalization\n",
    "def first_layer(net_params, x_test):\n",
    "    l = 0; layer_input_spike = x_test\n",
    "    w, alpha = net_params[l]; w_mask, tau, V_mem, out_spikes, v_thr, noise_sd = net_states[l]\n",
    "    if len(w) == 3: # it means that we'll do normalization\n",
    "        weight, scale, bias = w\n",
    "    else: weight = w\n",
    "    if len(weight) ==2: weight, _ = weight\n",
    "    # we evolve the state of the neuron according to the LIF formula, Euler approximation\n",
    "    I_in = jnp.matmul(layer_input_spike, weight)\n",
    "    # Normalization (if selected)\n",
    "    if len(w) == 3: # it means that we'll do normalization\n",
    "        b, t, n = I_in.shape\n",
    "        I_in = norm( I_in.reshape( b*t, n ), bias = bias, scale = scale )\n",
    "        I_in = I_in.reshape( b,t,n ) # normalized input current\n",
    "\n",
    "    # Forward pass of the Layer\n",
    "    args_in = [net_params[l], net_states[l]]\n",
    "    if l+1 == len( net_params ):\n",
    "        _, out_spikes_layer = vscan_layer_out( args_in, I_in )\n",
    "    else: \n",
    "        _, out_spikes_layer = vscan_layer( args_in, I_in )\n",
    "    \n",
    "    return jnp.mean( out_spikes_layer**2 ), out_spikes_layer\n",
    "\n",
    "value, grads = value_and_grad(first_layer, has_aux=True, argnums=(0))(net_params, x_test)\n",
    "grads[0][0][1]"
   ]
  },
  {
   "cell_type": "code",
   "execution_count": 8,
   "metadata": {},
   "outputs": [
    {
     "data": {
      "text/plain": [
       "Array([2688., 2368., 2465., 3612., 3570., 1936.,  958., 1084., 2674.,\n",
       "       3787., 2588., 1442., 2490., 2417., 1992., 1298., 3295., 3690.,\n",
       "       1190., 2187.,  739., 2433., 1833., 3090., 1376.,  941., 1267.,\n",
       "        890., 4036., 1225., 1608., 2024., 2070., 2799., 2460., 1196.,\n",
       "       1705., 1415., 1004., 2815., 1511., 1851.,  878., 1538., 1243.,\n",
       "       3662., 2411., 1024., 1876., 3269., 1021., 4360., 1641., 2642.,\n",
       "       1406., 2350.,  269.,  775.,  873., 1325., 2854., 1204., 2853.,\n",
       "       2058., 1040., 2573., 2459., 2465.,  815., 1034., 3397., 1351.,\n",
       "       2091., 3322., 1103.,  949., 1259.,  718., 2376., 1936., 2950.,\n",
       "        668., 1668., 3610., 1639., 3596., 2542., 2195.,  342., 2165.,\n",
       "       1429., 3242., 2522., 4041.,  984., 2206., 1802., 5605., 2543.,\n",
       "       1016., 1437., 2113., 3269., 1950., 1794., 3069., 4406., 4249.,\n",
       "       4080., 2208., 1170.,  745.,  942., 2899., 2082., 3425., 2775.,\n",
       "        977., 2180., 2523., 2356., 2402., 1072., 1510., 1782., 2785.,\n",
       "       1840.,  822.], dtype=float32)"
      ]
     },
     "execution_count": 8,
     "metadata": {},
     "output_type": "execute_result"
    }
   ],
   "source": [
    "value[1].sum(axis=(0,1))"
   ]
  },
  {
   "cell_type": "code",
   "execution_count": 9,
   "metadata": {},
   "outputs": [
    {
     "data": {
      "text/plain": [
       "Array([0.00061617, 0.00034689, 0.00072273, 0.00164341, 0.00177944,\n",
       "       0.00090974, 0.00157958, 0.00039388, 0.00090649, 0.00165936,\n",
       "       0.00095365, 0.00165818, 0.00098938, 0.00188144, 0.00080549,\n",
       "       0.00201353, 0.00075894, 0.00051407, 0.00116549, 0.00079883,\n",
       "       0.00124202, 0.00096615, 0.00076983, 0.00075926, 0.00175463,\n",
       "       0.00092011, 0.0013007 , 0.00105616, 0.00148521, 0.00145061,\n",
       "       0.00065256, 0.00066002, 0.00180897, 0.00051876, 0.0022163 ,\n",
       "       0.00125116, 0.00048309, 0.00123362, 0.00067365, 0.00136608,\n",
       "       0.00078041, 0.00062434, 0.00202506, 0.00069088, 0.00069159,\n",
       "       0.00136873, 0.00087966, 0.00083544, 0.00235495, 0.00151198,\n",
       "       0.0011592 , 0.00064369, 0.00043807, 0.00091662, 0.00081704,\n",
       "       0.00219843, 0.00178667, 0.00079426, 0.00192219, 0.00076821,\n",
       "       0.00067946, 0.00094459, 0.00242415, 0.00110551, 0.00035072,\n",
       "       0.0005162 , 0.00228036, 0.0005972 , 0.00064716, 0.00132235,\n",
       "       0.00183801, 0.0014592 , 0.00100265, 0.00094713, 0.00136055,\n",
       "       0.00136282, 0.00161654, 0.00072879, 0.00150764, 0.00111615,\n",
       "       0.00226041, 0.00048736, 0.00075525, 0.00183443, 0.00071162,\n",
       "       0.0010431 , 0.00036634, 0.00052389, 0.00155656, 0.00205891,\n",
       "       0.00111431, 0.00104532, 0.00078834, 0.00200093, 0.00105109,\n",
       "       0.00095185, 0.00226239, 0.00058479, 0.00149624, 0.00051815,\n",
       "       0.00091436, 0.00213729, 0.00095949, 0.00037347, 0.00058153,\n",
       "       0.00175744, 0.00051403, 0.00050309, 0.00108134, 0.00148249,\n",
       "       0.00125248, 0.00074454, 0.00058279, 0.00222352, 0.00155677,\n",
       "       0.00097291, 0.00245   , 0.00174964, 0.00140413, 0.00157893,\n",
       "       0.00171341, 0.00071667, 0.00078371, 0.0012612 , 0.00147554,\n",
       "       0.00088791, 0.00067159, 0.00147747], dtype=float32)"
      ]
     },
     "execution_count": 9,
     "metadata": {},
     "output_type": "execute_result"
    }
   ],
   "source": [
    "### Computing the first pre-activation with Normalization\n",
    "def second_layer(net_params, x_test):\n",
    "    l = 1; layer_input_spike = x_test\n",
    "    w, alpha = net_params[l]; w_mask, tau, V_mem, out_spikes, v_thr, noise_sd = net_states[l]\n",
    "    if len(w) == 3: # it means that we'll do normalization\n",
    "        weight, scale, bias = w\n",
    "    else: weight = w\n",
    "    if len(weight) ==2: weight, _ = weight\n",
    "    # we evolve the state of the neuron according to the LIF formula, Euler approximation\n",
    "    I_in = jnp.matmul(layer_input_spike, weight)\n",
    "    # Normalization (if selected)\n",
    "    if len(w) == 3: # it means that we'll do normalization\n",
    "        b, t, n = I_in.shape\n",
    "        I_in = norm( I_in.reshape( b*t, n ), bias = bias, scale = scale )\n",
    "        I_in = I_in.reshape( b,t,n ) # normalized input current\n",
    "\n",
    "    # Forward pass of the Layer\n",
    "    args_in = [net_params[l], net_states[l]]\n",
    "    if l+1 == len( net_params ):\n",
    "        _, out_spikes_layer = vscan_layer_out( args_in, I_in )\n",
    "    else: \n",
    "        _, out_spikes_layer = vscan_layer( args_in, I_in )\n",
    "    \n",
    "    return jnp.mean( out_spikes_layer**2 ), out_spikes_layer\n",
    "\n",
    "value_2nd, grads = value_and_grad(second_layer, has_aux=True, argnums=(0))(net_params, value[1])\n",
    "grads[1][0][1]"
   ]
  },
  {
   "cell_type": "code",
   "execution_count": 10,
   "metadata": {},
   "outputs": [
    {
     "data": {
      "text/plain": [
       "Array([3142., 3921., 2167., 1492., 1539., 2277., 1691., 2818.,  639.,\n",
       "       1321., 3243., 1517., 1705., 1340., 1846., 2524.,  479., 1991.,\n",
       "        827.,  706., 1526., 3069.,  519., 1386., 1355., 1001.,  942.,\n",
       "       2196., 2199., 1009., 4268.,  685., 2090., 5279., 1645., 2776.,\n",
       "        656.,  841., 3235., 1120.,  783., 2491., 2627.,  568., 1095.,\n",
       "       1341., 4374., 2943., 2913., 2077., 2042., 4318., 3079., 1057.,\n",
       "       3336., 3335., 3002., 2689., 1915.,  541.,  512.,  761., 2625.,\n",
       "       2382., 1702., 3245., 1811., 2098., 2438., 2191., 1699., 1574.,\n",
       "       1058., 1151., 1379., 1560., 1899., 1426., 1469., 2413., 2253.,\n",
       "       2688., 1984., 1729., 2379., 3280., 4471.,  384., 1466., 2401.,\n",
       "       1036., 1922., 1435., 2234., 2531., 3030., 1929., 2666., 1274.,\n",
       "       3330., 2243., 2477., 1784., 2408., 3550., 2482., 4428., 2846.,\n",
       "       1653., 1781., 2234., 1377.,  801., 2115., 1079.,  866., 1199.,\n",
       "       1235., 2656., 2339., 2529.,  396., 1220., 1184., 1966., 3249.,\n",
       "       2681., 1499.], dtype=float32)"
      ]
     },
     "execution_count": 10,
     "metadata": {},
     "output_type": "execute_result"
    }
   ],
   "source": [
    "value_2nd[1].sum( axis=(0,1) )"
   ]
  },
  {
   "cell_type": "code",
   "execution_count": 11,
   "metadata": {},
   "outputs": [
    {
     "data": {
      "text/plain": [
       "Array([0.9331135 , 0.47963107, 0.48711827, 0.31272644, 1.4034264 ,\n",
       "       0.22974175, 1.8626746 , 1.1034414 , 1.4772716 , 0.17851068,\n",
       "       0.87020123, 1.0633786 , 0.10071009, 1.0084573 , 0.26799968,\n",
       "       0.4102237 , 0.18099603, 0.5862182 , 1.2458512 , 0.12413509],      dtype=float32)"
      ]
     },
     "execution_count": 11,
     "metadata": {},
     "output_type": "execute_result"
    }
   ],
   "source": [
    "### Computing the first pre-activation with Normalization\n",
    "def third_layer(net_params, x_test):\n",
    "    l = 2; layer_input_spike = x_test\n",
    "    w, alpha = net_params[l]; w_mask, tau, V_mem, out_spikes, v_thr, noise_sd = net_states[l]\n",
    "    if len(w) == 3: # it means that we'll do normalization\n",
    "        weight, scale, bias = w\n",
    "    else: weight = w\n",
    "    if len(weight) ==2: weight, _ = weight\n",
    "    # we evolve the state of the neuron according to the LIF formula, Euler approximation\n",
    "    I_in = jnp.matmul(layer_input_spike, weight)\n",
    "    # Normalization (if selected)\n",
    "    if len(w) == 3: # it means that we'll do normalization\n",
    "        b, t, n = I_in.shape\n",
    "        I_in = norm( I_in.reshape( b*t, n ), bias = bias, scale = scale )\n",
    "        I_in = I_in.reshape( b,t,n ) # normalized input current\n",
    "\n",
    "    # Forward pass of the Layer\n",
    "    args_in = [net_params[l], net_states[l]]\n",
    "    if l+1 == len( net_params ):\n",
    "        _, out_spikes_layer = vscan_layer_out( args_in, I_in )\n",
    "        out_spikes_layer = jnp.sum( jax.nn.softmax( out_spikes_layer, axis=-1 ), axis=1)\n",
    "    else: \n",
    "        _, out_spikes_layer = vscan_layer( args_in, I_in )\n",
    "    \n",
    "    return jnp.mean( out_spikes_layer**2 ), out_spikes_layer\n",
    "\n",
    "value_3rd, grads = value_and_grad(third_layer, has_aux=True, argnums=(0))(net_params, value_2nd[1])\n",
    "grads[2][0][1]"
   ]
  },
  {
   "cell_type": "code",
   "execution_count": 12,
   "metadata": {},
   "outputs": [
    {
     "data": {
      "text/plain": [
       "Array([ 5.4190297,  7.226918 ,  5.116933 ,  7.6419697,  5.6441216,\n",
       "        3.47458  ,  3.072841 ,  3.0342093,  2.759426 ,  4.347876 ,\n",
       "       15.540661 ,  2.5541158,  2.9878044,  3.7393858,  6.1448255,\n",
       "        6.0215383,  2.7410161,  4.040149 ,  1.5330515,  6.95955  ],      dtype=float32)"
      ]
     },
     "execution_count": 12,
     "metadata": {},
     "output_type": "execute_result"
    }
   ],
   "source": [
    "value_3rd[1][0]"
   ]
  },
  {
   "cell_type": "code",
   "execution_count": 50,
   "metadata": {},
   "outputs": [
    {
     "name": "stdout",
     "output_type": "stream",
     "text": [
      "0.0032064104 0.18619981\n",
      "-0.011427794 0.17232716\n",
      "0.002015123 0.17299813\n"
     ]
    },
    {
     "data": {
      "image/png": "[encoded data removed]",
      "text/plain": [
       "<Figure size 640x480 with 1 Axes>"
      ]
     },
     "metadata": {},
     "output_type": "display_data"
    }
   ],
   "source": [
    "for i in range( args.n_layers ):\n",
    "    print( net_params[i][0][0].mean(), net_params[i][0][0].std() )\n",
    "\n",
    "_ = plt.hist( grads[2][0][0].flatten(), 50 )"
   ]
  },
  {
   "cell_type": "code",
   "execution_count": 153,
   "metadata": {},
   "outputs": [
    {
     "data": {
      "text/plain": [
       "Array(13.471589, dtype=float32)"
      ]
     },
     "execution_count": 153,
     "metadata": {},
     "output_type": "execute_result"
    }
   ],
   "source": [
    "grads[1][0][2]"
   ]
  },
  {
   "cell_type": "code",
   "execution_count": 133,
   "metadata": {},
   "outputs": [
    {
     "data": {
      "text/plain": [
       "array([10, 11,  7, 10,  3,  5,  0, 10, 18,  5, 16, 14, 12,  8,  0, 16, 10,\n",
       "       16, 17, 13, 19,  9,  7,  4,  6,  9,  0,  0,  9,  9,  6,  2,  3, 12,\n",
       "        8,  8,  7, 10, 12, 10, 14,  8,  6,  0, 11,  8,  7, 17,  5,  7, 13,\n",
       "       11, 18,  6, 11,  6, 15, 17, 14,  0,  1, 18, 17, 13,  0, 18, 13,  5,\n",
       "       14,  1, 10, 13, 14, 14, 10, 11,  4,  3,  7, 17,  8,  7, 14, 14,  7,\n",
       "       16,  3, 14, 15,  5, 19, 10, 16,  8, 19,  0, 19,  1,  6,  1, 18, 18,\n",
       "       13, 11, 14, 13,  4, 11,  1, 10,  6, 13,  4,  0,  2, 12, 11, 10, 18,\n",
       "        4,  1, 12, 12,  0,  4, 17, 13, 16], dtype=uint8)"
      ]
     },
     "execution_count": 133,
     "metadata": {},
     "output_type": "execute_result"
    }
   ],
   "source": [
    "Y_test"
   ]
  },
  {
   "cell_type": "code",
   "execution_count": null,
   "metadata": {},
   "outputs": [],
   "source": [
    "for i in range( len(grads) ):\n",
    "    print( jnp.mean( grads[i][0] ), jnp.std( grads[i][0] ) )"
   ]
  },
  {
   "cell_type": "code",
   "execution_count": 90,
   "metadata": {},
   "outputs": [
    {
     "name": "stdout",
     "output_type": "stream",
     "text": [
      "-2.91652e-05 0.00015572987\n",
      "-8.27562e-05 0.0006186012\n",
      "-9.350228e-06 0.0\n"
     ]
    }
   ],
   "source": [
    "for i in range( len(grads) ):\n",
    "    print( jnp.mean( grads[i][1] ), jnp.std( grads[i][1] ) )"
   ]
  },
  {
   "cell_type": "code",
   "execution_count": 42,
   "metadata": {},
   "outputs": [
    {
     "data": {
      "text/plain": [
       "(Array(0.10979187, dtype=float32), Array(0.18531066, dtype=float32))"
      ]
     },
     "execution_count": 42,
     "metadata": {},
     "output_type": "execute_result"
    }
   ],
   "source": [
    "jnp.mean( out_spike_net[0], axis=(0,1,2) ), jnp.mean( out_spike_net[1], axis=(0,1,2) )"
   ]
  },
  {
   "cell_type": "code",
   "execution_count": 137,
   "metadata": {},
   "outputs": [
    {
     "data": {
      "text/plain": [
       "<matplotlib.image.AxesImage at 0x308a75c90>"
      ]
     },
     "execution_count": 137,
     "metadata": {},
     "output_type": "execute_result"
    },
    {
     "data": {
      "image/png": "[encoded data removed]",
      "text/plain": [
       "<Figure size 640x480 with 1 Axes>"
      ]
     },
     "metadata": {},
     "output_type": "display_data"
    }
   ],
   "source": [
    "plt.imshow( out_spike_net[2][0].T )"
   ]
  },
  {
   "cell_type": "markdown",
   "metadata": {},
   "source": [
    "# Training the hSNN model\n",
    "---"
   ]
  },
  {
   "cell_type": "code",
   "execution_count": 18,
   "metadata": {},
   "outputs": [],
   "source": [
    "def train_hsnn(key, n_epochs, args, train_dl, test_dl, val_dl, param_initializer, decoder, \n",
    "                noise_start_step, noise_std, dataset_name, verbose=True):\n",
    "    \n",
    "    key, key_model = jax.random.split(key, 2)\n",
    "\n",
    "    def loss(key, net_params, net_states, X, Y, epoch, dropout_rate=0.0):\n",
    "        \"\"\" Calculates CE loss after predictions. \"\"\"\n",
    "\n",
    "        # we might want to add noise in the forward pass --> memristor-aware-training\n",
    "        # weight = [net_params[i][0] for i in range( len(net_params) )]\n",
    "        # weight = cond(\n",
    "        #     epoch >= noise_start_step, \n",
    "        #     lambda weight, key : add_noise(weight, key, noise_std),\n",
    "        #     lambda weight, key : weight,\n",
    "        #     weight, key\n",
    "        # )\n",
    "        # Forward pass throught the whole model\n",
    "        args_in = [net_params, net_states, key, dropout_rate]\n",
    "        output_layer, out_spike_net = hsnn( args_in, X )\n",
    "        Yhat = decoder( output_layer )\n",
    "        # Yhat = jax.nn.softmax( net_states_hist[-1][3][:,-1] )\n",
    "        # compute the loss and correct examples\n",
    "        num_correct = jnp.sum(jnp.equal(jnp.argmax(Yhat, 1), jnp.argmax(Y, 1)))\n",
    "        # cross entropy loss\n",
    "        loss_ce = -jnp.mean( jnp.sum(Y * jnp.log(Yhat+1e-12), axis=-1) )\n",
    "        # L2 norm\n",
    "        loss_l2 = optimizers.l2_norm( [net_params[l][0] for l in range(len(net_params))] ) * args.l2_lambda\n",
    "        # firing rate loss\n",
    "        avg_spikes_neuron = jnp.mean( jnp.stack( [ jnp.mean( jnp.sum( out_spike_net[l], axis=1 ), axis=(0,-1) ) for l in range( len(net_params)-1 )] ) )\n",
    "        loss_fr = args.freq_lambda * (args.target_fr - avg_spikes_neuron)**2\n",
    "        # Total loss\n",
    "        loss_total = loss_ce + loss_l2 + loss_fr\n",
    "        loss_values = [num_correct, loss_ce]\n",
    "        return loss_total, loss_values\n",
    " \n",
    "    @jit\n",
    "    def update(key, epoch, net_states, X, Y, opt_state, dropout_rate=0.):\n",
    "        train_params = get_params(opt_state)\n",
    "        # forward pass with gradients\n",
    "        value, grads = value_and_grad(loss, has_aux=True, argnums=(1))(key, train_params, net_states, X, Y, epoch, dropout_rate=dropout_rate)\n",
    "        # possibly disable gradients on alpha and gradient clip\n",
    "        # for g in range( len( grads )-1 ):\n",
    "        #     if len(grads[g][0]) == 1:\n",
    "        #         grads[g][0] = jnp.clip(grads[g][0], -args.grad_clip, args.grad_clip) # weight\n",
    "        #     if len(grads[g][0]) == 2:\n",
    "        #         for j in range( len(grads[g][0]) ):\n",
    "        #             grads[g][0][j] = jnp.clip(grads[g][0][j], -args.grad_clip, args.grad_clip) # weight and recurrent\n",
    "        #     grads[g][1] = jnp.clip(grads[g][1], -args.grad_clip, args.grad_clip) # alpha\n",
    "        # grads[-1][0] = jnp.clip(grads[-1][0], -args.grad_clip, args.grad_clip) # weight\n",
    "        # grads[-1][1] = jnp.clip(grads[-1][1], -args.grad_clip, args.grad_clip) # alpha\n",
    "        return grads, opt_state, value\n",
    "\n",
    "    def one_hot(x, n_class):\n",
    "        return jnp.array(x[:, None] == jnp.arange(n_class), dtype=np.float32)\n",
    "\n",
    "    def total_correct(net_params, net_states, X, Y):\n",
    "        args_in = [net_params, net_states, key, 0.]\n",
    "        output_layer, _ = hsnn( args_in, X )\n",
    "        Yhat = decoder( output_layer )\n",
    "        # Yhat = jax.nn.softmax( net_states_hist[-1][3][:,-1] )\n",
    "        acc = jnp.sum(jnp.equal(jnp.argmax(Yhat, 1), Y))\n",
    "        return acc\n",
    "\n",
    "    # LR decay\n",
    "    if args.lr_decay_every < n_epochs:\n",
    "        lr_decay = jnp.clip( args.lr_decay, 0, 1 )\n",
    "        intervals = [i*args.lr_decay_every for i in range(int(n_epochs/args.lr_decay_every)-1)]\n",
    "        lr_values = [args.lr*(lr_decay)**i for i in range(int(n_epochs/args.lr_decay_every))]\n",
    "        pw_lr = optimizers.piecewise_constant(intervals, lr_values)\n",
    "    else: pw_lr = optimizers.piecewise_constant([n_epochs], [args.lr, args.lr*jnp.clip( args.lr_decay, 1e-8, 1-1e-8 )])\n",
    "    # define the optimizer\n",
    "    opt_init, opt_update, get_params = optimizers.adam(step_size=pw_lr)\n",
    "    # opt_init, opt_update, get_params = optimizers.sgd(step_size=pw_lr)\n",
    "    # initialize the parameters (and states)\n",
    "    net_params, net_states = param_initializer( key_model, args )\n",
    "    ##############################################################################################\n",
    "    ##############################################################################################\n",
    "    ##############################################################################################\n",
    "    # import pickle\n",
    "    # # params from sparch\n",
    "    # params = pickle.load( open( '/Users/filippomoro/Desktop/params_snn_77p_numpy.pkl', 'rb' ) )\n",
    "    # for i in range( len(net_params) ):\n",
    "    #     net_params[i][0] = params[f'snn.{i}.W.weight'].T\n",
    "    #     net_params[i][1] = params[f'alpha{i}']\n",
    "    ##############################################################################################\n",
    "    ##############################################################################################\n",
    "    ##############################################################################################\n",
    "    opt_state = opt_init(net_params)\n",
    "\n",
    "\n",
    "    # Training loop\n",
    "    train_loss = []\n",
    "    train_step = 0\n",
    "    best_val_acc = 5.0; net_params_best = net_params\n",
    "    for epoch in range(n_epochs):\n",
    "        t = time.time()\n",
    "        acc = 0; count = 0\n",
    "        for batch_idx, (x, y) in enumerate(train_dl):\n",
    "            y = one_hot(y, args.n_out)\n",
    "            key, key_epoch = jax.random.split(key)\n",
    "            _, net_states = param_initializer(key=key_epoch, args=args)\n",
    "            grads, opt_state, (L, [tot_correct, _]) = update(key, epoch, net_states, x, y, opt_state, dropout_rate=args.dropout_rate)\n",
    "            # possibly remove gradient from alpha\n",
    "            if not args.train_alpha:\n",
    "                for g in range(len(grads)): grads[g][1] *= 0\n",
    "            # else: \n",
    "            #     for g in range(len(grads)): grads[g][1] *= 1\n",
    "            # weight update\n",
    "            opt_state = opt_update(epoch, grads, opt_state)\n",
    "            net_params = get_params(opt_state)\n",
    "            # clip alpha between 0 and 1\n",
    "            # if args.train_alpha:\n",
    "            #     # for g in range(len(net_params)): net_params[g][1] = jnp.clip(net_params[g][1], jnp.exp(-1/5), jnp.exp(-1/25))\n",
    "            #     for g in range(len(net_params)): net_params[g][1] = jnp.clip(net_params[g][1], 0, 1.0-1e-5)\n",
    "            # append stats\n",
    "            train_loss.append(L)\n",
    "            train_step += 1\n",
    "            acc += tot_correct\n",
    "            count += x.shape[0]\n",
    "        \n",
    "        ### Training logs\n",
    "        train_acc = 100*acc/count\n",
    "        elapsed_time = time.time() - t            \n",
    "        ### Validation\n",
    "        acc_val = 0; count_val = 0\n",
    "        for batch_idx, (x, y) in enumerate(val_dl):\n",
    "            count_val += x.shape[0]\n",
    "            acc_val += total_correct(net_params, net_states, x, y)\n",
    "        val_acc = 100*acc_val/count_val\n",
    "        # save best model is validation accuracy is improved\n",
    "        if val_acc >= best_val_acc: \n",
    "            net_params_best = net_params\n",
    "            best_val_acc = val_acc\n",
    "\n",
    "        if verbose: print(f'Epoch: [{epoch+1}/{n_epochs}] - Loss: {L:.5f} - '\n",
    "              f' Training acc: {train_acc:.2f} - Validation acc: {val_acc:.2f} - t: {elapsed_time:.2f} sec')\n",
    "        # if epoch % 50 == 0:\n",
    "        #     # Save training state\n",
    "        #     trained_params = optimizers.unpack_optimizer_state(opt_state)\n",
    "        #     checkpoint_path = os.path.join('checkpoints', \"checkpoint.pkl\")\n",
    "        #     with open(checkpoint_path, \"wb\") as file:\n",
    "        #         pickle.dump(trained_params, file)\n",
    "\n",
    "    # Testing Loop\n",
    "    acc = 0; val_acc = 0; count = 0\n",
    "    if dataset_name in ['shd', 'all']:\n",
    "        for batch_idx, (x, y) in enumerate(val_dl):\n",
    "            key, key_epoch = jax.random.split(key)\n",
    "            _, net_states = param_initializer(key=key_epoch, args=args)\n",
    "            count += x.shape[0]\n",
    "            acc += total_correct(net_params_best, net_states, x, y)\n",
    "        val_acc = 100*acc/count\n",
    "        print(f'Validation Accuracy: {val_acc:.2f}')\n",
    "\n",
    "    acc = 0; test_acc = 0; count = 0\n",
    "    if dataset_name in ['shd', 'all']:\n",
    "        key, key_epoch = jax.random.split(key)\n",
    "        _, net_states = param_initializer(key=key_epoch, args=args)\n",
    "        for batch_idx, (x, y) in enumerate(test_dl):\n",
    "            count += x.shape[0]\n",
    "            acc += total_correct(net_params_best, net_states, x, y)\n",
    "        test_acc = 100*acc/count\n",
    "        print(f'Test Accuracy: {test_acc:.2f}')\n",
    "\n",
    "    return train_loss, test_acc, val_acc, net_params_best"
   ]
  },
  {
   "cell_type": "code",
   "execution_count": 21,
   "metadata": {},
   "outputs": [
    {
     "name": "stdout",
     "output_type": "stream",
     "text": [
      "Epoch: [1/40] - Loss: 1.08308 -  Training acc: 44.57 - Validation acc: 69.24 - t: 9.11 sec\n",
      "Epoch: [2/40] - Loss: 0.51954 -  Training acc: 77.67 - Validation acc: 82.97 - t: 6.66 sec\n",
      "Epoch: [3/40] - Loss: 0.27816 -  Training acc: 85.71 - Validation acc: 86.52 - t: 6.70 sec\n",
      "Epoch: [4/40] - Loss: 0.30880 -  Training acc: 88.57 - Validation acc: 86.64 - t: 6.94 sec\n",
      "Epoch: [5/40] - Loss: 0.25986 -  Training acc: 90.91 - Validation acc: 90.32 - t: 6.73 sec\n",
      "Epoch: [6/40] - Loss: 0.35157 -  Training acc: 92.93 - Validation acc: 89.58 - t: 6.72 sec\n",
      "Epoch: [7/40] - Loss: 0.19506 -  Training acc: 93.45 - Validation acc: 90.56 - t: 7.00 sec\n",
      "Epoch: [8/40] - Loss: 0.10464 -  Training acc: 94.73 - Validation acc: 92.83 - t: 6.98 sec\n",
      "Epoch: [9/40] - Loss: 0.13342 -  Training acc: 95.71 - Validation acc: 92.52 - t: 6.72 sec\n",
      "Epoch: [10/40] - Loss: 0.16706 -  Training acc: 95.78 - Validation acc: 93.38 - t: 7.11 sec\n",
      "Epoch: [11/40] - Loss: 0.13889 -  Training acc: 96.87 - Validation acc: 93.20 - t: 7.01 sec\n",
      "Epoch: [12/40] - Loss: 0.14734 -  Training acc: 97.53 - Validation acc: 93.57 - t: 6.94 sec\n",
      "Epoch: [13/40] - Loss: 0.10805 -  Training acc: 97.21 - Validation acc: 93.44 - t: 6.76 sec\n",
      "Epoch: [14/40] - Loss: 0.08589 -  Training acc: 97.81 - Validation acc: 93.87 - t: 6.74 sec\n",
      "Epoch: [15/40] - Loss: 0.04941 -  Training acc: 97.88 - Validation acc: 93.75 - t: 6.70 sec\n",
      "Epoch: [16/40] - Loss: 0.07570 -  Training acc: 98.04 - Validation acc: 93.87 - t: 6.75 sec\n",
      "Epoch: [17/40] - Loss: 0.07202 -  Training acc: 98.34 - Validation acc: 94.79 - t: 6.88 sec\n",
      "Epoch: [18/40] - Loss: 0.04496 -  Training acc: 98.65 - Validation acc: 93.50 - t: 6.77 sec\n",
      "Epoch: [19/40] - Loss: 0.03030 -  Training acc: 98.70 - Validation acc: 94.00 - t: 6.78 sec\n",
      "Epoch: [20/40] - Loss: 0.04421 -  Training acc: 98.22 - Validation acc: 92.77 - t: 6.76 sec\n",
      "Epoch: [21/40] - Loss: 0.09935 -  Training acc: 98.94 - Validation acc: 94.91 - t: 6.69 sec\n",
      "Epoch: [22/40] - Loss: 0.02542 -  Training acc: 99.13 - Validation acc: 94.36 - t: 6.74 sec\n",
      "Epoch: [23/40] - Loss: 0.05724 -  Training acc: 99.08 - Validation acc: 95.04 - t: 6.76 sec\n",
      "Epoch: [24/40] - Loss: 0.05118 -  Training acc: 99.39 - Validation acc: 94.24 - t: 6.76 sec\n",
      "Epoch: [25/40] - Loss: 0.02435 -  Training acc: 99.31 - Validation acc: 94.42 - t: 6.71 sec\n",
      "Epoch: [26/40] - Loss: 0.02467 -  Training acc: 99.22 - Validation acc: 94.00 - t: 6.70 sec\n",
      "Epoch: [27/40] - Loss: 0.01378 -  Training acc: 99.45 - Validation acc: 94.18 - t: 6.70 sec\n",
      "Epoch: [28/40] - Loss: 0.05584 -  Training acc: 99.36 - Validation acc: 94.06 - t: 6.73 sec\n",
      "Epoch: [29/40] - Loss: 0.02086 -  Training acc: 99.60 - Validation acc: 94.73 - t: 6.70 sec\n",
      "Epoch: [30/40] - Loss: 0.01227 -  Training acc: 99.65 - Validation acc: 94.73 - t: 7.08 sec\n",
      "Epoch: [31/40] - Loss: 0.02642 -  Training acc: 99.82 - Validation acc: 94.36 - t: 6.89 sec\n",
      "Epoch: [32/40] - Loss: 0.02243 -  Training acc: 99.62 - Validation acc: 94.49 - t: 7.29 sec\n",
      "Epoch: [33/40] - Loss: 0.03820 -  Training acc: 99.46 - Validation acc: 94.73 - t: 6.80 sec\n",
      "Epoch: [34/40] - Loss: 0.03646 -  Training acc: 99.43 - Validation acc: 93.87 - t: 6.75 sec\n",
      "Epoch: [35/40] - Loss: 0.05932 -  Training acc: 99.22 - Validation acc: 93.08 - t: 6.71 sec\n",
      "Epoch: [36/40] - Loss: 0.04040 -  Training acc: 98.80 - Validation acc: 93.69 - t: 6.75 sec\n",
      "Epoch: [37/40] - Loss: 0.04095 -  Training acc: 99.33 - Validation acc: 93.50 - t: 7.96 sec\n",
      "Epoch: [38/40] - Loss: 0.01475 -  Training acc: 99.52 - Validation acc: 94.42 - t: 6.92 sec\n",
      "Epoch: [39/40] - Loss: 0.02087 -  Training acc: 99.71 - Validation acc: 94.79 - t: 6.75 sec\n",
      "Epoch: [40/40] - Loss: 0.00858 -  Training acc: 99.66 - Validation acc: 94.73 - t: 6.89 sec\n",
      "Validation Accuracy: 94.55\n",
      "Test Accuracy: 82.99\n"
     ]
    }
   ],
   "source": [
    "args.train_alpha = True\n",
    "args.hierarchy_tau = False\n",
    "args.distrib_tau = True\n",
    "args.distrib_tau_bittar = False\n",
    "args.recurrent = True\n",
    "args.normalizer = 'batch' # 'batch' #'layer'\n",
    "args.norm_bias_init = 0.0\n",
    "if args.normalizer == 'batch': norm = BatchNorm\n",
    "elif args.normalizer == 'layer': norm = LayerNorm\n",
    "else: norm = None\n",
    "# network architecture\n",
    "if args.recurrent: \n",
    "    model = hrsnn_step\n",
    "    layer = rlif_step\n",
    "else: \n",
    "    model = hsnn_step\n",
    "    layer = lif_step\n",
    "layer_out = li_step\n",
    "args.n_layers = 2\n",
    "args.n_hid = 512\n",
    "# time constants\n",
    "args.tau_mem = 0.2 #0.1\n",
    "delta_tau = 0.1\n",
    "args.tau_end = args.tau_mem + delta_tau\n",
    "args.tau_start = args.tau_mem - delta_tau\n",
    "args.distrib_tau_sd = 0.2\n",
    "if args.recurrent: args.tau_out = 0.1\n",
    "else: args.tau_out = 0.2 #0.014*5 # 0.21 #0.01\n",
    "# weight init\n",
    "### 0.3 for FF, 0.1 for Rec\n",
    "if args.recurrent: args.w_scale = [0.075, 0.05] #[[3*np.sqrt(1/args.n_in), 2*np.sqrt(1/args.n_hid)], [2*np.sqrt(1/args.n_hid), 2*np.sqrt(1/args.n_hid)], [2*np.sqrt(1/args.n_hid), 2*np.sqrt(1/args.n_hid)] ] #[0.075, 0.05]\n",
    "else : args.w_scale = [ 1*np.sqrt(1/args.n_in), 1*np.sqrt(1/args.n_hid), 1*np.sqrt(1/args.n_hid) ] #[0.3]*args.n_layers\n",
    "# LR and regularizers\n",
    "if args.recurrent: args.lr = 0.01\n",
    "else: args.lr = 0.01\n",
    "args.lr_decay = 0.5\n",
    "args.lr_decay_every = 50\n",
    "args.l2_lambda = 1e-6\n",
    "args.freq_lambda = 1e-6\n",
    "args.dropout_rate = 0.1\n",
    "n_epochs = 40\n",
    "\n",
    "train_loss, test_acc_shd, val_acc_shd, net_params_trained = train_hsnn(key = jax.random.PRNGKey(args.seed), n_epochs=n_epochs, args = args, \n",
    "                                                            train_dl = train_loader_custom_collate, test_dl = test_loader_custom_collate, val_dl=val_loader_custom_collate,\n",
    "                                                            param_initializer=params_initializer, decoder=decoder_cum,\n",
    "                                                            noise_start_step=10, noise_std=0.1, dataset_name='shd', verbose=True)"
   ]
  },
  {
   "cell_type": "code",
   "execution_count": 13,
   "metadata": {},
   "outputs": [
    {
     "name": "stdout",
     "output_type": "stream",
     "text": [
      "0.81418943\n",
      "0.8990782\n",
      "0.91492903\n"
     ]
    },
    {
     "data": {
      "image/png": "[encoded data removed]",
      "text/plain": [
       "<Figure size 640x480 with 1 Axes>"
      ]
     },
     "metadata": {},
     "output_type": "display_data"
    }
   ],
   "source": [
    "for i in range(args.n_layers-1):\n",
    "    _ = plt.hist( net_params_trained[i][1], 50, alpha=0.6 )\n",
    "    print( np.mean(  net_params_trained[i][1] ) )"
   ]
  },
  {
   "cell_type": "code",
   "execution_count": null,
   "metadata": {},
   "outputs": [],
   "source": [
    "_ = plt.hist( net_params_trained[0][0].flatten(), 50 )\n",
    "_ = plt.hist( params[f'snn.{0}.W.weight'].T.flatten(), 50, alpha=0.5 )"
   ]
  },
  {
   "cell_type": "code",
   "execution_count": 14,
   "metadata": {},
   "outputs": [
    {
     "name": "stdout",
     "output_type": "stream",
     "text": [
      "Acc 65.94114685058594\n"
     ]
    }
   ],
   "source": [
    "key = jax.random.PRNGKey(args.seed)\n",
    "def predict(args_in, X):\n",
    "    \"\"\" Scans over time and return predictions. \"\"\"\n",
    "    # net_params, net_states = args_in\n",
    "    _, net_states_hist = scan(hsnn_step, args_in, X, length=args.nb_steps)\n",
    "    return net_states_hist\n",
    "# vmap the forward of the model\n",
    "v_predict = vmap(predict, in_axes=(None, 0))\n",
    "\n",
    "# initialize parameters\n",
    "net_params, net_states = params_initializer( jax.random.PRNGKey(args.seed), args )\n",
    "acc = 0; count =0\n",
    "for x_test, Y_test in train_loader_custom_collate :\n",
    "    net_states_hist = v_predict( [net_params_trained, net_states, key, 0.], x_test)\n",
    "    out_v_mem = net_states_hist[-1][2]\n",
    "    Yhat = decoder_vmax( out_v_mem )\n",
    "    count += x_test.shape[0]\n",
    "    acc += jnp.sum( (jnp.argmax(Yhat, axis=-1) == Y_test).astype(int) )\n",
    "acc /= count\n",
    "print(f'Acc {acc*100}')"
   ]
  },
  {
   "cell_type": "code",
   "execution_count": 15,
   "metadata": {},
   "outputs": [
    {
     "data": {
      "text/plain": [
       "Array(13.328566, dtype=float32)"
      ]
     },
     "execution_count": 15,
     "metadata": {},
     "output_type": "execute_result"
    }
   ],
   "source": [
    "jnp.mean( jnp.stack( [ jnp.mean( jnp.sum( net_states_hist[l][3], axis=1 ), axis=(0,-1) ) for l in range( len(net_params_trained)-1 )] ) )"
   ]
  },
  {
   "cell_type": "code",
   "execution_count": 16,
   "metadata": {},
   "outputs": [
    {
     "name": "stdout",
     "output_type": "stream",
     "text": [
      "Input shape: train (128, 100, 256) - test (128, 100, 256)\n"
     ]
    }
   ],
   "source": [
    "### try and do a forward pass\n",
    "# load data\n",
    "x_train, Y = next(iter( train_loader_custom_collate ))\n",
    "x_test, Y_test = next(iter( test_loader_custom_collate ))\n",
    "print('Input shape: train '+ str(x_train.shape) + ' - test '+ str(x_test.shape) )\n",
    "\n",
    "# initialize parameters\n",
    "net_params, net_states = params_initializer( key, args )\n",
    "\n",
    "net_states_hist = v_predict( [net_params_trained, net_states, key, 0.], x_test)\n",
    "out_v_mem = net_states_hist[-1][2]\n",
    "Yhat = decoder_vmax( out_v_mem )"
   ]
  },
  {
   "cell_type": "code",
   "execution_count": 12,
   "metadata": {},
   "outputs": [],
   "source": [
    "import pickle\n",
    "# params from sparch\n",
    "params = pickle.load( open( '/Users/filippomoro/Desktop/params_snn_init_numpy.pkl', 'rb' ) )\n",
    "# initialize my parameters\n",
    "net_params, net_states = params_initializer( key = jax.random.PRNGKey(args.seed), args=args )\n",
    "\n",
    "# for i in range( len(net_params) ):\n",
    "#     net_params[i][0] = params[f'snn.{i}.W.weight'].T\n",
    "#     net_params[i][1] = params[f'alpha{i}']"
   ]
  },
  {
   "cell_type": "code",
   "execution_count": 17,
   "metadata": {},
   "outputs": [
    {
     "data": {
      "text/plain": [
       "dict_keys(['snn.0.W.weight', 'alpha0', 'snn.1.W.weight', 'alpha1', 'snn.2.W.weight', 'alpha2'])"
      ]
     },
     "execution_count": 17,
     "metadata": {},
     "output_type": "execute_result"
    }
   ],
   "source": [
    "params.keys()"
   ]
  },
  {
   "cell_type": "code",
   "execution_count": 23,
   "metadata": {},
   "outputs": [
    {
     "data": {
      "image/png": "[encoded data removed]",
      "text/plain": [
       "<Figure size 640x480 with 1 Axes>"
      ]
     },
     "metadata": {},
     "output_type": "display_data"
    }
   ],
   "source": [
    "_ = plt.hist( net_params[2][1].flatten(), 50, alpha=0.5 )\n",
    "_ = plt.hist( params[f'alpha{2}'].flatten(), 50, alpha=0.5 )"
   ]
  },
  {
   "cell_type": "code",
   "execution_count": null,
   "metadata": {},
   "outputs": [],
   "source": [
    "_ = plt.hist( net_params[0][0].flatten(), 50, alpha=0.5 )\n",
    "_ = plt.hist( params[f'snn.{0}.W.weight'].flatten(), 50, alpha=0.5 )"
   ]
  },
  {
   "cell_type": "code",
   "execution_count": 114,
   "metadata": {},
   "outputs": [
    {
     "name": "stdout",
     "output_type": "stream",
     "text": [
      "(700, 128) (128,)\n",
      "(128, 128) (128,)\n",
      "(128, 20) (20,)\n"
     ]
    }
   ],
   "source": [
    "for i in range( len(net_params) ):\n",
    "    net_params[i][0] = params[f'snn.{i}.W.weight'].T\n",
    "    net_params[i][1] = params[f'alpha{i}']\n",
    "    print( params[f'snn.{i}.W.weight'].T.shape, params[f'alpha{i}'].shape )"
   ]
  },
  {
   "cell_type": "code",
   "execution_count": 109,
   "metadata": {},
   "outputs": [
    {
     "name": "stdout",
     "output_type": "stream",
     "text": [
      "Test Accuracy: 79.01943\n"
     ]
    }
   ],
   "source": [
    "@jit\n",
    "def predict(args_in, X):\n",
    "    \"\"\" Scans over time and return predictions. \"\"\"\n",
    "    _, net_states_hist = scan(model, args_in, X, length=args.nb_steps)\n",
    "    return net_states_hist\n",
    "# vmap the forward of the model\n",
    "v_predict = vmap(predict, in_axes=(None, 0))\n",
    "\n",
    "def total_correct(net_params, net_states, X, Y):\n",
    "    net_states_hist = v_predict( [net_params, net_states, key, 0.], X) # last value refers to the Dropout rate\n",
    "    # out_v_mem = net_states_hist[-1][2]\n",
    "    # Yhat = decoder( out_v_mem )\n",
    "    Yhat = jax.nn.softmax( net_states_hist[-1][3][:,-1] )\n",
    "    acc = jnp.sum(jnp.equal(jnp.argmax(Yhat, 1), Y))\n",
    "    return acc\n",
    "\n",
    "acc = 0; test_acc = 0; count = 0\n",
    "key = jax.random.PRNGKey(args.seed)\n",
    "for batch_idx, (x, y) in enumerate(test_loader_custom_collate):\n",
    "    count += x.shape[0]\n",
    "    acc += total_correct(net_params, net_states, x, y)\n",
    "test_acc = 100*acc/count\n",
    "print(f'Test Accuracy: {test_acc:.5f}')"
   ]
  },
  {
   "cell_type": "code",
   "execution_count": 80,
   "metadata": {},
   "outputs": [
    {
     "name": "stdout",
     "output_type": "stream",
     "text": [
      "Input shape: train (128, 100, 700) - test (128, 100, 700)\n",
      "(128, 20)\n"
     ]
    }
   ],
   "source": [
    "@jit\n",
    "def predict(args_in, X):\n",
    "    \"\"\" Scans over time and return predictions. \"\"\"\n",
    "    # net_params, net_states, key, dropout_rate = args_in\n",
    "    _, net_states_hist = scan(model, args_in, X, length=args.nb_steps)\n",
    "    return net_states_hist\n",
    "# vmap the forward of the model\n",
    "v_predict = vmap(predict, in_axes=(None, 0))\n",
    "\n",
    "def one_hot(x, n_class):\n",
    "    return jnp.array(x[:, None] == jnp.arange(n_class), dtype=jnp.float32)\n",
    "\n",
    "def loss(key, net_params, net_states, X, Y, epoch, dropout_rate=0.):\n",
    "    \"\"\" Calculates CE loss after predictions. \"\"\"\n",
    "\n",
    "    # we might want to add noise in the forward pass --> memristor-aware-training\n",
    "    # weight = [net_params[i][0] for i in range( len(net_params) )]\n",
    "    # weight = cond(\n",
    "    #     epoch >= noise_start_step, \n",
    "    #     lambda weight, key : add_noise(weight, key, noise_std),\n",
    "    #     lambda weight, key : weight,\n",
    "    #     weight, key\n",
    "    # )\n",
    "    # forward pass\n",
    "    net_states_hist = v_predict( [net_params, net_states, key, dropout_rate], X)\n",
    "    # out_v_mem = net_states_hist[-1][2]\n",
    "    out_v_mem = net_states_hist[-1][3][:,-1]\n",
    "    # Yhat = decoder_cum( out_v_mem )\n",
    "    Yhat = jax.nn.softmax( out_v_mem, axis=-1 )\n",
    "    # compute the loss and correct examples\n",
    "    num_correct = jnp.sum(jnp.equal(jnp.argmax(Yhat, 1), jnp.argmax(Y, 1)))\n",
    "    # cross entropy loss\n",
    "    loss_ce = -jnp.mean( jnp.sum(Y * jnp.log(Yhat+1e-12), axis=-1) )\n",
    "    # L2 norm\n",
    "    loss_l2 = optimizers.l2_norm( net_params ) * args.l2_lambda\n",
    "    # firing rate loss\n",
    "    avg_spikes_neuron = jnp.mean( jnp.stack( [ jnp.mean( jnp.sum( net_states_hist[l][3], axis=1 ), axis=(0,-1) ) for l in range( len(net_params)-1 )] ) )\n",
    "    loss_fr = args.freq_lambda * (args.target_fr - avg_spikes_neuron)**2\n",
    "    ################# ----> Do I need the spiking frequency regularizer?\n",
    "    # reg_quiet = F.relu(self.reg_fmin - firing_rates).sum()\n",
    "    # reg_burst = F.relu(firing_rates - self.reg_fmax).sum()\n",
    "    # loss_fr += self.reg_factor * (reg_quiet + reg_burst)\n",
    "    loss_total = loss_ce + loss_l2 + loss_fr\n",
    "    loss_values = [num_correct, loss_ce]\n",
    "    return loss_total, loss_values\n",
    "\n",
    "# initialize parameters\n",
    "dropout_rate = 0.0\n",
    "args.distrib_tau = False\n",
    "args.hierarchy_tau = False\n",
    "args.recurrent = False\n",
    "args.normalizer = 'none' #'layer'\n",
    "args.l2_lambda = 0.\n",
    "args.freq_lambda = 0.\n",
    "if args.recurrent:\n",
    "    layer = lif_recurrent\n",
    "    model = hrsnn_step\n",
    "    args.w_scale = [0.075, 0.05]\n",
    "else:\n",
    "    layer = lif_forward\n",
    "    model = hsnn_step\n",
    "    args.w_scale = [0.075]\n",
    "norm = BatchNorm\n",
    "args.n_layers = 3\n",
    "\n",
    "\n",
    "key = jax.random.PRNGKey(seed=args.seed)\n",
    "# load data\n",
    "x_train, Y = next(iter( train_loader_custom_collate ))\n",
    "x_test, Y_test = next(iter( test_loader_custom_collate ))\n",
    "print('Input shape: train '+ str(x_train.shape) + ' - test '+ str(x_test.shape) )\n",
    "\n",
    "_, net_states = params_initializer( key, args )\n",
    "\n",
    "dropout_rate = 0.0\n",
    "# testing the training function\n",
    "args_ins = [net_params, net_states, key, dropout_rate]\n",
    "args_out = scan(model, args_ins, x_train[0], length=args.nb_steps)\n",
    "[net_params_hist, net_states_hist] = args_out\n",
    "\n",
    "net_states_hist = v_predict( [net_params, net_states, key, dropout_rate], x_test )\n",
    "out_v_mem = net_states_hist[-1][2]\n",
    "\n",
    "# decoder\n",
    "Yhat = jax.nn.softmax( jnp.mean( out_v_mem, axis=1 ), axis=-1 )\n",
    "Yhat_vmax = jax.nn.softmax( jnp.max( out_v_mem, axis=1 ), axis=-1 )\n",
    "Yhat_cum = jnp.mean( jax.nn.softmax( out_v_mem, axis=-1 ), axis=1)\n",
    "print( Yhat_cum.shape )\n",
    "\n",
    "# loss\n",
    "loss_total, loss_values = loss(key, net_params, net_states, x_test, one_hot(Y_test, 20), 0)\n",
    "\n",
    "# values and gradients\n",
    "value, grads = value_and_grad(loss, has_aux=True, argnums=(1))(key, net_params, net_states, x_test, one_hot(Y_test,20), 0, dropout_rate=0.0)"
   ]
  },
  {
   "cell_type": "code",
   "execution_count": 81,
   "metadata": {},
   "outputs": [
    {
     "data": {
      "text/plain": [
       "Array([ 8.276392  ,  8.938479  ,  4.4812484 ,  7.7184925 ,  4.021052  ,\n",
       "        3.664058  ,  0.6440565 ,  3.4358127 ,  3.5182076 ,  4.907507  ,\n",
       "       14.740079  ,  1.8497047 ,  1.4626075 ,  4.5900016 ,  6.3239985 ,\n",
       "        6.5547924 ,  0.8976141 ,  5.580002  ,  0.68965346,  7.7062435 ],      dtype=float32)"
      ]
     },
     "execution_count": 81,
     "metadata": {},
     "output_type": "execute_result"
    }
   ],
   "source": [
    "net_states_hist[-1][3][:,-1][0]"
   ]
  },
  {
   "cell_type": "code",
   "execution_count": 82,
   "metadata": {},
   "outputs": [
    {
     "name": "stdout",
     "output_type": "stream",
     "text": [
      "-0.0001136676 0.0027103187\n",
      "4.9890332e-05 0.009270672\n",
      "-6.257324e-11 0.024859726\n"
     ]
    }
   ],
   "source": [
    "for i in range( len(grads) ):\n",
    "    print( jnp.mean( grads[i][0] ), jnp.std( grads[i][0] ) )"
   ]
  },
  {
   "cell_type": "code",
   "execution_count": 70,
   "metadata": {},
   "outputs": [
    {
     "data": {
      "text/plain": [
       "(Array(0.711745, dtype=float32),\n",
       " [Array(103, dtype=int32), Array(0.711745, dtype=float32)])"
      ]
     },
     "execution_count": 70,
     "metadata": {},
     "output_type": "execute_result"
    }
   ],
   "source": [
    "value"
   ]
  },
  {
   "cell_type": "code",
   "execution_count": 86,
   "metadata": {},
   "outputs": [
    {
     "data": {
      "text/plain": [
       "Array([-3.662955  , -1.3030419 ,  1.0605583 , -1.0207307 ,  0.713179  ,\n",
       "        0.02782269,  0.386837  ,  0.23072156,  0.5130479 ,  2.5577378 ,\n",
       "        1.4432437 ,  1.4370977 , -1.4085054 , -1.7211031 , -1.372419  ,\n",
       "        0.42121893,  0.44400537,  1.5411721 ,  0.22834672, -0.5162333 ],      dtype=float32)"
      ]
     },
     "execution_count": 86,
     "metadata": {},
     "output_type": "execute_result"
    }
   ],
   "source": [
    "grads[-1][0].sum( axis=0 )"
   ]
  },
  {
   "cell_type": "markdown",
   "metadata": {},
   "source": [
    "# Small Hyperparameter Tuning / Early Analysis\n",
    "---\n"
   ]
  },
  {
   "cell_type": "code",
   "execution_count": 9,
   "metadata": {},
   "outputs": [
    {
     "name": "stdout",
     "output_type": "stream",
     "text": [
      "-- Tau = 10.0ms\n",
      "Validation Accuracy: 72.98\n",
      "Test Accuracy: 61.75\n",
      "-- Tau = 50.0ms\n",
      "Validation Accuracy: 78.98\n",
      "Test Accuracy: 65.33\n",
      "-- Tau = 100.0ms\n",
      "Validation Accuracy: 82.23\n",
      "Test Accuracy: 69.04\n",
      "-- Tau = 200.0ms\n",
      "Validation Accuracy: 80.94\n",
      "Test Accuracy: 67.93\n",
      "-- Tau = 300.0ms\n",
      "Validation Accuracy: 86.09\n",
      "Test Accuracy: 68.02\n",
      "-- Tau = 500.0ms\n",
      "Validation Accuracy: 84.80\n",
      "Test Accuracy: 69.39\n"
     ]
    }
   ],
   "source": [
    "### Tau FF: Hidden\n",
    "args.train_alpha = False\n",
    "args.hierarchy_tau = False\n",
    "args.distrib_tau = True\n",
    "args.distrib_tau_bittar = False\n",
    "args.recurrent = False\n",
    "args.normalizer = None # 'batch' #'layer'\n",
    "args.norm_bias_init = 0.3\n",
    "if args.normalizer == 'batch': norm = BatchNorm\n",
    "elif args.normalizer == 'layer': norm = LayerNorm\n",
    "else: norm = None\n",
    "# network architecture\n",
    "if args.recurrent: model = hrsnn_step\n",
    "else: model = hsnn_step\n",
    "args.n_layers = 3\n",
    "args.n_hid = 128\n",
    "# time constants\n",
    "args.tau_mem = 0.3 #0.1\n",
    "delta_tau = 0.1\n",
    "args.tau_end = args.tau_mem + delta_tau\n",
    "args.tau_start = args.tau_mem - delta_tau\n",
    "if args.recurrent: args.tau_out = 0.1\n",
    "else: args.tau_out = 0.1 # 0.21 #0.01\n",
    "# weight init\n",
    "### 0.3 for FF, 0.1 for Rec\n",
    "if args.recurrent: args.w_scale = [0.075, 0.05]\n",
    "else : args.w_scale = [ 2*np.sqrt(1/args.n_in), 2*np.sqrt(1/args.n_hid), 2*np.sqrt(1/args.n_hid) ] #[0.3]*args.n_layers\n",
    "# LR and regularizers\n",
    "if args.recurrent: args.lr = 0.001\n",
    "else: args.lr = 0.01\n",
    "args.lr_decay = 0.5\n",
    "args.lr_decay_every = 50\n",
    "args.l2_lambda = 1e-5\n",
    "args.freq_lambda = 0 #1e-5\n",
    "args.dropout_rate = 0.1\n",
    "n_epochs = 50\n",
    "\n",
    "tau_list = [0.01, 0.05, 0.1, 0.2, 0.3, 0.5]\n",
    "test_acc_shd_list, val_acc_shd_list = [], []\n",
    "for t, tau in enumerate( tau_list ):\n",
    "    args.tau_mem = tau\n",
    "    print(f'-- Tau = {tau*1e3}ms')\n",
    "    train_loss, test_acc_shd, val_acc_shd, net_params_trained = train_mosaic(key = jax.random.PRNGKey(args.seed), n_batch=args.batch_size, n_epochs=n_epochs, args = args, lr = args.lr, \n",
    "                                                            train_dl = train_loader_custom_collate, test_dl = test_loader_custom_collate, val_dl=val_loader_custom_collate,\n",
    "                                                            model=model, param_initializer=params_initializer, decoder=decoder_sum,\n",
    "                                                            noise_start_step=10, noise_std=0.1, dataset_name='shd', verbose=False)\n",
    "    test_acc_shd_list.append( test_acc_shd ), val_acc_shd_list.append( val_acc_shd )\n",
    "    "
   ]
  },
  {
   "cell_type": "code",
   "execution_count": 10,
   "metadata": {},
   "outputs": [
    {
     "data": {
      "image/png": "[encoded data removed]",
      "text/plain": [
       "<Figure size 640x480 with 1 Axes>"
      ]
     },
     "metadata": {},
     "output_type": "display_data"
    }
   ],
   "source": [
    "fig, ax = plt.subplots()\n",
    "tau_list = [0.01, 0.05, 0.1, 0.2, 0.3, 0.5]\n",
    "ax.plot( np.array(tau_list)*1e3, test_acc_shd_list, marker='o', color='tab:green', lw=2, markersize=12 )\n",
    "ax.set_xlabel( 'Hidden Neuron Time Constant [ms]', size=14 )\n",
    "ax.set_ylabel( 'SHD Test accuracy [%]', size=14 )\n",
    "ax.tick_params( labelsize=14 )\n",
    "ax.grid(True)"
   ]
  },
  {
   "cell_type": "code",
   "execution_count": 17,
   "metadata": {},
   "outputs": [
    {
     "name": "stdout",
     "output_type": "stream",
     "text": [
      "-- Tau = 1.0ms\n",
      "SHD Validation Accuracy: 85.85\n",
      "SHD Test Accuracy: 68.15\n",
      "-- Tau = 10.0ms\n",
      "SHD Validation Accuracy: 84.01\n",
      "SHD Test Accuracy: 70.67\n",
      "-- Tau = 50.0ms\n",
      "SHD Validation Accuracy: 83.33\n",
      "SHD Test Accuracy: 64.58\n",
      "-- Tau = 100.0ms\n",
      "SHD Validation Accuracy: 68.69\n",
      "SHD Test Accuracy: 60.69\n",
      "-- Tau = 250.0ms\n",
      "SHD Validation Accuracy: 38.42\n",
      "SHD Test Accuracy: 35.78\n"
     ]
    }
   ],
   "source": [
    "### Tau FF: output\n",
    "args.train_alpha = False\n",
    "args.hierarchy_tau = False\n",
    "args.distrib_tau = False\n",
    "args.recurrent = False\n",
    "# network architecture\n",
    "if args.recurrent: model = hrsnn_step\n",
    "else: model = hsnn_step\n",
    "args.n_layers = 3\n",
    "args.n_hid = 128\n",
    "# time constants\n",
    "args.tau_mem = 0.25 #0.1\n",
    "args.tau_out = 0.01\n",
    "# weight init\n",
    "### 0.3 for FF, 0.1 for Rec\n",
    "if args.recurrent: args.w_scale = 0.1\n",
    "else : args.w_scale = 0.3\n",
    "# LR and regularizers\n",
    "args.lr = 0.01\n",
    "args.lr_decay = 0.5\n",
    "args.lr_decay_every = 50\n",
    "args.l2_lambda = 5e-5\n",
    "args.freq_lambda = 5e-5\n",
    "args.dropout_rate = 0.1\n",
    "n_epochs = 50\n",
    "\n",
    "tau_list = [0.001, 0.01, 0.05, 0.1, 0.25]\n",
    "test_acc_shd_list, val_acc_shd_list = [], []\n",
    "for t, tau in enumerate( tau_list ):\n",
    "    args.tau_out = tau\n",
    "    print(f'-- Tau = {tau*1e3}ms')\n",
    "    _, test_acc_shd, test_acc_ssc, val_acc_shd, _ = train_mosaic(key = jax.random.PRNGKey(args.seed), n_batch=args.batch_size, n_epochs=n_epochs, args = args, lr = args.lr, \n",
    "                                    train_dl = train_loader_custom_collate, test_dl = test_loader_custom_collate, val_dl=val_loader_custom_collate,\n",
    "                                    model=model, param_initializer=params_initializer, decoder=decoder_sum,\n",
    "                                    noise_start_step=10, noise_std=0.1, dataset_name='shd', verbose=False)\n",
    "    test_acc_shd_list.append( test_acc_shd ), val_acc_shd_list.append( val_acc_shd )\n",
    "    "
   ]
  },
  {
   "cell_type": "code",
   "execution_count": 18,
   "metadata": {},
   "outputs": [
    {
     "data": {
      "image/png": "[encoded data removed]",
      "text/plain": [
       "<Figure size 640x480 with 1 Axes>"
      ]
     },
     "metadata": {},
     "output_type": "display_data"
    }
   ],
   "source": [
    "fig, ax = plt.subplots()\n",
    "tau_list = [0.001, 0.01, 0.05, 0.1, 0.25]\n",
    "ax.plot( np.array(tau_list)*1e3, test_acc_shd_list, marker='o', color='tab:green', lw=2, markersize=12 )\n",
    "ax.set_xlabel( 'Output Neuron Time Constant [ms]', size=14 )\n",
    "ax.set_ylabel( 'SHD Test accuracy [%]', size=14 )\n",
    "ax.tick_params( labelsize=14 )\n",
    "ax.grid(True)"
   ]
  },
  {
   "cell_type": "code",
   "execution_count": 13,
   "metadata": {},
   "outputs": [
    {
     "name": "stdout",
     "output_type": "stream",
     "text": [
      "-- Delta Tau = 10.0ms\n",
      "Validation Accuracy: 84.31\n",
      "Test Accuracy: 68.82\n",
      "-- Delta Tau = 50.0ms\n",
      "Validation Accuracy: 83.09\n",
      "Test Accuracy: 69.52\n",
      "-- Delta Tau = 100.0ms\n",
      "Validation Accuracy: 82.05\n",
      "Test Accuracy: 67.09\n",
      "-- Delta Tau = 200.0ms\n",
      "Validation Accuracy: 83.21\n",
      "Test Accuracy: 70.14\n"
     ]
    }
   ],
   "source": [
    "# Effect of Tau FF Hierarchy\n",
    "\n",
    "### Tau FF: Hidden\n",
    "args.train_alpha = False\n",
    "args.hierarchy_tau = False\n",
    "args.distrib_tau = True\n",
    "args.distrib_tau_bittar = False\n",
    "args.recurrent = False\n",
    "args.normalizer = None # 'batch' #'layer'\n",
    "args.norm_bias_init = 0.3\n",
    "if args.normalizer == 'batch': norm = BatchNorm\n",
    "elif args.normalizer == 'layer': norm = LayerNorm\n",
    "else: norm = None\n",
    "# network architecture\n",
    "if args.recurrent: model = hrsnn_step\n",
    "else: model = hsnn_step\n",
    "args.n_layers = 3\n",
    "args.n_hid = 128\n",
    "# time constants\n",
    "args.tau_mem = 0.1 #0.1\n",
    "delta_tau = 0.1\n",
    "args.tau_end = args.tau_mem + delta_tau\n",
    "args.tau_start = args.tau_mem - delta_tau\n",
    "if args.recurrent: args.tau_out = 0.1\n",
    "else: args.tau_out = 0.1 # 0.21 #0.01\n",
    "# weight init\n",
    "### 0.3 for FF, 0.1 for Rec\n",
    "if args.recurrent: args.w_scale = [0.075, 0.05]\n",
    "else : args.w_scale = [ np.sqrt(1/args.n_in), np.sqrt(1/args.n_hid), np.sqrt(1/args.n_hid) ] #[0.3]*args.n_layers\n",
    "# LR and regularizers\n",
    "if args.recurrent: args.lr = 0.001\n",
    "else: args.lr = 0.01\n",
    "args.lr_decay = 0.5\n",
    "args.lr_decay_every = 50\n",
    "args.l2_lambda = 1e-5\n",
    "args.freq_lambda = 0 #1e-5\n",
    "args.dropout_rate = 0.1\n",
    "n_epochs = 50\n",
    "\n",
    "tau_list = [0.01, 0.05, 0.1, 0.2]\n",
    "test_acc_shd_list, val_acc_shd_list = [], []\n",
    "for t, tau in enumerate( tau_list ):\n",
    "    args.tau_end = args.tau_mem + tau\n",
    "    args.tau_start = args.tau_mem - tau\n",
    "    print(f'-- Delta Tau = {tau*1e3}ms')\n",
    "    train_loss, test_acc_shd, val_acc_shd, net_params_trained = train_mosaic(key = jax.random.PRNGKey(args.seed), n_batch=args.batch_size, n_epochs=n_epochs, args = args, lr = args.lr, \n",
    "                                                            train_dl = train_loader_custom_collate, test_dl = test_loader_custom_collate, val_dl=val_loader_custom_collate,\n",
    "                                                            model=model, param_initializer=params_initializer, decoder=decoder_sum,\n",
    "                                                            noise_start_step=10, noise_std=0.1, dataset_name='shd', verbose=False)\n",
    "    test_acc_shd_list.append( test_acc_shd ), val_acc_shd_list.append( val_acc_shd )\n",
    "    "
   ]
  },
  {
   "cell_type": "code",
   "execution_count": 12,
   "metadata": {},
   "outputs": [
    {
     "data": {
      "image/png": "[encoded data removed]",
      "text/plain": [
       "<Figure size 640x480 with 1 Axes>"
      ]
     },
     "metadata": {},
     "output_type": "display_data"
    }
   ],
   "source": [
    "fig, ax = plt.subplots()\n",
    "tau_list = [0.01, 0.05, 0.1, 0.2]\n",
    "ax.plot( np.array(tau_list)*1e3, test_acc_shd_list, marker='o', color='tab:green', lw=2, markersize=12 )\n",
    "ax.set_xlabel( 'Time constant difference between layers [ms]', size=14 )\n",
    "ax.set_ylabel( 'SHD Test accuracy [%]', size=14 )\n",
    "ax.tick_params( labelsize=14 )\n",
    "ax.grid(True)"
   ]
  }
 ],
 "metadata": {
  "kernelspec": {
   "display_name": "denram",
   "language": "python",
   "name": "python3"
  },
  "language_info": {
   "codemirror_mode": {
    "name": "ipython",
    "version": 3
   },
   "file_extension": ".py",
   "mimetype": "text/x-python",
   "name": "python",
   "nbconvert_exporter": "python",
   "pygments_lexer": "ipython3",
   "version": "3.10.9"
  }
 },
 "nbformat": 4,
 "nbformat_minor": 2
}
