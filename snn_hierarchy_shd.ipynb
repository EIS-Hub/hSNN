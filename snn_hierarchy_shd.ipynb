{
 "cells": [
  {
   "cell_type": "markdown",
   "metadata": {},
   "source": [
    "# SNN with hierarchy of Time constant\n",
    "---\n",
    "This notebook is mainly for developing the code that will be rewritten in python files\\\\\n",
    "\n",
    "The idea is to explore what role a hierarchy of time scales have in temporal processing, especially when dealing with multi-time-scale inputs.\\\\\n",
    "\n",
    "Prior literature shows the importance of heterogeneity of time scales in SNNs, mainly showing that diversity of time-scales are beneficial.\n",
    "- https://www.nature.com/articles/s41467-021-26022-3\n",
    "- https://www.nature.com/articles/s41467-023-44614-z\n",
    "\n",
    "However, an interpretation of the role of the hierarchy of time constant is still missing.\n",
    "\n",
    "The assumption is that when treating a temporal sequence sempled at a certain period $\\tau_{sampling}$ and with a total duration $\\Tau$, there can be an optimal sequence of filters $F_i(\\tau_i)$ that process the input sequence. For each of the filters $\\tau_{i+1} > \\tau_i$, where the subscript indicates the order of the filter. More simply, there is a hierarchy of time-scales - from fast to slow - that leads to an optimal processing of the input sequence."
   ]
  },
  {
   "cell_type": "code",
   "execution_count": 1,
   "metadata": {},
   "outputs": [
    {
     "name": "stderr",
     "output_type": "stream",
     "text": [
      "WARNING: All log messages before absl::InitializeLog() is called are written to STDERR\n",
      "I0000 00:00:1710106813.757494       1 tfrt_cpu_pjrt_client.cc:349] TfrtCpuClient created.\n"
     ]
    },
    {
     "data": {
      "text/plain": [
       "[CpuDevice(id=0)]"
      ]
     },
     "execution_count": 1,
     "metadata": {},
     "output_type": "execute_result"
    }
   ],
   "source": [
    "import jax\n",
    "import jax.numpy as jnp\n",
    "from jax.example_libraries import optimizers\n",
    "\n",
    "import matplotlib.pyplot as plt\n",
    "import numpy as np\n",
    "import os\n",
    "import time\n",
    "import random\n",
    "\n",
    "from jax import vmap, pmap, jit, value_and_grad, local_device_count\n",
    "from jax.example_libraries import optimizers\n",
    "from jax.lax import scan, cond\n",
    "import pickle\n",
    "\n",
    "os.environ[\"XLA_PYTHON_CLIENT_MEM_FRACTION\"]=\".75\" # needed because network is huge\n",
    "os.environ[\"CUDA_VISIBLE_DEVICES\"]=\"0\"\n",
    "jax.devices()"
   ]
  },
  {
   "cell_type": "markdown",
   "metadata": {},
   "source": [
    "## Parameters of the SNN model\n",
    "---"
   ]
  },
  {
   "cell_type": "code",
   "execution_count": 2,
   "metadata": {},
   "outputs": [],
   "source": [
    "from utils_initialization import args"
   ]
  },
  {
   "cell_type": "markdown",
   "metadata": {},
   "source": [
    "## Download and Import the SHD dataset\n",
    "---"
   ]
  },
  {
   "cell_type": "code",
   "execution_count": 3,
   "metadata": {},
   "outputs": [
    {
     "name": "stdout",
     "output_type": "stream",
     "text": [
      "Train DL size: 8156, Validation DL size: 1632, Test DL size: 2264\n"
     ]
    }
   ],
   "source": [
    "from utils_dataset import get_dataloader\n",
    "train_loader_custom_collate, val_loader_custom_collate, test_loader_custom_collate = get_dataloader( args=args, verbose=True )"
   ]
  },
  {
   "cell_type": "markdown",
   "metadata": {},
   "source": [
    "## Neuron Model\n",
    "---\n",
    "We'll use Leaky-Integrate-and-Fire neurons for the Hidden layers, Leaky-Integrator neurons for the output.\n",
    "\n",
    "We also define some additional functions to: Introduce Noise in Weights and Membrane voltage, Introduce the Surrogate Gradient function."
   ]
  },
  {
   "cell_type": "code",
   "execution_count": 4,
   "metadata": {},
   "outputs": [],
   "source": [
    "from models import *\n",
    "from utils_initialization import *"
   ]
  },
  {
   "cell_type": "code",
   "execution_count": 5,
   "metadata": {},
   "outputs": [],
   "source": [
    "# Normalization Layers\n",
    "from typing import (Any, Callable, Iterable, Optional, Tuple, Union)\n",
    "\n",
    "PRNGKey = Any\n",
    "Array = Any\n",
    "Shape = Tuple[int, ...]\n",
    "Dtype = Any  # this could be a real type?\n",
    "\n",
    "Axes = Union[int, Iterable[int]]\n",
    "\n",
    "def _canonicalize_axes(rank: int, axes: Axes) -> Tuple[int, ...]:\n",
    "    \"\"\"Returns a tuple of deduplicated, sorted, and positive axes.\"\"\"\n",
    "    if not isinstance(axes, Iterable):\n",
    "        axes = (axes,)\n",
    "    return tuple(set([rank + axis if axis < 0 else axis for axis in axes]))\n",
    "\n",
    "\n",
    "def _abs_sq(x):\n",
    "    \"\"\"Computes the elementwise square of the absolute value |x|^2.\"\"\"\n",
    "    if jnp.iscomplexobj(x):\n",
    "        return jax.lax.square(jax.lax.real(x)) + jax.lax.square(jax.lax.imag(x))\n",
    "    else:\n",
    "        return jax.lax.square(x)\n",
    "\n",
    "def _compute_stats(x: Array, axes: Axes,\n",
    "                   dtype: Optional[Dtype],\n",
    "                   axis_name: Optional[str] = None,\n",
    "                   axis_index_groups: Any = None):\n",
    "    \"\"\"Computes mean and variance statistics.\n",
    "    Returns:\n",
    "      A pair ``(mean, var)``.\n",
    "    \"\"\"\n",
    "    if dtype is None:\n",
    "      dtype = jnp.result_type(x)\n",
    "    # promote x to at least float32, this avoids half precision computation\n",
    "    # but preserves double or complex floating points\n",
    "    dtype = jnp.promote_types(dtype, jnp.float32)\n",
    "    x = jnp.asarray(x, dtype)\n",
    "\n",
    "    mean = jnp.mean(x, axes)\n",
    "    mean2 = jnp.mean(_abs_sq(x), axes)\n",
    "    if axis_name is not None:\n",
    "      concatenated_mean = jnp.concatenate([mean, mean2])\n",
    "      mean, mean2 = jnp.split(\n",
    "          jax.lax.pmean(\n",
    "              concatenated_mean,\n",
    "              axis_name=axis_name,\n",
    "              axis_index_groups=axis_index_groups), 2)\n",
    "    # mean2 - _abs_sq(mean) is not guaranteed to be non-negative due\n",
    "    # to floating point round-off errors.\n",
    "    var = jnp.maximum(0., mean2 - _abs_sq(mean))\n",
    "    return mean, var\n",
    "\n",
    "\n",
    "def _normalize(x: Array, mean: Array, var: Array,\n",
    "               reduction_axes: Axes, feature_axes: Axes,\n",
    "               dtype: Dtype, param_dtype: Dtype,\n",
    "               epsilon: float,\n",
    "               bias: Array,\n",
    "               scale: Array):\n",
    "    \"\"\"\"Normalizes the input of a normalization layer and optionally applies a learned scale and bias.\n",
    "\n",
    "    Arguments:\n",
    "    mdl: Module to apply the normalization in (normalization params will reside\n",
    "        in this module).\n",
    "    x: The input.\n",
    "    mean: Mean to use for normalization.\n",
    "    var: Variance to use for normalization.\n",
    "    reduction_axes: The axes in ``x`` to reduce.\n",
    "    feature_axes: Axes containing features. A separate bias and scale is learned\n",
    "        for each specified feature.\n",
    "    dtype: The dtype of the result (default: infer from input and params).\n",
    "    param_dtype: The dtype of the parameters.\n",
    "    epsilon: Normalization epsilon.\n",
    "    use_bias: If true, add a bias term to the output.\n",
    "    use_scale: If true, scale the output.\n",
    "    bias_init: Initialization function for the bias term.\n",
    "    scale_init: Initialization function for the scaling function.\n",
    "\n",
    "    Returns:\n",
    "    The normalized input.\n",
    "    \"\"\"\n",
    "    reduction_axes = _canonicalize_axes(x.ndim, reduction_axes)\n",
    "    feature_axes = _canonicalize_axes(x.ndim, feature_axes)\n",
    "    stats_shape = list(x.shape)\n",
    "    for axis in reduction_axes:\n",
    "        stats_shape[axis] = 1\n",
    "    mean = mean.reshape(stats_shape)\n",
    "    var = var.reshape(stats_shape)\n",
    "    feature_shape = [1] * x.ndim\n",
    "    reduced_feature_shape = []\n",
    "    for ax in feature_axes:\n",
    "        feature_shape[ax] = x.shape[ax]\n",
    "        reduced_feature_shape.append(x.shape[ax])\n",
    "    y = x - mean\n",
    "    mul = jax.lax.rsqrt(var + epsilon)\n",
    "    args = [x]\n",
    "    # scale = mdl.param('scale', scale_init, reduced_feature_shape,\n",
    "    #                     param_dtype).reshape(feature_shape)\n",
    "    mul *= scale\n",
    "    args.append(scale)\n",
    "    y *= mul\n",
    "    # bias = mdl.param('bias', bias_init, reduced_feature_shape,\n",
    "    #                     param_dtype).reshape(feature_shape)\n",
    "    y += bias\n",
    "    args.append(bias)\n",
    "    #   dtype = canonicalize_dtype(*args, dtype=dtype)\n",
    "    return jnp.asarray(y)"
   ]
  },
  {
   "cell_type": "code",
   "execution_count": 6,
   "metadata": {},
   "outputs": [
    {
     "name": "stdout",
     "output_type": "stream",
     "text": [
      "-2.8056093e-08 0.99999845\n",
      "-2.8056093e-08 0.99999845\n",
      "[-2.7939677e-08 -7.0594251e-07 -1.0058284e-07  4.4703484e-07] [0.9999905  0.99999565 0.99999285 0.99998647]\n"
     ]
    }
   ],
   "source": [
    "###################\n",
    "## NORMALIZATION ##\n",
    "###################\n",
    "from utils_normalization import *\n",
    "\n",
    "key = jax.random.PRNGKey(seed=args.seed)\n",
    "x = jax.random.normal( key, [128,4], dtype=jnp.float32 ) + 10\n",
    "mean, var = _compute_stats(x, axes=-1, dtype=jnp.float32)\n",
    "# print( mean, var )\n",
    "\n",
    "y = _normalize(x, mean, var,\n",
    "               reduction_axes = -1, feature_axes = -1,\n",
    "               dtype= jnp.float32, param_dtype = jnp.float32,\n",
    "               epsilon = 1e-6,\n",
    "               bias = jnp.zeros( (x.shape[-1]) ),\n",
    "               scale = jnp.ones( (x.shape[-1]) ))\n",
    "# print( jnp.mean(y, axis=-1), jnp.var(y, axis=-1) )\n",
    "print( jnp.mean(y), jnp.var(y) )\n",
    "\n",
    "ynorm = LayerNorm( x, bias = jnp.zeros( (x.shape[-1]) ),\n",
    "               scale = jnp.ones( (x.shape[-1]) ) )\n",
    "# print( jnp.mean(ynorm, axis=-1), jnp.var(ynorm, axis=-1) )\n",
    "print( jnp.mean(ynorm), jnp.var(ynorm) )\n",
    "\n",
    "yBnorm = BatchNorm( x, bias = jnp.zeros( (x.shape[-1]) ),\n",
    "               scale = jnp.ones( (x.shape[-1]) ) )\n",
    "# print( jnp.mean(yBnorm), jnp.var(yBnorm) )\n",
    "print( jnp.mean(yBnorm, axis=0), jnp.var(yBnorm, axis=0) )"
   ]
  },
  {
   "cell_type": "code",
   "execution_count": 7,
   "metadata": {},
   "outputs": [
    {
     "name": "stdout",
     "output_type": "stream",
     "text": [
      "tensor([ 3.6508e-07, -5.5879e-08,  7.4506e-08,  2.5332e-07],\n",
      "       grad_fn=<MeanBackward1>) tensor([1.0079, 1.0079, 1.0079, 1.0079], grad_fn=<VarBackward0>)\n"
     ]
    }
   ],
   "source": [
    "import torch\n",
    "xtorch = torch.from_numpy( np.array(x) ).type(torch.float32)\n",
    "\n",
    "BN = torch.nn.BatchNorm1d( num_features=x.shape[1], track_running_stats=False, dtype=torch.float32 )\n",
    "yBnorm_torch = BN( xtorch )\n",
    "print( torch.mean(yBnorm_torch, axis=(0)), torch.var(yBnorm_torch, axis=0) )"
   ]
  },
  {
   "cell_type": "code",
   "execution_count": 20,
   "metadata": {},
   "outputs": [
    {
     "name": "stdout",
     "output_type": "stream",
     "text": [
      "[3.3885240e-07 2.0727515e-07 5.1595271e-07 3.8176773e-07] [0.99998546 0.9999844  0.9999723  1.0000018 ]\n",
      "tensor([ 1.0864e-06,  2.0190e-06,  6.0201e-08, -9.3728e-07],\n",
      "       grad_fn=<MeanBackward1>) tensor([1.0001, 1.0001, 1.0001, 1.0001], grad_fn=<VarBackward0>)\n"
     ]
    }
   ],
   "source": [
    "x = jax.random.normal( key, [128,100,4], dtype=jnp.float32 ) + 10\n",
    "\n",
    "### JAX\n",
    "yBnorm = BatchNorm( x.reshape(128*100, 4), bias = jnp.zeros( (x.shape[-1]) ),\n",
    "               scale = jnp.ones( (x.shape[-1]) ) )\n",
    "# print( jnp.mean(yBnorm), jnp.var(yBnorm) )\n",
    "print( jnp.mean(yBnorm.reshape(128,100,4), axis=(0,1)), jnp.var(yBnorm.reshape(128,100,4), axis=(0,1)) )\n",
    "\n",
    "import torch\n",
    "xtorch = torch.from_numpy( np.array(x) ).type(torch.float32)\n",
    "\n",
    "### PYTORCH\n",
    "BN = torch.nn.BatchNorm1d( num_features=xtorch.shape[-1], track_running_stats=False, dtype=torch.float32 )\n",
    "yBnorm_torch = BN( xtorch.reshape(128*100, 4) )\n",
    "print( torch.mean(yBnorm_torch.reshape(128,100,4), axis=(0,1)), torch.var(yBnorm_torch.reshape(128,100,4), axis=(0,1)) )"
   ]
  },
  {
   "cell_type": "code",
   "execution_count": 5,
   "metadata": {},
   "outputs": [],
   "source": [
    "def lif_step( args_in, input_spikes ):\n",
    "    ''' Forward function for the Leaky-Integrate and Fire neuron layer, adopted here for the hidden layers. '''\n",
    "    net_params, net_states = args_in\n",
    "    # state: the parameters (weights) and the state of the neurons (spikes, inputs and membrane, ecc..)\n",
    "    w, alpha = net_params; w_mask, tau, V_mem, out_spikes, v_thr, noise_sd = net_states\n",
    "\n",
    "    # V_mem = (alpha) * (V_mem - out_spikes) + (1-alpha) * I_in #- out_spikes*v_thr\n",
    "    # V_mem = (alpha) * (V_mem - out_spikes) + I_in #- out_spikes*v_thr\n",
    "    V_mem = alpha * V_mem + input_spikes - out_spikes*v_thr\n",
    "    out_spikes = spiking_fn( V_mem, v_thr )\n",
    "    \n",
    "    return [ [w, alpha], [w_mask, tau, V_mem, out_spikes, v_thr, noise_sd] ], out_spikes\n",
    "\n",
    "\n",
    "# Leaky Integrate and Fire layer, Recurrent\n",
    "def rlif_step( args_in, input_spikes):\n",
    "    ''' Forward function for the Leaky-Integrate and Fire neuron layer, adopted here for the hidden layers. '''\n",
    "    net_params, net_states = args_in\n",
    "    # state: the parameters (weights) and the state of the neurons (spikes, inputs and membrane, ecc..)\n",
    "    w, alpha = net_params; w_mask, tau, V_mem, out_spikes, v_thr, noise_sd = net_states\n",
    "    win_mask, wrec_mask = w_mask\n",
    "    if len(w) == 3: # it means that we'll do normalization\n",
    "        weight, scale, bias = w\n",
    "    else: weight = w\n",
    "    win, wrec = weight\n",
    "    w_rec_diag_zeros = jnp.ones_like(wrec) - jnp.eye( wrec.shape[0] )\n",
    "\n",
    "    # we evolve the state of the neuron according to the LIF formula, Euler approximation\n",
    "    I_rec = jnp.matmul(out_spikes, wrec*wrec_mask*w_rec_diag_zeros)\n",
    "    # V_mem = (alpha) * (V_mem) + (1-alpha) * I_in - out_spikes*v_thr\n",
    "    V_mem = alpha * V_mem + input_spikes + I_rec - out_spikes*v_thr\n",
    "    # V_mem = alpha * (V_mem - out_spikes) + (1-alpha) * ( I_in_norm )\n",
    "    # V_mem = alpha * (V_mem - out_spikes) + (1) * ( I_in_norm )\n",
    "    out_spikes = spiking_fn( V_mem, v_thr )\n",
    "    \n",
    "    return [ [w, alpha], [w_mask, tau, V_mem, out_spikes, v_thr, noise_sd] ], out_spikes\n",
    "\n",
    "# Leaky Integrator (output layer)\n",
    "def li_step(args_in, input_spikes):\n",
    "    ''' Forward function for the Leaky-Integrator neuron layer, adopted here for the output layers. '''\n",
    "    net_params, net_states = args_in\n",
    "    # state: the parameters (weights) and the state of the neurons (inputs and membrane)\n",
    "    w, alpha = net_params; w_mask, tau, V_mem, out_spikes, v_thr, noise_sd = net_states\n",
    "\n",
    "    # we evolve the state of the neuron according to the LI formula, Euler approximation\n",
    "    V_mem = (alpha) * (V_mem) + (1-alpha) * input_spikes\n",
    "    # V_mem = (alpha) * (V_mem) + input_spikes\n",
    "    \n",
    "    return [ [w, alpha], [w_mask, tau, V_mem, out_spikes, v_thr, noise_sd] ], V_mem\n",
    "\n",
    "# parallelizing the Single Layer\n",
    "@jit\n",
    "def scan_layer( args_in, input_spikes ):\n",
    "    args_out_layer, out_spikes_layer = scan( layer, args_in, input_spikes, length=args.nb_steps )\n",
    "    return args_out_layer, out_spikes_layer\n",
    "vscan_layer = vmap( scan_layer, in_axes=(None, 0))\n",
    "\n",
    "@jit\n",
    "def scan_out_layer( args_in, input_spikes ):\n",
    "    args_out_layer, out_spikes_layer = scan( layer_out, args_in, input_spikes, length=args.nb_steps )\n",
    "    return args_out_layer, out_spikes_layer\n",
    "vscan_layer_out = vmap( scan_out_layer, in_axes=(None, 0))\n",
    "\n",
    "@jit\n",
    "def hsnn( args_in, input_spikes ):\n",
    "    net_params, net_states, key, dropout_rate = args_in\n",
    "    n_layers = len( net_params )\n",
    "    # collection of output spikes\n",
    "    out_spike_net = []\n",
    "    # Loop over the layers\n",
    "    for l in range(n_layers):\n",
    "        if l == 0: layer_input_spike = input_spikes\n",
    "        else: layer_input_spike = out_spikes_layer\n",
    "        # making layers' params and states explitic\n",
    "        # parameters (weights and alpha) and the state of the neurons (spikes, inputs and membrane, ecc..)\n",
    "        w, alpha = net_params[l]; w_mask, tau, V_mem, out_spikes, v_thr, noise_sd = net_states[l]\n",
    "        if len(w) == 3: # it means that we'll do normalization\n",
    "            weight, scale, bias = w\n",
    "        else: weight = w\n",
    "        if len(weight) ==2: weight, _ = weight\n",
    "        # we evolve the state of the neuron according to the LIF formula, Euler approximation\n",
    "        I_in = jnp.matmul(layer_input_spike, weight)\n",
    "        # Normalization (if selected)\n",
    "        if len(w) == 3: # it means that we'll do normalization\n",
    "            b, t, n = I_in.shape\n",
    "            I_in = norm( I_in.reshape( b*t, n ), bias = bias, scale = scale )\n",
    "            I_in = I_in.reshape( b,t,n ) # normalized input current\n",
    "        # Forward pass of the Layer\n",
    "        args_in = [net_params[l], net_states[l]]\n",
    "        if l+1 == n_layers:\n",
    "            _, out_spikes_layer = vscan_layer_out( args_in, I_in )\n",
    "        else: \n",
    "            _, out_spikes_layer = vscan_layer( args_in, I_in )\n",
    "            # Dropout\n",
    "            key, key_dropout = jax.random.split(key, 2)\n",
    "            out_spikes_layer = dropout( key_dropout, out_spikes_layer, rate=dropout_rate, deterministic=False )\n",
    "        out_spike_net.append(out_spikes_layer)\n",
    "    return out_spikes_layer, out_spike_net\n"
   ]
  },
  {
   "cell_type": "code",
   "execution_count": 22,
   "metadata": {},
   "outputs": [
    {
     "name": "stdout",
     "output_type": "stream",
     "text": [
      "Input shape: train (128, 100, 700) - test (128, 100, 700)\n"
     ]
    }
   ],
   "source": [
    "### try and do a forward pass\n",
    "key = jax.random.PRNGKey(seed=args.seed)\n",
    "# load data\n",
    "x_train, Y = next(iter( train_loader_custom_collate ))\n",
    "x_test, Y_test = next(iter( train_loader_custom_collate ))\n",
    "print('Input shape: train '+ str(x_train.shape) + ' - test '+ str(x_test.shape) )\n",
    "\n",
    "# initialize parameters\n",
    "dropout_rate = 0.0\n",
    "args.distrib_tau = True\n",
    "args.hierarchy_tau = False\n",
    "args.recurrent = True\n",
    "args.normalizer = 'batch' #'layer'\n",
    "args.norm_bias_init = 0.\n",
    "args.n_layers = 3\n",
    "if args.recurrent:\n",
    "    layer = rlif_step\n",
    "    # model = hrsnn\n",
    "else:\n",
    "    layer = lif_step\n",
    "    # model = hsnn\n",
    "layer_out = lif_step\n",
    "norm = BatchNorm\n",
    "args.w_scale = [0.3]\n",
    "net_params, net_states = params_initializer( key, args )\n",
    "\n",
    "###################################################################################################\n",
    "#################################      EVOLUTION OF THE LAYER     #################################\n",
    "###################################################################################################\n",
    "input_spikes = x_test\n",
    "# state: the parameters (weights) and the state of the neurons (spikes, inputs and membrane, ecc..)\n",
    "w, alpha = net_params[0]; w_mask, tau, V_mem, out_spikes, v_thr, noise_sd = net_states[0]\n",
    "if len(w) == 3: # it means that we'll do normalization\n",
    "    weight, scale, bias = w\n",
    "else: weight = w\n",
    "if len(weight) == 2: weight, _ = weight\n",
    "\n",
    "# we evolve the state of the neuron according to the LIF formula, Euler approximation\n",
    "I_in = jnp.matmul(input_spikes, weight)\n",
    "# normalize inputs\n",
    "if len(w) == 3: \n",
    "    b, t, n = I_in.shape\n",
    "    I_in = norm( I_in.reshape( b*t, n ), bias = bias, scale = scale )\n",
    "    I_in = I_in.reshape( b,t,n )\n",
    "else: I_in = I_in\n",
    "\n",
    "# Single step\n",
    "args_in = [net_params[0], net_states[0]]\n",
    "args_out_step, out_spikes_step = layer( args_in, I_in[0,0] )\n",
    "\n",
    "# Single Layer\n",
    "args_in = [net_params[0], net_states[0]]\n",
    "args_out_layer, out_spikes_layer = scan( layer, args_in, I_in[0], length=args.nb_steps )\n",
    "\n",
    "# parallelizing the Single Layer\n",
    "@jit\n",
    "def scan_layer( args_in, input_spikes ):\n",
    "    args_out_layer, out_spikes_layer = scan( layer, args_in, input_spikes, length=args.nb_steps )\n",
    "    return args_out_layer, out_spikes_layer\n",
    "args_in = [net_params[0], net_states[0]]\n",
    "vscan_layer = vmap( scan_layer, in_axes=(None, 0))\n",
    "args_out_vlayer, out_spikes_vlayer = vscan_layer( args_in, I_in )\n",
    "\n",
    "# Forward pass throught the whole model\n",
    "args_in = [net_params, net_states, key, dropout_rate]\n",
    "out_spikes_layer, out_spike_net = hsnn( args_in, input_spikes )"
   ]
  },
  {
   "cell_type": "code",
   "execution_count": 8,
   "metadata": {},
   "outputs": [
    {
     "data": {
      "text/plain": [
       "<matplotlib.legend.Legend at 0x2aadce860>"
      ]
     },
     "execution_count": 8,
     "metadata": {},
     "output_type": "execute_result"
    },
    {
     "data": {
      "image/png": "[encoded data removed]",
      "text/plain": [
       "<Figure size 640x480 with 1 Axes>"
      ]
     },
     "metadata": {},
     "output_type": "display_data"
    }
   ],
   "source": [
    "fig, ax = plt.subplots( )\n",
    "for n in range(len(net_params)):\n",
    "    if len(net_params[n][1].shape)>0:\n",
    "        _ = ax.hist(-args.timestep/ np.log(net_params[n][1]), 25, alpha=0.75, label='Layer '+str(n+1))\n",
    "ax.set_xlabel( 'Time constant [ms]', size=14 )\n",
    "ax.set_ylabel( 'PDF', size=14 )\n",
    "ax.tick_params( labelsize=14 )\n",
    "ax.legend( prop={'size':12} )"
   ]
  },
  {
   "cell_type": "markdown",
   "metadata": {},
   "source": [
    "# Training Loop\n",
    "---"
   ]
  },
  {
   "cell_type": "code",
   "execution_count": 21,
   "metadata": {},
   "outputs": [
    {
     "name": "stdout",
     "output_type": "stream",
     "text": [
      "Input shape: train (128, 100, 700) - test (128, 100, 700)\n",
      "(128, 20)\n"
     ]
    }
   ],
   "source": [
    "@jit\n",
    "def predict(args_in, X):\n",
    "    \"\"\" Scans over time and return predictions. \"\"\"\n",
    "    # net_params, net_states, key, dropout_rate = args_in\n",
    "    _, net_states_hist = scan(model, args_in, X, length=args.nb_steps)\n",
    "    return net_states_hist\n",
    "# vmap the forward of the model\n",
    "v_predict = vmap(predict, in_axes=(None, 0))\n",
    "\n",
    "def one_hot(x, n_class):\n",
    "    return jnp.array(x[:, None] == jnp.arange(n_class), dtype=jnp.float32)\n",
    "\n",
    "def loss(key, net_params, net_states, X, Y, epoch, dropout_rate=0.):\n",
    "    \"\"\" Calculates CE loss after predictions. \"\"\"\n",
    "\n",
    "    # we might want to add noise in the forward pass --> memristor-aware-training\n",
    "    # weight = [net_params[i][0] for i in range( len(net_params) )]\n",
    "    # weight = cond(\n",
    "    #     epoch >= noise_start_step, \n",
    "    #     lambda weight, key : add_noise(weight, key, noise_std),\n",
    "    #     lambda weight, key : weight,\n",
    "    #     weight, key\n",
    "    # )\n",
    "    # forward pass\n",
    "    net_states_hist = v_predict( [net_params, net_states, key, dropout_rate], X)\n",
    "    # out_v_mem = net_states_hist[-1][2]\n",
    "    out_v_mem = net_states_hist[-1][3][:,-1]\n",
    "    # Yhat = decoder_cum( out_v_mem )\n",
    "    Yhat = jax.nn.softmax( out_v_mem, axis=-1 )\n",
    "    # compute the loss and correct examples\n",
    "    num_correct = jnp.sum(jnp.equal(jnp.argmax(Yhat, 1), jnp.argmax(Y, 1)))\n",
    "    # cross entropy loss\n",
    "    loss_ce = -jnp.sum( jnp.sum(Y * jnp.log(Yhat+1e-12), axis=-1) )\n",
    "    # L2 norm\n",
    "    loss_l2 = optimizers.l2_norm( net_params ) * args.l2_lambda\n",
    "    # firing rate loss\n",
    "    avg_spikes_neuron = jnp.mean( jnp.stack( [ jnp.mean( jnp.sum( net_states_hist[l][3], axis=1 ), axis=(0,-1) ) for l in range( len(net_params)-1 )] ) )\n",
    "    loss_fr = args.freq_lambda * (args.target_fr - avg_spikes_neuron)**2\n",
    "    ################# ----> Do I need the spiking frequency regularizer?\n",
    "    # reg_quiet = F.relu(self.reg_fmin - firing_rates).sum()\n",
    "    # reg_burst = F.relu(firing_rates - self.reg_fmax).sum()\n",
    "    # loss_fr += self.reg_factor * (reg_quiet + reg_burst)\n",
    "    loss_total = loss_ce + loss_l2 + loss_fr\n",
    "    loss_values = [num_correct, loss_ce]\n",
    "    return loss_total, loss_values\n",
    "\n",
    "# initialize parameters\n",
    "dropout_rate = 0.0\n",
    "args.distrib_tau = False\n",
    "args.hierarchy_tau = False\n",
    "args.recurrent = False\n",
    "args.normalizer = 'none' #'layer'\n",
    "args.l2_lambda = 0.\n",
    "args.freq_lambda = 0.\n",
    "if args.recurrent:\n",
    "    layer = lif_recurrent\n",
    "    model = hrsnn_step\n",
    "    args.w_scale = [0.075, 0.05]\n",
    "else:\n",
    "    layer = lif_forward\n",
    "    model = hsnn_step\n",
    "    args.w_scale = [0.075]\n",
    "norm = BatchNorm\n",
    "args.n_layers = 2\n",
    "\n",
    "\n",
    "key = jax.random.PRNGKey(seed=args.seed)\n",
    "# load data\n",
    "x_train, Y = next(iter( train_loader_custom_collate ))\n",
    "x_test, Y_test = next(iter( test_loader_custom_collate ))\n",
    "print('Input shape: train '+ str(x_train.shape) + ' - test '+ str(x_test.shape) )\n",
    "\n",
    "net_params, net_states = params_initializer( key, args )\n",
    "\n",
    "dropout_rate = 0.0\n",
    "# testing the training function\n",
    "args_ins = [net_params, net_states, key, dropout_rate]\n",
    "args_out = scan(model, args_ins, x_train[0], length=args.nb_steps)\n",
    "[net_params_hist, net_states_hist] = args_out\n",
    "\n",
    "net_states_hist = v_predict( [net_params, net_states, key, dropout_rate], x_train )\n",
    "out_v_mem = net_states_hist[-1][2]\n",
    "\n",
    "# decoder\n",
    "Yhat = jax.nn.softmax( jnp.mean( out_v_mem, axis=1 ), axis=-1 )\n",
    "Yhat_vmax = jax.nn.softmax( jnp.max( out_v_mem, axis=1 ), axis=-1 )\n",
    "Yhat_cum = jnp.mean( jax.nn.softmax( out_v_mem, axis=-1 ), axis=1)\n",
    "print( Yhat_cum.shape )\n",
    "\n",
    "# loss\n",
    "loss_total, loss_values = loss(key, net_params, net_states, x_train, one_hot(Y, 20), 0)\n",
    "\n",
    "# values and gradients\n",
    "value, grads = value_and_grad(loss, has_aux=True, argnums=(1))(key, net_params, net_states, x_test, one_hot(Y_test,20), 0, dropout_rate=0.0)"
   ]
  },
  {
   "cell_type": "code",
   "execution_count": 14,
   "metadata": {},
   "outputs": [
    {
     "data": {
      "text/plain": [
       "(128, 100, 20)"
      ]
     },
     "execution_count": 14,
     "metadata": {},
     "output_type": "execute_result"
    }
   ],
   "source": [
    "net_states_hist[-1][3].shape"
   ]
  },
  {
   "cell_type": "code",
   "execution_count": 17,
   "metadata": {},
   "outputs": [
    {
     "data": {
      "image/png": "[encoded data removed]",
      "text/plain": [
       "<Figure size 640x480 with 1 Axes>"
      ]
     },
     "metadata": {},
     "output_type": "display_data"
    }
   ],
   "source": [
    "_ = plt.hist( grads[-1][0].flatten(), 50 )"
   ]
  },
  {
   "cell_type": "code",
   "execution_count": 18,
   "metadata": {},
   "outputs": [
    {
     "data": {
      "text/plain": [
       "array([10, 11,  7, 10,  3,  5,  0, 10, 18,  5, 16, 14, 12,  8,  0, 16, 10,\n",
       "       16, 17, 13, 19,  9,  7,  4,  6,  9,  0,  0,  9,  9,  6,  2,  3, 12,\n",
       "        8,  8,  7, 10, 12, 10, 14,  8,  6,  0, 11,  8,  7, 17,  5,  7, 13,\n",
       "       11, 18,  6, 11,  6, 15, 17, 14,  0,  1, 18, 17, 13,  0, 18, 13,  5,\n",
       "       14,  1, 10, 13, 14, 14, 10, 11,  4,  3,  7, 17,  8,  7, 14, 14,  7,\n",
       "       16,  3, 14, 15,  5, 19, 10, 16,  8, 19,  0, 19,  1,  6,  1, 18, 18,\n",
       "       13, 11, 14, 13,  4, 11,  1, 10,  6, 13,  4,  0,  2, 12, 11, 10, 18,\n",
       "        4,  1, 12, 12,  0,  4, 17, 13, 16])"
      ]
     },
     "execution_count": 18,
     "metadata": {},
     "output_type": "execute_result"
    }
   ],
   "source": [
    "Y_test"
   ]
  },
  {
   "cell_type": "code",
   "execution_count": 19,
   "metadata": {},
   "outputs": [
    {
     "name": "stdout",
     "output_type": "stream",
     "text": [
      "0.012933828 0.20086268\n",
      "-2.0012523e-09 1.3349917\n"
     ]
    }
   ],
   "source": [
    "for i in range( len(grads) ):\n",
    "    print( jnp.mean( grads[i][0] ), jnp.std( grads[i][0] ) )"
   ]
  },
  {
   "cell_type": "code",
   "execution_count": 20,
   "metadata": {},
   "outputs": [
    {
     "name": "stdout",
     "output_type": "stream",
     "text": [
      "3.2256565 0.0\n",
      "-0.048432942 0.0\n"
     ]
    }
   ],
   "source": [
    "for i in range( len(grads) ):\n",
    "    print( jnp.mean( grads[i][1] ), jnp.std( grads[i][1] ) )"
   ]
  },
  {
   "cell_type": "code",
   "execution_count": 142,
   "metadata": {},
   "outputs": [
    {
     "data": {
      "text/plain": [
       "(Array(0.09717713, dtype=float32), Array(0.14765441, dtype=float32))"
      ]
     },
     "execution_count": 142,
     "metadata": {},
     "output_type": "execute_result"
    }
   ],
   "source": [
    "jnp.mean( net_states_hist[0][3], axis=(0,1,2) ), jnp.mean( net_states_hist[1][3], axis=(0,1,2) )"
   ]
  },
  {
   "cell_type": "code",
   "execution_count": 69,
   "metadata": {},
   "outputs": [],
   "source": [
    "def train_hsnn(key, n_epochs, args, train_dl, test_dl, val_dl, param_initializer, decoder, \n",
    "                noise_start_step, noise_std, dataset_name, verbose=True):\n",
    "    \n",
    "    key, key_model = jax.random.split(key, 2)\n",
    "\n",
    "    def loss(key, net_params, net_states, X, Y, epoch, dropout_rate=0.0):\n",
    "        \"\"\" Calculates CE loss after predictions. \"\"\"\n",
    "\n",
    "        # we might want to add noise in the forward pass --> memristor-aware-training\n",
    "        # weight = [net_params[i][0] for i in range( len(net_params) )]\n",
    "        # weight = cond(\n",
    "        #     epoch >= noise_start_step, \n",
    "        #     lambda weight, key : add_noise(weight, key, noise_std),\n",
    "        #     lambda weight, key : weight,\n",
    "        #     weight, key\n",
    "        # )\n",
    "        # Forward pass throught the whole model\n",
    "        args_in = [net_params, net_states, key, dropout_rate]\n",
    "        output_layer, out_spike_net = hsnn( args_in, X )\n",
    "        Yhat = decoder( output_layer )\n",
    "        # Yhat = jax.nn.softmax( net_states_hist[-1][3][:,-1] )\n",
    "        # compute the loss and correct examples\n",
    "        num_correct = jnp.sum(jnp.equal(jnp.argmax(Yhat, 1), jnp.argmax(Y, 1)))\n",
    "        # cross entropy loss\n",
    "        loss_ce = -jnp.mean( jnp.sum(Y * jnp.log(Yhat+1e-12), axis=-1) )\n",
    "        # L2 norm\n",
    "        loss_l2 = optimizers.l2_norm( [net_params[l][0] for l in range(len(net_params))] ) * args.l2_lambda\n",
    "        # firing rate loss\n",
    "        avg_spikes_neuron = jnp.mean( jnp.stack( [ jnp.mean( jnp.sum( out_spike_net[l], axis=1 ), axis=(0,-1) ) for l in range( len(net_params)-1 )] ) )\n",
    "        loss_fr = args.freq_lambda * (args.target_fr - avg_spikes_neuron)**2\n",
    "        # Total loss\n",
    "        loss_total = loss_ce + loss_l2 + loss_fr\n",
    "        loss_values = [num_correct, loss_ce]\n",
    "        return loss_total, loss_values\n",
    " \n",
    "    @jit\n",
    "    def update(key, epoch, net_states, X, Y, opt_state, dropout_rate=0.):\n",
    "        train_params = get_params(opt_state)\n",
    "        # forward pass with gradients\n",
    "        value, grads = value_and_grad(loss, has_aux=True, argnums=(1))(key, train_params, net_states, X, Y, epoch, dropout_rate=dropout_rate)\n",
    "        # possibly disable gradients on alpha and gradient clip\n",
    "        # for g in range( len( grads )-1 ):\n",
    "        #     if len(grads[g][0]) == 1:\n",
    "        #         grads[g][0] = jnp.clip(grads[g][0], -args.grad_clip, args.grad_clip) # weight\n",
    "        #     if len(grads[g][0]) == 2:\n",
    "        #         for j in range( len(grads[g][0]) ):\n",
    "        #             grads[g][0][j] = jnp.clip(grads[g][0][j], -args.grad_clip, args.grad_clip) # weight and recurrent\n",
    "        #     grads[g][1] = jnp.clip(grads[g][1], -args.grad_clip, args.grad_clip) # alpha\n",
    "        # grads[-1][0] = jnp.clip(grads[-1][0], -args.grad_clip, args.grad_clip) # weight\n",
    "        # grads[-1][1] = jnp.clip(grads[-1][1], -args.grad_clip, args.grad_clip) # alpha\n",
    "        return grads, opt_state, value\n",
    "\n",
    "    def one_hot(x, n_class):\n",
    "        return jnp.array(x[:, None] == jnp.arange(n_class), dtype=np.float32)\n",
    "\n",
    "    def total_correct(net_params, net_states, X, Y):\n",
    "        args_in = [net_params, net_states, key, 0.]\n",
    "        output_layer, _ = hsnn( args_in, X )\n",
    "        Yhat = decoder( output_layer )\n",
    "        # Yhat = jax.nn.softmax( net_states_hist[-1][3][:,-1] )\n",
    "        acc = jnp.sum(jnp.equal(jnp.argmax(Yhat, 1), Y))\n",
    "        return acc\n",
    "\n",
    "    # LR decay\n",
    "    if args.lr_decay_every < n_epochs:\n",
    "        lr_decay = jnp.clip( args.lr_decay, 0, 1 )\n",
    "        intervals = [i*args.lr_decay_every for i in range(int(n_epochs/args.lr_decay_every)-1)]\n",
    "        lr_values = [args.lr*(lr_decay)**i for i in range(int(n_epochs/args.lr_decay_every))]\n",
    "        pw_lr = optimizers.piecewise_constant(intervals, lr_values)\n",
    "    else: pw_lr = optimizers.piecewise_constant([n_epochs], [args.lr, args.lr*jnp.clip( args.lr_decay, 1e-8, 1-1e-8 )])\n",
    "    # define the optimizer\n",
    "    opt_init, opt_update, get_params = optimizers.adam(step_size=pw_lr)\n",
    "    # opt_init, opt_update, get_params = optimizers.sgd(step_size=pw_lr)\n",
    "    # initialize the parameters (and states)\n",
    "    net_params, net_states = param_initializer( key_model, args )\n",
    "    ##############################################################################################\n",
    "    ##############################################################################################\n",
    "    ##############################################################################################\n",
    "    # import pickle\n",
    "    # # params from sparch\n",
    "    # params = pickle.load( open( '/Users/filippomoro/Desktop/params_snn_77p_numpy.pkl', 'rb' ) )\n",
    "    # for i in range( len(net_params) ):\n",
    "    #     net_params[i][0] = params[f'snn.{i}.W.weight'].T\n",
    "    #     net_params[i][1] = params[f'alpha{i}']\n",
    "    ##############################################################################################\n",
    "    ##############################################################################################\n",
    "    ##############################################################################################\n",
    "    opt_state = opt_init(net_params)\n",
    "\n",
    "\n",
    "    # Training loop\n",
    "    train_loss = []\n",
    "    train_step = 0\n",
    "    best_val_acc = 5.0; net_params_best = net_params\n",
    "    for epoch in range(n_epochs):\n",
    "        t = time.time()\n",
    "        acc = 0; count = 0\n",
    "        for batch_idx, (x, y) in enumerate(train_dl):\n",
    "            y = one_hot(y, args.n_out)\n",
    "            key, key_epoch = jax.random.split(key)\n",
    "            _, net_states = param_initializer(key=key_epoch, args=args)\n",
    "            grads, opt_state, (L, [tot_correct, _]) = update(key, epoch, net_states, x, y, opt_state, dropout_rate=args.dropout_rate)\n",
    "            # possibly remove gradient from alpha\n",
    "            if not args.train_alpha:\n",
    "                for g in range(len(grads)): grads[g][1] *= 0\n",
    "            # else: \n",
    "            #     for g in range(len(grads)): grads[g][1] *= 1\n",
    "            # weight update\n",
    "            opt_state = opt_update(epoch, grads, opt_state)\n",
    "            net_params = get_params(opt_state)\n",
    "            # clip alpha between 0 and 1\n",
    "            # if args.train_alpha:\n",
    "            #     # for g in range(len(net_params)): net_params[g][1] = jnp.clip(net_params[g][1], jnp.exp(-1/5), jnp.exp(-1/25))\n",
    "            #     for g in range(len(net_params)): net_params[g][1] = jnp.clip(net_params[g][1], 0, 1.0)\n",
    "            # append stats\n",
    "            train_loss.append(L)\n",
    "            train_step += 1\n",
    "            acc += tot_correct\n",
    "            count += x.shape[0]\n",
    "        \n",
    "        ### Training logs\n",
    "        train_acc = 100*acc/count\n",
    "        elapsed_time = time.time() - t            \n",
    "        ### Validation\n",
    "        acc_val = 0; count_val = 0\n",
    "        for batch_idx, (x, y) in enumerate(val_dl):\n",
    "            count_val += x.shape[0]\n",
    "            acc_val += total_correct(net_params, net_states, x, y)\n",
    "        val_acc = 100*acc_val/count_val\n",
    "        # save best model is validation accuracy is improved\n",
    "        if val_acc >= best_val_acc: \n",
    "            net_params_best = net_params\n",
    "            best_val_acc = val_acc\n",
    "\n",
    "        if verbose: print(f'Epoch: [{epoch+1}/{n_epochs}] - Loss: {L:.5f} - '\n",
    "              f' Training acc: {train_acc:.2f} - Validation acc: {val_acc:.2f} - t: {elapsed_time:.2f} sec')\n",
    "        # if epoch % 50 == 0:\n",
    "        #     # Save training state\n",
    "        #     trained_params = optimizers.unpack_optimizer_state(opt_state)\n",
    "        #     checkpoint_path = os.path.join('checkpoints', \"checkpoint.pkl\")\n",
    "        #     with open(checkpoint_path, \"wb\") as file:\n",
    "        #         pickle.dump(trained_params, file)\n",
    "\n",
    "    # Testing Loop\n",
    "    acc = 0; val_acc = 0; count = 0\n",
    "    if dataset_name in ['shd', 'all']:\n",
    "        for batch_idx, (x, y) in enumerate(val_dl):\n",
    "            key, key_epoch = jax.random.split(key)\n",
    "            _, net_states = param_initializer(key=key_epoch, args=args)\n",
    "            count += x.shape[0]\n",
    "            acc += total_correct(net_params_best, net_states, x, y)\n",
    "        val_acc = 100*acc/count\n",
    "        print(f'Validation Accuracy: {val_acc:.2f}')\n",
    "\n",
    "    acc = 0; test_acc = 0; count = 0\n",
    "    if dataset_name in ['shd', 'all']:\n",
    "        key, key_epoch = jax.random.split(key)\n",
    "        _, net_states = param_initializer(key=key_epoch, args=args)\n",
    "        for batch_idx, (x, y) in enumerate(test_dl):\n",
    "            count += x.shape[0]\n",
    "            acc += total_correct(net_params_best, net_states, x, y)\n",
    "        test_acc = 100*acc/count\n",
    "        print(f'Test Accuracy: {test_acc:.2f}')\n",
    "\n",
    "    return train_loss, test_acc, val_acc, net_params_best"
   ]
  },
  {
   "cell_type": "code",
   "execution_count": 74,
   "metadata": {},
   "outputs": [
    {
     "name": "stdout",
     "output_type": "stream",
     "text": [
      "Epoch: [1/10] - Loss: 2.94866 -  Training acc: 6.70 - Validation acc: 10.05 - t: 9.45 sec\n",
      "Epoch: [2/10] - Loss: 2.95215 -  Training acc: 8.92 - Validation acc: 8.58 - t: 4.70 sec\n",
      "Epoch: [3/10] - Loss: 2.86949 -  Training acc: 8.25 - Validation acc: 8.70 - t: 4.71 sec\n",
      "Epoch: [4/10] - Loss: 2.79758 -  Training acc: 8.83 - Validation acc: 9.44 - t: 4.76 sec\n",
      "Epoch: [5/10] - Loss: 2.82853 -  Training acc: 8.25 - Validation acc: 9.01 - t: 4.71 sec\n",
      "Epoch: [6/10] - Loss: 2.82970 -  Training acc: 8.61 - Validation acc: 10.05 - t: 4.73 sec\n",
      "Epoch: [7/10] - Loss: 2.89207 -  Training acc: 9.29 - Validation acc: 8.70 - t: 4.70 sec\n",
      "Epoch: [8/10] - Loss: 2.84752 -  Training acc: 9.58 - Validation acc: 9.13 - t: 4.75 sec\n",
      "Epoch: [9/10] - Loss: 2.86662 -  Training acc: 8.94 - Validation acc: 9.01 - t: 4.76 sec\n",
      "Epoch: [10/10] - Loss: 2.85017 -  Training acc: 9.15 - Validation acc: 8.88 - t: 4.72 sec\n",
      "Validation Accuracy: 10.05\n",
      "Test Accuracy: 7.60\n"
     ]
    }
   ],
   "source": [
    "args.train_alpha = False\n",
    "args.hierarchy_tau = True\n",
    "args.distrib_tau = True\n",
    "args.distrib_tau_bittar = False\n",
    "args.recurrent = False\n",
    "args.normalizer = 'batch' # 'batch' #'layer'\n",
    "args.norm_bias_init = 0.0\n",
    "if args.normalizer == 'batch': norm = BatchNorm\n",
    "elif args.normalizer == 'layer': norm = LayerNorm\n",
    "else: norm = None\n",
    "# network architecture\n",
    "if args.recurrent: \n",
    "    model = hrsnn_step\n",
    "    layer = rlif_step\n",
    "else: \n",
    "    model = hsnn_step\n",
    "    layer = lif_step\n",
    "layer_out = li_step\n",
    "args.n_layers = 4\n",
    "args.n_hid = 128\n",
    "# time constants\n",
    "args.tau_mem = 0.2 #0.1\n",
    "delta_tau = 0.1\n",
    "args.tau_end = args.tau_mem + delta_tau\n",
    "args.tau_start = args.tau_mem - delta_tau\n",
    "args.distrib_tau_sd = 0.4\n",
    "if args.recurrent: args.tau_out = 0.1\n",
    "else: args.tau_out = 0.2 #0.014*5 # 0.21 #0.01\n",
    "# weight init\n",
    "### 0.3 for FF, 0.1 for Rec\n",
    "if args.recurrent: args.w_scale = [0.075, 0.05] #[[3*np.sqrt(1/args.n_in), 2*np.sqrt(1/args.n_hid)], [2*np.sqrt(1/args.n_hid), 2*np.sqrt(1/args.n_hid)], [2*np.sqrt(1/args.n_hid), 2*np.sqrt(1/args.n_hid)] ] #[0.075, 0.05]\n",
    "else : args.w_scale = [ 1*np.sqrt(1/args.n_in), 1*np.sqrt(1/args.n_hid), 1*np.sqrt(1/args.n_hid) ] #[0.3]*args.n_layers\n",
    "# LR and regularizers\n",
    "if args.recurrent: args.lr = 0.01\n",
    "else: args.lr = 0.01\n",
    "args.lr_decay = 0.5\n",
    "args.lr_decay_every = 50\n",
    "args.l2_lambda = 0 # 1e-6\n",
    "args.freq_lambda = 0 #1e-6\n",
    "args.dropout_rate = 0.1\n",
    "n_epochs = 10\n",
    "\n",
    "train_loss, test_acc_shd, val_acc_shd, net_params_trained = train_hsnn(key = jax.random.PRNGKey(args.seed), n_epochs=n_epochs, args = args, \n",
    "                                                            train_dl = train_loader_custom_collate, test_dl = test_loader_custom_collate, val_dl=val_loader_custom_collate,\n",
    "                                                            param_initializer=params_initializer, decoder=decoder_cum,\n",
    "                                                            noise_start_step=10, noise_std=0.1, dataset_name='shd', verbose=True)"
   ]
  },
  {
   "cell_type": "code",
   "execution_count": 71,
   "metadata": {},
   "outputs": [
    {
     "name": "stdout",
     "output_type": "stream",
     "text": [
      "0.88971114\n",
      "0.89265585\n",
      "0.877461\n"
     ]
    },
    {
     "data": {
      "image/png": "[encoded data removed]",
      "text/plain": [
       "<Figure size 640x480 with 1 Axes>"
      ]
     },
     "metadata": {},
     "output_type": "display_data"
    }
   ],
   "source": [
    "for i in range(args.n_layers-1):\n",
    "    _ = plt.hist( net_params_trained[i][1], 50, alpha=0.6 )\n",
    "    print( np.mean(net_params_trained[i][1]) )"
   ]
  },
  {
   "cell_type": "code",
   "execution_count": null,
   "metadata": {},
   "outputs": [],
   "source": [
    "_ = plt.hist( net_params_trained[0][0].flatten(), 50 )\n",
    "_ = plt.hist( params[f'snn.{0}.W.weight'].T.flatten(), 50, alpha=0.5 )"
   ]
  },
  {
   "cell_type": "code",
   "execution_count": 14,
   "metadata": {},
   "outputs": [
    {
     "name": "stdout",
     "output_type": "stream",
     "text": [
      "Acc 65.94114685058594\n"
     ]
    }
   ],
   "source": [
    "key = jax.random.PRNGKey(args.seed)\n",
    "def predict(args_in, X):\n",
    "    \"\"\" Scans over time and return predictions. \"\"\"\n",
    "    # net_params, net_states = args_in\n",
    "    _, net_states_hist = scan(hsnn_step, args_in, X, length=args.nb_steps)\n",
    "    return net_states_hist\n",
    "# vmap the forward of the model\n",
    "v_predict = vmap(predict, in_axes=(None, 0))\n",
    "\n",
    "# initialize parameters\n",
    "net_params, net_states = params_initializer( jax.random.PRNGKey(args.seed), args )\n",
    "acc = 0; count =0\n",
    "for x_test, Y_test in train_loader_custom_collate :\n",
    "    net_states_hist = v_predict( [net_params_trained, net_states, key, 0.], x_test)\n",
    "    out_v_mem = net_states_hist[-1][2]\n",
    "    Yhat = decoder_vmax( out_v_mem )\n",
    "    count += x_test.shape[0]\n",
    "    acc += jnp.sum( (jnp.argmax(Yhat, axis=-1) == Y_test).astype(int) )\n",
    "acc /= count\n",
    "print(f'Acc {acc*100}')"
   ]
  },
  {
   "cell_type": "code",
   "execution_count": 15,
   "metadata": {},
   "outputs": [
    {
     "data": {
      "text/plain": [
       "Array(13.328566, dtype=float32)"
      ]
     },
     "execution_count": 15,
     "metadata": {},
     "output_type": "execute_result"
    }
   ],
   "source": [
    "jnp.mean( jnp.stack( [ jnp.mean( jnp.sum( net_states_hist[l][3], axis=1 ), axis=(0,-1) ) for l in range( len(net_params_trained)-1 )] ) )"
   ]
  },
  {
   "cell_type": "code",
   "execution_count": 16,
   "metadata": {},
   "outputs": [
    {
     "name": "stdout",
     "output_type": "stream",
     "text": [
      "Input shape: train (128, 100, 256) - test (128, 100, 256)\n"
     ]
    }
   ],
   "source": [
    "### try and do a forward pass\n",
    "# load data\n",
    "x_train, Y = next(iter( train_loader_custom_collate ))\n",
    "x_test, Y_test = next(iter( test_loader_custom_collate ))\n",
    "print('Input shape: train '+ str(x_train.shape) + ' - test '+ str(x_test.shape) )\n",
    "\n",
    "# initialize parameters\n",
    "net_params, net_states = params_initializer( key, args )\n",
    "\n",
    "net_states_hist = v_predict( [net_params_trained, net_states, key, 0.], x_test)\n",
    "out_v_mem = net_states_hist[-1][2]\n",
    "Yhat = decoder_vmax( out_v_mem )"
   ]
  },
  {
   "cell_type": "code",
   "execution_count": 12,
   "metadata": {},
   "outputs": [],
   "source": [
    "import pickle\n",
    "# params from sparch\n",
    "params = pickle.load( open( '/Users/filippomoro/Desktop/params_snn_init_numpy.pkl', 'rb' ) )\n",
    "# initialize my parameters\n",
    "net_params, net_states = params_initializer( key = jax.random.PRNGKey(args.seed), args=args )\n",
    "\n",
    "# for i in range( len(net_params) ):\n",
    "#     net_params[i][0] = params[f'snn.{i}.W.weight'].T\n",
    "#     net_params[i][1] = params[f'alpha{i}']"
   ]
  },
  {
   "cell_type": "code",
   "execution_count": 17,
   "metadata": {},
   "outputs": [
    {
     "data": {
      "text/plain": [
       "dict_keys(['snn.0.W.weight', 'alpha0', 'snn.1.W.weight', 'alpha1', 'snn.2.W.weight', 'alpha2'])"
      ]
     },
     "execution_count": 17,
     "metadata": {},
     "output_type": "execute_result"
    }
   ],
   "source": [
    "params.keys()"
   ]
  },
  {
   "cell_type": "code",
   "execution_count": 23,
   "metadata": {},
   "outputs": [
    {
     "data": {
      "image/png": "[encoded data removed]",
      "text/plain": [
       "<Figure size 640x480 with 1 Axes>"
      ]
     },
     "metadata": {},
     "output_type": "display_data"
    }
   ],
   "source": [
    "_ = plt.hist( net_params[2][1].flatten(), 50, alpha=0.5 )\n",
    "_ = plt.hist( params[f'alpha{2}'].flatten(), 50, alpha=0.5 )"
   ]
  },
  {
   "cell_type": "code",
   "execution_count": null,
   "metadata": {},
   "outputs": [],
   "source": [
    "_ = plt.hist( net_params[0][0].flatten(), 50, alpha=0.5 )\n",
    "_ = plt.hist( params[f'snn.{0}.W.weight'].flatten(), 50, alpha=0.5 )"
   ]
  },
  {
   "cell_type": "code",
   "execution_count": 114,
   "metadata": {},
   "outputs": [
    {
     "name": "stdout",
     "output_type": "stream",
     "text": [
      "(700, 128) (128,)\n",
      "(128, 128) (128,)\n",
      "(128, 20) (20,)\n"
     ]
    }
   ],
   "source": [
    "for i in range( len(net_params) ):\n",
    "    net_params[i][0] = params[f'snn.{i}.W.weight'].T\n",
    "    net_params[i][1] = params[f'alpha{i}']\n",
    "    print( params[f'snn.{i}.W.weight'].T.shape, params[f'alpha{i}'].shape )"
   ]
  },
  {
   "cell_type": "code",
   "execution_count": 109,
   "metadata": {},
   "outputs": [
    {
     "name": "stdout",
     "output_type": "stream",
     "text": [
      "Test Accuracy: 79.01943\n"
     ]
    }
   ],
   "source": [
    "@jit\n",
    "def predict(args_in, X):\n",
    "    \"\"\" Scans over time and return predictions. \"\"\"\n",
    "    _, net_states_hist = scan(model, args_in, X, length=args.nb_steps)\n",
    "    return net_states_hist\n",
    "# vmap the forward of the model\n",
    "v_predict = vmap(predict, in_axes=(None, 0))\n",
    "\n",
    "def total_correct(net_params, net_states, X, Y):\n",
    "    net_states_hist = v_predict( [net_params, net_states, key, 0.], X) # last value refers to the Dropout rate\n",
    "    # out_v_mem = net_states_hist[-1][2]\n",
    "    # Yhat = decoder( out_v_mem )\n",
    "    Yhat = jax.nn.softmax( net_states_hist[-1][3][:,-1] )\n",
    "    acc = jnp.sum(jnp.equal(jnp.argmax(Yhat, 1), Y))\n",
    "    return acc\n",
    "\n",
    "acc = 0; test_acc = 0; count = 0\n",
    "key = jax.random.PRNGKey(args.seed)\n",
    "for batch_idx, (x, y) in enumerate(test_loader_custom_collate):\n",
    "    count += x.shape[0]\n",
    "    acc += total_correct(net_params, net_states, x, y)\n",
    "test_acc = 100*acc/count\n",
    "print(f'Test Accuracy: {test_acc:.5f}')"
   ]
  },
  {
   "cell_type": "code",
   "execution_count": 80,
   "metadata": {},
   "outputs": [
    {
     "name": "stdout",
     "output_type": "stream",
     "text": [
      "Input shape: train (128, 100, 700) - test (128, 100, 700)\n",
      "(128, 20)\n"
     ]
    }
   ],
   "source": [
    "@jit\n",
    "def predict(args_in, X):\n",
    "    \"\"\" Scans over time and return predictions. \"\"\"\n",
    "    # net_params, net_states, key, dropout_rate = args_in\n",
    "    _, net_states_hist = scan(model, args_in, X, length=args.nb_steps)\n",
    "    return net_states_hist\n",
    "# vmap the forward of the model\n",
    "v_predict = vmap(predict, in_axes=(None, 0))\n",
    "\n",
    "def one_hot(x, n_class):\n",
    "    return jnp.array(x[:, None] == jnp.arange(n_class), dtype=jnp.float32)\n",
    "\n",
    "def loss(key, net_params, net_states, X, Y, epoch, dropout_rate=0.):\n",
    "    \"\"\" Calculates CE loss after predictions. \"\"\"\n",
    "\n",
    "    # we might want to add noise in the forward pass --> memristor-aware-training\n",
    "    # weight = [net_params[i][0] for i in range( len(net_params) )]\n",
    "    # weight = cond(\n",
    "    #     epoch >= noise_start_step, \n",
    "    #     lambda weight, key : add_noise(weight, key, noise_std),\n",
    "    #     lambda weight, key : weight,\n",
    "    #     weight, key\n",
    "    # )\n",
    "    # forward pass\n",
    "    net_states_hist = v_predict( [net_params, net_states, key, dropout_rate], X)\n",
    "    # out_v_mem = net_states_hist[-1][2]\n",
    "    out_v_mem = net_states_hist[-1][3][:,-1]\n",
    "    # Yhat = decoder_cum( out_v_mem )\n",
    "    Yhat = jax.nn.softmax( out_v_mem, axis=-1 )\n",
    "    # compute the loss and correct examples\n",
    "    num_correct = jnp.sum(jnp.equal(jnp.argmax(Yhat, 1), jnp.argmax(Y, 1)))\n",
    "    # cross entropy loss\n",
    "    loss_ce = -jnp.mean( jnp.sum(Y * jnp.log(Yhat+1e-12), axis=-1) )\n",
    "    # L2 norm\n",
    "    loss_l2 = optimizers.l2_norm( net_params ) * args.l2_lambda\n",
    "    # firing rate loss\n",
    "    avg_spikes_neuron = jnp.mean( jnp.stack( [ jnp.mean( jnp.sum( net_states_hist[l][3], axis=1 ), axis=(0,-1) ) for l in range( len(net_params)-1 )] ) )\n",
    "    loss_fr = args.freq_lambda * (args.target_fr - avg_spikes_neuron)**2\n",
    "    ################# ----> Do I need the spiking frequency regularizer?\n",
    "    # reg_quiet = F.relu(self.reg_fmin - firing_rates).sum()\n",
    "    # reg_burst = F.relu(firing_rates - self.reg_fmax).sum()\n",
    "    # loss_fr += self.reg_factor * (reg_quiet + reg_burst)\n",
    "    loss_total = loss_ce + loss_l2 + loss_fr\n",
    "    loss_values = [num_correct, loss_ce]\n",
    "    return loss_total, loss_values\n",
    "\n",
    "# initialize parameters\n",
    "dropout_rate = 0.0\n",
    "args.distrib_tau = False\n",
    "args.hierarchy_tau = False\n",
    "args.recurrent = False\n",
    "args.normalizer = 'none' #'layer'\n",
    "args.l2_lambda = 0.\n",
    "args.freq_lambda = 0.\n",
    "if args.recurrent:\n",
    "    layer = lif_recurrent\n",
    "    model = hrsnn_step\n",
    "    args.w_scale = [0.075, 0.05]\n",
    "else:\n",
    "    layer = lif_forward\n",
    "    model = hsnn_step\n",
    "    args.w_scale = [0.075]\n",
    "norm = BatchNorm\n",
    "args.n_layers = 3\n",
    "\n",
    "\n",
    "key = jax.random.PRNGKey(seed=args.seed)\n",
    "# load data\n",
    "x_train, Y = next(iter( train_loader_custom_collate ))\n",
    "x_test, Y_test = next(iter( test_loader_custom_collate ))\n",
    "print('Input shape: train '+ str(x_train.shape) + ' - test '+ str(x_test.shape) )\n",
    "\n",
    "_, net_states = params_initializer( key, args )\n",
    "\n",
    "dropout_rate = 0.0\n",
    "# testing the training function\n",
    "args_ins = [net_params, net_states, key, dropout_rate]\n",
    "args_out = scan(model, args_ins, x_train[0], length=args.nb_steps)\n",
    "[net_params_hist, net_states_hist] = args_out\n",
    "\n",
    "net_states_hist = v_predict( [net_params, net_states, key, dropout_rate], x_test )\n",
    "out_v_mem = net_states_hist[-1][2]\n",
    "\n",
    "# decoder\n",
    "Yhat = jax.nn.softmax( jnp.mean( out_v_mem, axis=1 ), axis=-1 )\n",
    "Yhat_vmax = jax.nn.softmax( jnp.max( out_v_mem, axis=1 ), axis=-1 )\n",
    "Yhat_cum = jnp.mean( jax.nn.softmax( out_v_mem, axis=-1 ), axis=1)\n",
    "print( Yhat_cum.shape )\n",
    "\n",
    "# loss\n",
    "loss_total, loss_values = loss(key, net_params, net_states, x_test, one_hot(Y_test, 20), 0)\n",
    "\n",
    "# values and gradients\n",
    "value, grads = value_and_grad(loss, has_aux=True, argnums=(1))(key, net_params, net_states, x_test, one_hot(Y_test,20), 0, dropout_rate=0.0)"
   ]
  },
  {
   "cell_type": "code",
   "execution_count": 81,
   "metadata": {},
   "outputs": [
    {
     "data": {
      "text/plain": [
       "Array([ 8.276392  ,  8.938479  ,  4.4812484 ,  7.7184925 ,  4.021052  ,\n",
       "        3.664058  ,  0.6440565 ,  3.4358127 ,  3.5182076 ,  4.907507  ,\n",
       "       14.740079  ,  1.8497047 ,  1.4626075 ,  4.5900016 ,  6.3239985 ,\n",
       "        6.5547924 ,  0.8976141 ,  5.580002  ,  0.68965346,  7.7062435 ],      dtype=float32)"
      ]
     },
     "execution_count": 81,
     "metadata": {},
     "output_type": "execute_result"
    }
   ],
   "source": [
    "net_states_hist[-1][3][:,-1][0]"
   ]
  },
  {
   "cell_type": "code",
   "execution_count": 82,
   "metadata": {},
   "outputs": [
    {
     "name": "stdout",
     "output_type": "stream",
     "text": [
      "-0.0001136676 0.0027103187\n",
      "4.9890332e-05 0.009270672\n",
      "-6.257324e-11 0.024859726\n"
     ]
    }
   ],
   "source": [
    "for i in range( len(grads) ):\n",
    "    print( jnp.mean( grads[i][0] ), jnp.std( grads[i][0] ) )"
   ]
  },
  {
   "cell_type": "code",
   "execution_count": 70,
   "metadata": {},
   "outputs": [
    {
     "data": {
      "text/plain": [
       "(Array(0.711745, dtype=float32),\n",
       " [Array(103, dtype=int32), Array(0.711745, dtype=float32)])"
      ]
     },
     "execution_count": 70,
     "metadata": {},
     "output_type": "execute_result"
    }
   ],
   "source": [
    "value"
   ]
  },
  {
   "cell_type": "code",
   "execution_count": 86,
   "metadata": {},
   "outputs": [
    {
     "data": {
      "text/plain": [
       "Array([-3.662955  , -1.3030419 ,  1.0605583 , -1.0207307 ,  0.713179  ,\n",
       "        0.02782269,  0.386837  ,  0.23072156,  0.5130479 ,  2.5577378 ,\n",
       "        1.4432437 ,  1.4370977 , -1.4085054 , -1.7211031 , -1.372419  ,\n",
       "        0.42121893,  0.44400537,  1.5411721 ,  0.22834672, -0.5162333 ],      dtype=float32)"
      ]
     },
     "execution_count": 86,
     "metadata": {},
     "output_type": "execute_result"
    }
   ],
   "source": [
    "grads[-1][0].sum( axis=0 )"
   ]
  },
  {
   "cell_type": "markdown",
   "metadata": {},
   "source": [
    "# Small Hyperparameter Tuning / Early Analysis\n",
    "---\n"
   ]
  },
  {
   "cell_type": "code",
   "execution_count": 9,
   "metadata": {},
   "outputs": [
    {
     "name": "stdout",
     "output_type": "stream",
     "text": [
      "-- Tau = 10.0ms\n",
      "Validation Accuracy: 72.98\n",
      "Test Accuracy: 61.75\n",
      "-- Tau = 50.0ms\n",
      "Validation Accuracy: 78.98\n",
      "Test Accuracy: 65.33\n",
      "-- Tau = 100.0ms\n",
      "Validation Accuracy: 82.23\n",
      "Test Accuracy: 69.04\n",
      "-- Tau = 200.0ms\n",
      "Validation Accuracy: 80.94\n",
      "Test Accuracy: 67.93\n",
      "-- Tau = 300.0ms\n",
      "Validation Accuracy: 86.09\n",
      "Test Accuracy: 68.02\n",
      "-- Tau = 500.0ms\n",
      "Validation Accuracy: 84.80\n",
      "Test Accuracy: 69.39\n"
     ]
    }
   ],
   "source": [
    "### Tau FF: Hidden\n",
    "args.train_alpha = False\n",
    "args.hierarchy_tau = False\n",
    "args.distrib_tau = True\n",
    "args.distrib_tau_bittar = False\n",
    "args.recurrent = False\n",
    "args.normalizer = None # 'batch' #'layer'\n",
    "args.norm_bias_init = 0.3\n",
    "if args.normalizer == 'batch': norm = BatchNorm\n",
    "elif args.normalizer == 'layer': norm = LayerNorm\n",
    "else: norm = None\n",
    "# network architecture\n",
    "if args.recurrent: model = hrsnn_step\n",
    "else: model = hsnn_step\n",
    "args.n_layers = 3\n",
    "args.n_hid = 128\n",
    "# time constants\n",
    "args.tau_mem = 0.3 #0.1\n",
    "delta_tau = 0.1\n",
    "args.tau_end = args.tau_mem + delta_tau\n",
    "args.tau_start = args.tau_mem - delta_tau\n",
    "if args.recurrent: args.tau_out = 0.1\n",
    "else: args.tau_out = 0.1 # 0.21 #0.01\n",
    "# weight init\n",
    "### 0.3 for FF, 0.1 for Rec\n",
    "if args.recurrent: args.w_scale = [0.075, 0.05]\n",
    "else : args.w_scale = [ 2*np.sqrt(1/args.n_in), 2*np.sqrt(1/args.n_hid), 2*np.sqrt(1/args.n_hid) ] #[0.3]*args.n_layers\n",
    "# LR and regularizers\n",
    "if args.recurrent: args.lr = 0.001\n",
    "else: args.lr = 0.01\n",
    "args.lr_decay = 0.5\n",
    "args.lr_decay_every = 50\n",
    "args.l2_lambda = 1e-5\n",
    "args.freq_lambda = 0 #1e-5\n",
    "args.dropout_rate = 0.1\n",
    "n_epochs = 50\n",
    "\n",
    "tau_list = [0.01, 0.05, 0.1, 0.2, 0.3, 0.5]\n",
    "test_acc_shd_list, val_acc_shd_list = [], []\n",
    "for t, tau in enumerate( tau_list ):\n",
    "    args.tau_mem = tau\n",
    "    print(f'-- Tau = {tau*1e3}ms')\n",
    "    train_loss, test_acc_shd, val_acc_shd, net_params_trained = train_mosaic(key = jax.random.PRNGKey(args.seed), n_batch=args.batch_size, n_epochs=n_epochs, args = args, lr = args.lr, \n",
    "                                                            train_dl = train_loader_custom_collate, test_dl = test_loader_custom_collate, val_dl=val_loader_custom_collate,\n",
    "                                                            model=model, param_initializer=params_initializer, decoder=decoder_sum,\n",
    "                                                            noise_start_step=10, noise_std=0.1, dataset_name='shd', verbose=False)\n",
    "    test_acc_shd_list.append( test_acc_shd ), val_acc_shd_list.append( val_acc_shd )\n",
    "    "
   ]
  },
  {
   "cell_type": "code",
   "execution_count": 10,
   "metadata": {},
   "outputs": [
    {
     "data": {
      "image/png": "[encoded data removed]",
      "text/plain": [
       "<Figure size 640x480 with 1 Axes>"
      ]
     },
     "metadata": {},
     "output_type": "display_data"
    }
   ],
   "source": [
    "fig, ax = plt.subplots()\n",
    "tau_list = [0.01, 0.05, 0.1, 0.2, 0.3, 0.5]\n",
    "ax.plot( np.array(tau_list)*1e3, test_acc_shd_list, marker='o', color='tab:green', lw=2, markersize=12 )\n",
    "ax.set_xlabel( 'Hidden Neuron Time Constant [ms]', size=14 )\n",
    "ax.set_ylabel( 'SHD Test accuracy [%]', size=14 )\n",
    "ax.tick_params( labelsize=14 )\n",
    "ax.grid(True)"
   ]
  },
  {
   "cell_type": "code",
   "execution_count": 17,
   "metadata": {},
   "outputs": [
    {
     "name": "stdout",
     "output_type": "stream",
     "text": [
      "-- Tau = 1.0ms\n",
      "SHD Validation Accuracy: 85.85\n",
      "SHD Test Accuracy: 68.15\n",
      "-- Tau = 10.0ms\n",
      "SHD Validation Accuracy: 84.01\n",
      "SHD Test Accuracy: 70.67\n",
      "-- Tau = 50.0ms\n",
      "SHD Validation Accuracy: 83.33\n",
      "SHD Test Accuracy: 64.58\n",
      "-- Tau = 100.0ms\n",
      "SHD Validation Accuracy: 68.69\n",
      "SHD Test Accuracy: 60.69\n",
      "-- Tau = 250.0ms\n",
      "SHD Validation Accuracy: 38.42\n",
      "SHD Test Accuracy: 35.78\n"
     ]
    }
   ],
   "source": [
    "### Tau FF: output\n",
    "args.train_alpha = False\n",
    "args.hierarchy_tau = False\n",
    "args.distrib_tau = False\n",
    "args.recurrent = False\n",
    "# network architecture\n",
    "if args.recurrent: model = hrsnn_step\n",
    "else: model = hsnn_step\n",
    "args.n_layers = 3\n",
    "args.n_hid = 128\n",
    "# time constants\n",
    "args.tau_mem = 0.25 #0.1\n",
    "args.tau_out = 0.01\n",
    "# weight init\n",
    "### 0.3 for FF, 0.1 for Rec\n",
    "if args.recurrent: args.w_scale = 0.1\n",
    "else : args.w_scale = 0.3\n",
    "# LR and regularizers\n",
    "args.lr = 0.01\n",
    "args.lr_decay = 0.5\n",
    "args.lr_decay_every = 50\n",
    "args.l2_lambda = 5e-5\n",
    "args.freq_lambda = 5e-5\n",
    "args.dropout_rate = 0.1\n",
    "n_epochs = 50\n",
    "\n",
    "tau_list = [0.001, 0.01, 0.05, 0.1, 0.25]\n",
    "test_acc_shd_list, val_acc_shd_list = [], []\n",
    "for t, tau in enumerate( tau_list ):\n",
    "    args.tau_out = tau\n",
    "    print(f'-- Tau = {tau*1e3}ms')\n",
    "    _, test_acc_shd, test_acc_ssc, val_acc_shd, _ = train_mosaic(key = jax.random.PRNGKey(args.seed), n_batch=args.batch_size, n_epochs=n_epochs, args = args, lr = args.lr, \n",
    "                                    train_dl = train_loader_custom_collate, test_dl = test_loader_custom_collate, val_dl=val_loader_custom_collate,\n",
    "                                    model=model, param_initializer=params_initializer, decoder=decoder_sum,\n",
    "                                    noise_start_step=10, noise_std=0.1, dataset_name='shd', verbose=False)\n",
    "    test_acc_shd_list.append( test_acc_shd ), val_acc_shd_list.append( val_acc_shd )\n",
    "    "
   ]
  },
  {
   "cell_type": "code",
   "execution_count": 18,
   "metadata": {},
   "outputs": [
    {
     "data": {
      "image/png": "[encoded data removed]",
      "text/plain": [
       "<Figure size 640x480 with 1 Axes>"
      ]
     },
     "metadata": {},
     "output_type": "display_data"
    }
   ],
   "source": [
    "fig, ax = plt.subplots()\n",
    "tau_list = [0.001, 0.01, 0.05, 0.1, 0.25]\n",
    "ax.plot( np.array(tau_list)*1e3, test_acc_shd_list, marker='o', color='tab:green', lw=2, markersize=12 )\n",
    "ax.set_xlabel( 'Output Neuron Time Constant [ms]', size=14 )\n",
    "ax.set_ylabel( 'SHD Test accuracy [%]', size=14 )\n",
    "ax.tick_params( labelsize=14 )\n",
    "ax.grid(True)"
   ]
  },
  {
   "cell_type": "code",
   "execution_count": 13,
   "metadata": {},
   "outputs": [
    {
     "name": "stdout",
     "output_type": "stream",
     "text": [
      "-- Delta Tau = 10.0ms\n",
      "Validation Accuracy: 84.31\n",
      "Test Accuracy: 68.82\n",
      "-- Delta Tau = 50.0ms\n",
      "Validation Accuracy: 83.09\n",
      "Test Accuracy: 69.52\n",
      "-- Delta Tau = 100.0ms\n",
      "Validation Accuracy: 82.05\n",
      "Test Accuracy: 67.09\n",
      "-- Delta Tau = 200.0ms\n",
      "Validation Accuracy: 83.21\n",
      "Test Accuracy: 70.14\n"
     ]
    }
   ],
   "source": [
    "# Effect of Tau FF Hierarchy\n",
    "\n",
    "### Tau FF: Hidden\n",
    "args.train_alpha = False\n",
    "args.hierarchy_tau = False\n",
    "args.distrib_tau = True\n",
    "args.distrib_tau_bittar = False\n",
    "args.recurrent = False\n",
    "args.normalizer = None # 'batch' #'layer'\n",
    "args.norm_bias_init = 0.3\n",
    "if args.normalizer == 'batch': norm = BatchNorm\n",
    "elif args.normalizer == 'layer': norm = LayerNorm\n",
    "else: norm = None\n",
    "# network architecture\n",
    "if args.recurrent: model = hrsnn_step\n",
    "else: model = hsnn_step\n",
    "args.n_layers = 3\n",
    "args.n_hid = 128\n",
    "# time constants\n",
    "args.tau_mem = 0.1 #0.1\n",
    "delta_tau = 0.1\n",
    "args.tau_end = args.tau_mem + delta_tau\n",
    "args.tau_start = args.tau_mem - delta_tau\n",
    "if args.recurrent: args.tau_out = 0.1\n",
    "else: args.tau_out = 0.1 # 0.21 #0.01\n",
    "# weight init\n",
    "### 0.3 for FF, 0.1 for Rec\n",
    "if args.recurrent: args.w_scale = [0.075, 0.05]\n",
    "else : args.w_scale = [ np.sqrt(1/args.n_in), np.sqrt(1/args.n_hid), np.sqrt(1/args.n_hid) ] #[0.3]*args.n_layers\n",
    "# LR and regularizers\n",
    "if args.recurrent: args.lr = 0.001\n",
    "else: args.lr = 0.01\n",
    "args.lr_decay = 0.5\n",
    "args.lr_decay_every = 50\n",
    "args.l2_lambda = 1e-5\n",
    "args.freq_lambda = 0 #1e-5\n",
    "args.dropout_rate = 0.1\n",
    "n_epochs = 50\n",
    "\n",
    "tau_list = [0.01, 0.05, 0.1, 0.2]\n",
    "test_acc_shd_list, val_acc_shd_list = [], []\n",
    "for t, tau in enumerate( tau_list ):\n",
    "    args.tau_end = args.tau_mem + tau\n",
    "    args.tau_start = args.tau_mem - tau\n",
    "    print(f'-- Delta Tau = {tau*1e3}ms')\n",
    "    train_loss, test_acc_shd, val_acc_shd, net_params_trained = train_mosaic(key = jax.random.PRNGKey(args.seed), n_batch=args.batch_size, n_epochs=n_epochs, args = args, lr = args.lr, \n",
    "                                                            train_dl = train_loader_custom_collate, test_dl = test_loader_custom_collate, val_dl=val_loader_custom_collate,\n",
    "                                                            model=model, param_initializer=params_initializer, decoder=decoder_sum,\n",
    "                                                            noise_start_step=10, noise_std=0.1, dataset_name='shd', verbose=False)\n",
    "    test_acc_shd_list.append( test_acc_shd ), val_acc_shd_list.append( val_acc_shd )\n",
    "    "
   ]
  },
  {
   "cell_type": "code",
   "execution_count": 12,
   "metadata": {},
   "outputs": [
    {
     "data": {
      "image/png": "[encoded data removed]",
      "text/plain": [
       "<Figure size 640x480 with 1 Axes>"
      ]
     },
     "metadata": {},
     "output_type": "display_data"
    }
   ],
   "source": [
    "fig, ax = plt.subplots()\n",
    "tau_list = [0.01, 0.05, 0.1, 0.2]\n",
    "ax.plot( np.array(tau_list)*1e3, test_acc_shd_list, marker='o', color='tab:green', lw=2, markersize=12 )\n",
    "ax.set_xlabel( 'Time constant difference between layers [ms]', size=14 )\n",
    "ax.set_ylabel( 'SHD Test accuracy [%]', size=14 )\n",
    "ax.tick_params( labelsize=14 )\n",
    "ax.grid(True)"
   ]
  }
 ],
 "metadata": {
  "kernelspec": {
   "display_name": "denram",
   "language": "python",
   "name": "python3"
  },
  "language_info": {
   "codemirror_mode": {
    "name": "ipython",
    "version": 3
   },
   "file_extension": ".py",
   "mimetype": "text/x-python",
   "name": "python",
   "nbconvert_exporter": "python",
   "pygments_lexer": "ipython3",
   "version": "3.10.9"
  }
 },
 "nbformat": 4,
 "nbformat_minor": 2
}
