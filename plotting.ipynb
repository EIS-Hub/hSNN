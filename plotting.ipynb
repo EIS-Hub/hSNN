{
 "cells": [
  {
   "cell_type": "code",
   "execution_count": null,
   "metadata": {},
   "outputs": [],
   "source": [
    "import os\n",
    "import time\n",
    "import random\n",
    "import numpy as np\n",
    "import matplotlib.pyplot as plt"
   ]
  },
  {
   "cell_type": "markdown",
   "metadata": {},
   "source": [
    "# Figure 2\n",
    "---\n",
    "#### This Figure aims to show the efffect of Hierarchy on a simple SNN with LIF neurons on the SHD task.\n",
    "\n",
    "##### First, the optimal operating point as far as time constant is found on a conventional SNN. \n",
    "##### Then, hierarchy is imposed on the SNN without and with recurrent connections. \n",
    "##### At last, the number of layer is swept to show the effect of making the network deeper."
   ]
  },
  {
   "cell_type": "markdown",
   "metadata": {},
   "source": [
    "- No Hierarchy, what is the best Time Constant for a 4 layers network?"
   ]
  },
  {
   "cell_type": "code",
   "execution_count": null,
   "metadata": {},
   "outputs": [],
   "source": [
    "### time constant\n",
    "# load file\n",
    "import os\n",
    "import numpy as np\n",
    "import pandas as pd\n",
    "import matplotlib.pyplot as plt\n",
    "file_dir = '/Users/filippomoro/Documents/hsnn/results'\n",
    "file_name = os.path.join( file_dir, 'Sweep_tau_mem_wandb_export_2024-03-25T09_22_38.384+01_00.csv' )\n",
    "df = pd.read_csv( file_name, delimiter=',' )\n",
    "\n",
    "tau_mem_list = np.sort( list( set( list(df['tau_mem'] ) ) ) )"
   ]
  },
  {
   "cell_type": "code",
   "execution_count": null,
   "metadata": {},
   "outputs": [],
   "source": [
    "### time constant sweep\n",
    "# load file\n",
    "import os\n",
    "import numpy as np\n",
    "import pandas as pd\n",
    "import matplotlib.pyplot as plt\n",
    "file_dir = '/Users/filippomoro/Documents/hsnn/results'\n",
    "file_name = os.path.join( file_dir, 'Sweep_tau_mem_wandb_export_2024-03-25T09_22_38.384+01_00.csv' )\n",
    "df = pd.read_csv( file_name, delimiter=',' )\n",
    "\n",
    "tau_mem_list = np.sort( list( set( list(df['tau_mem'] ) ) ) )[:-1]\n",
    "# With Heterogeneity of Time constant\n",
    "mean_acc_tau_mem = np.array( [ df['Test Acc'][df['tau_mem']==tau][df['distrib_tau']==True].mean() for tau in tau_mem_list] )\n",
    "max_acc_tau_mem = np.array( [ df['Test Acc'][df['tau_mem']==tau][df['distrib_tau']==True].quantile(0.85) for tau in tau_mem_list] )\n",
    "min_acc_tau_mem = np.array( [ df['Test Acc'][df['tau_mem']==tau][df['distrib_tau']==True].quantile(0.15) for tau in tau_mem_list] )\n",
    "# With Homogeneity of Time constant\n",
    "mean_acc_tau_mem_hom = np.array( [ df['Test Acc'][df['tau_mem']==tau][df['distrib_tau']==False].mean() for tau in tau_mem_list] )\n",
    "max_acc_tau_mem_hom = np.array( [ df['Test Acc'][df['tau_mem']==tau][df['distrib_tau']==False].quantile(0.85) for tau in tau_mem_list] )\n",
    "min_acc_tau_mem_hom = np.array( [ df['Test Acc'][df['tau_mem']==tau][df['distrib_tau']==False].quantile(0.15) for tau in tau_mem_list] )\n",
    "\n",
    "fig, ax = plt.subplots( figsize=(6,4) )\n",
    "# With Heterogeneity of Time constant\n",
    "# ax.plot( tau_mem_list*1e3, mean_acc_tau_mem, color='k', marker='o', ms=9, label=r'Heterogeneous $\\tau$' )\n",
    "# ax.fill_between( tau_mem_list*1e3, min_acc_tau_mem, max_acc_tau_mem, color='k', alpha=0.2 )\n",
    "yerr_list = [mean_acc_tau_mem-min_acc_tau_mem, max_acc_tau_mem-mean_acc_tau_mem]\n",
    "hierarchy_plot = ax.errorbar( tau_mem_list*1e3, mean_acc_tau_mem, yerr=yerr_list,\n",
    "                color='k', marker='o', ms=9, \n",
    "                label=r'Heterogeneous $\\tau$')\n",
    "# With Homogeneity of Time constant\n",
    "# ax.plot( tau_mem_list*1e3, mean_acc_tau_mem_hom, color='gray', marker='^', ms=9, label=r'Homogeneous $\\tau$' )\n",
    "# ax.fill_between( tau_mem_list*1e3, min_acc_tau_mem_hom, max_acc_tau_mem_hom, color='gray', alpha=0.1 )\n",
    "yerr_list = [mean_acc_tau_mem_hom-min_acc_tau_mem_hom, max_acc_tau_mem_hom-mean_acc_tau_mem_hom]\n",
    "hierarchy_plot = ax.errorbar( tau_mem_list*1e3, mean_acc_tau_mem_hom, yerr=yerr_list,\n",
    "                color='gray', marker='o', ms=9, \n",
    "                label=r'Homogeneous $\\tau$')\n",
    "# plot setting\n",
    "ax.set_xlabel('Time Constant [ms]', size=15); ax.set_ylabel('Accuracy [%]', size=15)\n",
    "ax.tick_params( direction='in', labelsize=12 )\n",
    "ax.legend(prop={'size':14})\n",
    "ax.grid(alpha=0.3)\n",
    "plt.tight_layout()\n",
    "fig.savefig( os.path.join( os.getcwd(), 'results/Tau_mem_sweep.pdf' ), dpi=300, transparent=True )"
   ]
  },
  {
   "cell_type": "markdown",
   "metadata": {},
   "source": [
    "- Sweeping the Time Constant Hierarchy"
   ]
  },
  {
   "cell_type": "code",
   "execution_count": null,
   "metadata": {},
   "outputs": [],
   "source": [
    "### delta tau --> hierarchical\n",
    "# load file\n",
    "import os\n",
    "import numpy as np\n",
    "import pandas as pd\n",
    "import matplotlib.pyplot as plt\n",
    "file_dir = '/Users/filippomoro/Documents/hsnn/results'\n",
    "file_name = os.path.join( file_dir, 'Sweep_delta_tau_wandb_export_2024-03-25T09_21_13.935+01_00.csv' ) # Sweep_delta_tau_wandb_export_2024-03-25T09_21_13.935+01_00\n",
    "df = pd.read_csv( file_name, delimiter=',' )\n",
    "\n",
    "delta_tau_list = np.sort( list( set( list(df['delta_tau'] ) ) ) )\n",
    "# delete two unnecessary datapoints\n",
    "delta_tau_list = np.delete( delta_tau_list, delta_tau_list==0.001 )\n",
    "delta_tau_list = np.delete( delta_tau_list, delta_tau_list==-0.001 )\n",
    "# Heterogeneity\n",
    "mean_acc_delta_tau = np.array( [ df['Test Acc'][df['delta_tau']==tau][df['distrib_tau']==True].mean() for tau in delta_tau_list] )\n",
    "max_acc_delta_tau = np.array( [ df['Test Acc'][df['delta_tau']==tau][df['distrib_tau']==True].quantile(0.85) for tau in delta_tau_list] )\n",
    "min_acc_delta_tau = np.array( [ df['Test Acc'][df['delta_tau']==tau][df['distrib_tau']==True].quantile(0.15) for tau in delta_tau_list] )\n",
    "# Homogeneity\n",
    "mean_acc_delta_tau_hom = np.array( [ df['Test Acc'][df['delta_tau']==tau][df['distrib_tau']==False].mean() for tau in delta_tau_list] )\n",
    "max_acc_delta_tau_hom = np.array( [ df['Test Acc'][df['delta_tau']==tau][df['distrib_tau']==False].quantile(0.85) for tau in delta_tau_list] )\n",
    "min_acc_delta_tau_hom = np.array( [ df['Test Acc'][df['delta_tau']==tau][df['distrib_tau']==False].quantile(0.15) for tau in delta_tau_list] )\n",
    "\n",
    "fig, ax = plt.subplots( figsize=(6,3.5) )\n",
    "# Heterogeneity\n",
    "# ax.plot( delta_tau_list*1e3, mean_acc_delta_tau, color='darkgreen', marker='o', ms=10, label=r'Heterogeneity $\\tau$' )\n",
    "# ax.fill_between( delta_tau_list*1e3, min_acc_delta_tau, max_acc_delta_tau, color='tab:green', alpha=0.2 )\n",
    "yerr_list = [mean_acc_delta_tau-min_acc_delta_tau, max_acc_delta_tau-mean_acc_delta_tau]\n",
    "hierarchy_plot = ax.errorbar( delta_tau_list*1e3, mean_acc_delta_tau, yerr=yerr_list, \n",
    "                color='darkgreen', marker='o', ms=9, \n",
    "                label=r'Hierarchy + Heterogeneity')\n",
    "# Homogeneity\n",
    "# ax.plot( delta_tau_list*1e3, mean_acc_delta_tau_hom, color='tab:blue', marker='o', ms=10, label=r'Homogeneous $\\tau$' )\n",
    "# ax.fill_between( delta_tau_list*1e3, min_acc_delta_tau_hom, max_acc_delta_tau_hom, color='tab:blue', alpha=0.2 )\n",
    "yerr_list = [mean_acc_delta_tau_hom-min_acc_delta_tau_hom, max_acc_delta_tau_hom-mean_acc_delta_tau_hom]\n",
    "hierarchy_plot = ax.errorbar( delta_tau_list*1e3, mean_acc_delta_tau_hom, yerr=yerr_list, \n",
    "                color='tab:blue', marker='^', ms=9,\n",
    "                label=r'Hierarchy')\n",
    "\n",
    "ax.set_xlabel('Time Constant difference across layers [ms]', size=15); ax.set_ylabel('Accuracy [%]', size=15)\n",
    "ax.tick_params( direction='in', labelsize=12 )\n",
    "ax.legend(prop={'size':14}, loc=2)\n",
    "ax.grid(alpha=0.3)\n",
    "plt.tight_layout()\n",
    "fig.savefig( os.path.join( os.getcwd(), 'results/Delta_tau_sweep.pdf' ), dpi=300, transparent=True )"
   ]
  },
  {
   "cell_type": "markdown",
   "metadata": {},
   "source": [
    "- Sweeping the number of layers"
   ]
  },
  {
   "cell_type": "code",
   "execution_count": null,
   "metadata": {},
   "outputs": [],
   "source": [
    "### Number of Layers\n",
    "# load file\n",
    "import os\n",
    "import numpy as np\n",
    "import pandas as pd\n",
    "import matplotlib.pyplot as plt\n",
    "from matplotlib import pyplot\n",
    "file_dir = '/Users/filippomoro/Documents/hsnn/results'\n",
    "file_name = os.path.join( file_dir, 'Sweep_N_layers_train_alpha_False_wandb_export_2024-03-25T11_34_57.357+01_00.csv' )\n",
    "df = pd.read_csv( file_name, delimiter=',' )\n",
    "\n",
    "fig, ax = plt.subplots( figsize=(6,4.5) )\n",
    "n_layers_list = np.sort( list( set( list(df['n_layers'] ) ) ) )\n",
    "n_hid_list = np.sort( list( set( list(df['n_hid'] ) ) ) )\n",
    "# delete unnecessary datapoints\n",
    "n_hid_list = np.delete( n_hid_list, n_hid_list==256 )\n",
    "n_hid_list = np.delete( n_hid_list, n_hid_list==512 )\n",
    "# list of markers\n",
    "marker_list = ['o', '^', 's', '*', 'X', '+']\n",
    "# list of colors\n",
    "cmap_green = plt.get_cmap('Greens')\n",
    "cmap_blues = plt.get_cmap('Grays')\n",
    "plots_hierarchy, plots_hetero = [], []\n",
    "for h, n_hid in enumerate(n_hid_list):\n",
    "    # Heterogeneity\n",
    "    mean_acc_n_layers = np.array( [ df['Test Acc'][df['n_layers']==tau][df['hierarchy_tau']==True][df['n_hid']==n_hid].mean() for tau in n_layers_list] )\n",
    "    max_acc_n_layers  = np.array( [ df['Test Acc'][df['n_layers']==tau][df['hierarchy_tau']==True][df['n_hid']==n_hid].quantile(0.85) for tau in n_layers_list] )\n",
    "    min_acc_n_layers  = np.array( [ df['Test Acc'][df['n_layers']==tau][df['hierarchy_tau']==True][df['n_hid']==n_hid].quantile(0.15) for tau in n_layers_list] )\n",
    "    # Homogeneity\n",
    "    mean_acc_n_layers_hom = np.array( [ df['Test Acc'][df['n_layers']==tau][df['hierarchy_tau']==False][df['n_hid']==n_hid].mean() for tau in n_layers_list] )\n",
    "    max_acc_n_layers_hom  = np.array( [ df['Test Acc'][df['n_layers']==tau][df['hierarchy_tau']==False][df['n_hid']==n_hid].quantile(0.85) for tau in n_layers_list] )\n",
    "    min_acc_n_layers_hom  = np.array( [ df['Test Acc'][df['n_layers']==tau][df['hierarchy_tau']==False][df['n_hid']==n_hid].quantile(0.15) for tau in n_layers_list] )\n",
    "\n",
    "    # Heterogeneity\n",
    "    # ax.plot( n_layers_list, mean_acc_n_layers, color=cmap_green(int(128+128*h/len(n_hid_list))), marker=marker_list[h], ms=8, label=r'Hierarchy $\\tau$ H:'+str(n_hid) )\n",
    "    # ax.fill_between( n_layers_list, min_acc_n_layers, max_acc_n_layers, color='tab:green', alpha=0.0 )\n",
    "    yerr_list = [mean_acc_n_layers-min_acc_n_layers, max_acc_n_layers-mean_acc_n_layers]\n",
    "    hierarchy_plot = ax.errorbar( n_layers_list, mean_acc_n_layers, yerr=yerr_list, \n",
    "                 color=cmap_green(int(128+128*h/len(n_hid_list))), \n",
    "                 marker=marker_list[h], ms=8, \n",
    "                 label=r'Hierarchy $\\tau$ H:'+str(n_hid))\n",
    "    plots_hierarchy.append( hierarchy_plot )\n",
    "    # Homogeneity\n",
    "    yerr_list = [mean_acc_n_layers_hom-min_acc_n_layers_hom, max_acc_n_layers_hom-mean_acc_n_layers_hom]\n",
    "    # ax.plot( n_layers_list, mean_acc_n_layers_hom, color=cmap_blues(int(128+128*h/len(n_hid_list))), marker=marker_list[h], ms=8, label=r'Heterogeneity $\\tau$ H:'+str(n_hid) )\n",
    "    # ax.fill_between( n_layers_list, min_acc_n_layers_hom, max_acc_n_layers_hom, color='tab:blue', alpha=0.0 )\n",
    "    heterogeneous_plot = ax.errorbar( n_layers_list, mean_acc_n_layers_hom, yerr=yerr_list, \n",
    "                 color=cmap_blues(int(128+128*h/len(n_hid_list))), \n",
    "                 marker=marker_list[h], ms=8, \n",
    "                 label=r'Hierarchy $\\tau$ H:'+str(n_hid))\n",
    "    plots_hetero.append( heterogeneous_plot )\n",
    "\n",
    "ax.set_xlabel('Number of hidden layers', size=15); ax.set_ylabel('SHD Accuracy [%]', size=15)\n",
    "ax.set_xticks( n_layers_list, n_layers_list-1 )\n",
    "ax.tick_params( direction='in', labelsize=14 )\n",
    "# legend\n",
    "legend1 = ax.legend(prop={'size':11}, loc=2, handles=[plots_hierarchy[-1], plots_hetero[-1]], labels=['Hierarchy+Heterogeneity', 'Heterogeneity'])\n",
    "legend2 = ax.legend(prop={'size':11}, loc=4, handles=plots_hetero, labels=['Hidden size: '+str(n_hid) for n_hid in n_hid_list])\n",
    "pyplot.gca().add_artist(legend1)\n",
    "ax.grid(alpha=0.4)\n",
    "plt.tight_layout()\n",
    "fig.savefig( os.path.join( os.getcwd(), 'results/Sweep_n_layers.pdf' ), dpi=300, transparent=True )"
   ]
  },
  {
   "cell_type": "markdown",
   "metadata": {},
   "source": [
    "# Figure 3\n",
    "---\n",
    "#### This Figure serves as an analysis on \"why\" and \"how\" hierarchy of time constant helps the model performance.\n",
    "\n",
    "##### First, we look at the activity of simple SNN models with and without hierarchy. \n",
    "##### Then, time constants are optimized starting from scratch, observing hierarchy and heterogeneity naturally emerge."
   ]
  },
  {
   "cell_type": "code",
   "execution_count": null,
   "metadata": {},
   "outputs": [],
   "source": []
  },
  {
   "cell_type": "markdown",
   "metadata": {},
   "source": [
    "# Figure 4\n",
    "---\n",
    "#### This Figure explores the performance of temporal convolutions based SNN\n",
    "\n",
    "##### First, a simple cSNN is optimized as a function of the kernel size, that being the same throughout layers.\n",
    "##### Then, differences in kernel size is imposed based on hierarchy, looking at the performance."
   ]
  },
  {
   "cell_type": "code",
   "execution_count": null,
   "metadata": {},
   "outputs": [],
   "source": []
  }
 ],
 "metadata": {
  "kernelspec": {
   "display_name": "denram",
   "language": "python",
   "name": "python3"
  },
  "language_info": {
   "codemirror_mode": {
    "name": "ipython",
    "version": 3
   },
   "file_extension": ".py",
   "mimetype": "text/x-python",
   "name": "python",
   "nbconvert_exporter": "python",
   "pygments_lexer": "ipython3",
   "version": "3.9.18"
  }
 },
 "nbformat": 4,
 "nbformat_minor": 2
}
