{
 "cells": [
  {
   "cell_type": "markdown",
   "metadata": {},
   "source": [
    "# Hierarchy discovered by optimization (Figure 3)\n",
    "---\n",
    "here we run a set of two experiments where we train the time constants of SNNs to verify that optimization results in Hierarchy of Time Constants"
   ]
  },
  {
   "cell_type": "code",
   "execution_count": 1,
   "metadata": {},
   "outputs": [
    {
     "name": "stderr",
     "output_type": "stream",
     "text": [
      "WARNING: All log messages before absl::InitializeLog() is called are written to STDERR\n",
      "I0000 00:00:1725209632.414060       1 tfrt_cpu_pjrt_client.cc:349] TfrtCpuClient created.\n"
     ]
    },
    {
     "data": {
      "text/plain": [
       "[CpuDevice(id=0)]"
      ]
     },
     "execution_count": 1,
     "metadata": {},
     "output_type": "execute_result"
    }
   ],
   "source": [
    "import jax\n",
    "import jax.numpy as jnp\n",
    "from jax.example_libraries import optimizers\n",
    "\n",
    "import matplotlib.pyplot as plt\n",
    "import numpy as np\n",
    "import os\n",
    "import time\n",
    "import random\n",
    "\n",
    "from jax import vmap, jit, value_and_grad, local_device_count\n",
    "from jax.example_libraries import optimizers\n",
    "from jax.lax import scan, cond\n",
    "import pickle\n",
    "\n",
    "os.environ[\"XLA_PYTHON_CLIENT_MEM_FRACTION\"]=\".25\" # needed because network is huge\n",
    "os.environ[\"CUDA_VISIBLE_DEVICES\"]=\"2\"\n",
    "jax.devices()"
   ]
  },
  {
   "cell_type": "code",
   "execution_count": 2,
   "metadata": {},
   "outputs": [],
   "source": [
    "from models import *\n",
    "from utils_initialization import *\n",
    "from training import *"
   ]
  },
  {
   "cell_type": "markdown",
   "metadata": {},
   "source": [
    "### SHD - time constant hierarchy emerging from training"
   ]
  },
  {
   "cell_type": "code",
   "execution_count": 3,
   "metadata": {},
   "outputs": [
    {
     "name": "stdout",
     "output_type": "stream",
     "text": [
      "-- Seed 0\n",
      "Train DL size: 6524, Validation DL size: 1632, Test DL size: 2264\n",
      "Validation Accuracy: 93.68\n",
      "Test Accuracy: 84.79\n",
      "-- Seed 1\n",
      "Train DL size: 6524, Validation DL size: 1632, Test DL size: 2264\n",
      "Validation Accuracy: 92.34\n",
      "Test Accuracy: 82.87\n",
      "-- Seed 2\n",
      "Train DL size: 6524, Validation DL size: 1632, Test DL size: 2264\n",
      "Validation Accuracy: 91.89\n",
      "Test Accuracy: 83.97\n",
      "-- Seed 3\n",
      "Train DL size: 6524, Validation DL size: 1632, Test DL size: 2264\n",
      "Validation Accuracy: 95.57\n",
      "Test Accuracy: 82.94\n",
      "-- Seed 4\n",
      "Train DL size: 6524, Validation DL size: 1632, Test DL size: 2264\n",
      "Validation Accuracy: 92.45\n",
      "Test Accuracy: 79.30\n"
     ]
    }
   ],
   "source": [
    "# Hyperparameter setting\n",
    "args.train_alpha = True\n",
    "args.hierarchy_tau = False\n",
    "args.distrib_tau = 'normal'\n",
    "args.recurrent = False\n",
    "args.n_layers = 6\n",
    "args.n_hid = 32\n",
    "# time constants\n",
    "args.tau_mem = 0.1\n",
    "args.delta_tau = 0.0\n",
    "args.distrib_tau_sd = 0.1\n",
    "# LR and regularizers\n",
    "args.l2_alpha_sd = 1e-1\n",
    "args.n_epochs = 40\n",
    "args.dataset_name = 'shd'\n",
    "args.decoder = 'cum'\n",
    "args.n_out = 20 if args.dataset_name == 'shd' else 35  # output channels\n",
    "args.verbose = False\n",
    "\n",
    "\n",
    "# pick 5 seeds and store the initial time constant\n",
    "seeds = [0,1,2,3,4]\n",
    "\n",
    "time_const_init_list, time_const_train_list = [], []\n",
    "test_accs = []\n",
    "for s in seeds:\n",
    "    print('-- Seed '+str(s))\n",
    "    args.seed = s\n",
    "    key = jax.random.PRNGKey(args.seed)\n",
    "    net_params, _ = params_initializer( key=key, args=args )\n",
    "    time_const_init_list.append( [net_params[i][1] for i in range(len(net_params)-1)] )\n",
    "\n",
    "    # Training and collecting the time constants\n",
    "    train_loss, test_acc, val_acc, net_params_train = train_hsnn( args = args, wandb_flag=False )\n",
    "    test_accs.append( test_acc )\n",
    "    time_const_train_list.append( [net_params_train[i][1] for i in range(len(net_params_train)-1)] )\n",
    "\n",
    "import pickle\n",
    "dict_tau_F2 = {\n",
    "    'args' : args, 'seeds' : seeds,\n",
    "    'time_const_init_list' :time_const_init_list,\n",
    "    'time_const_train_list' : time_const_train_list,\n",
    "    'test_accs' : test_accs,\n",
    "}\n",
    "file_save_tau_F3 = './results/F3/Tau_analysis_SHD.pkl'\n",
    "pickle.dump( dict_tau_F2, open( file_save_tau_F3, 'wb' ) )"
   ]
  },
  {
   "cell_type": "markdown",
   "metadata": {},
   "source": [
    "### MTS-XOR - time constant hierarchy emerging from training"
   ]
  },
  {
   "cell_type": "code",
   "execution_count": 3,
   "metadata": {},
   "outputs": [
    {
     "name": "stdout",
     "output_type": "stream",
     "text": [
      "-- Seed 0\n",
      "Validation Accuracy: 99.14\n",
      "Test Accuracy: 99.05\n",
      "-- Seed 1\n",
      "Validation Accuracy: 99.37\n",
      "Test Accuracy: 99.31\n",
      "-- Seed 2\n",
      "Validation Accuracy: 99.11\n",
      "Test Accuracy: 99.05\n",
      "-- Seed 3\n",
      "Validation Accuracy: 99.33\n",
      "Test Accuracy: 99.36\n",
      "-- Seed 4\n",
      "Validation Accuracy: 99.31\n",
      "Test Accuracy: 99.36\n"
     ]
    }
   ],
   "source": [
    "# Hyperparameter setting\n",
    "args.train_alpha = True\n",
    "args.hierarchy_tau = False\n",
    "args.distrib_tau = 'normal'\n",
    "args.recurrent = False\n",
    "args.n_layers = 4\n",
    "args.n_hid = 32 #10\n",
    "# time constants\n",
    "args.tau_mem = 0.2\n",
    "args.delta_tau = 0.0\n",
    "args.distrib_tau_sd = 0.0\n",
    "# LR and regularizers\n",
    "args.l2_alpha_sd = 1e-3\n",
    "args.n_epochs = 60\n",
    "args.verbose = False\n",
    "# task-specific parameters\n",
    "args.dataset_name = 'mts_xor'\n",
    "args.n_in = 40\n",
    "args.n_out = 2\n",
    "args.decoder = 'vmem_time'\n",
    "args.time_max = 1.0 # second\n",
    "args.timestep = args.time_max/args.nb_steps # second\n",
    "args.tau_out = 0.05\n",
    "args.distrib_tau_sd = 0.0\n",
    "args.batch_size = 512\n",
    "\n",
    "\n",
    "# pick 5 seeds and store the initial time constant\n",
    "seeds = [0,1,2,3,4]\n",
    "\n",
    "time_const_init_list, time_const_train_list = [], []\n",
    "test_accs = []\n",
    "for s in seeds:\n",
    "\n",
    "    print('-- Seed '+str(s))\n",
    "    args.seed = s\n",
    "    key = jax.random.PRNGKey(args.seed)\n",
    "    net_params, _ = params_initializer( key=key, args=args )\n",
    "    time_const_init_list.append( [net_params[i][1] for i in range(len(net_params)-1)] )\n",
    "\n",
    "    # Training and collecting the time constants\n",
    "    train_loss, test_acc, val_acc, net_params_train = train_hsnn( args = args, wandb_flag=False )\n",
    "    test_accs.append( test_acc )\n",
    "    time_const_train_list.append( [net_params_train[i][1] for i in range(len(net_params_train)-1)] )\n",
    "\n",
    "import pickle\n",
    "dict_tau_F2 = {\n",
    "    'args' : args, 'seeds' : seeds,\n",
    "    'time_const_init_list' :time_const_init_list,\n",
    "    'time_const_train_list' : time_const_train_list,\n",
    "    'test_accs' : test_accs,\n",
    "}\n",
    "file_save_tau_F3 = './results/F3/Tau_analysis_MSTXOR.pkl'\n",
    "pickle.dump( dict_tau_F2, open( file_save_tau_F3, 'wb' ) )"
   ]
  }
 ],
 "metadata": {
  "kernelspec": {
   "display_name": "denram",
   "language": "python",
   "name": "python3"
  },
  "language_info": {
   "codemirror_mode": {
    "name": "ipython",
    "version": 3
   },
   "file_extension": ".py",
   "mimetype": "text/x-python",
   "name": "python",
   "nbconvert_exporter": "python",
   "pygments_lexer": "ipython3",
   "version": "3.10.9"
  }
 },
 "nbformat": 4,
 "nbformat_minor": 2
}
